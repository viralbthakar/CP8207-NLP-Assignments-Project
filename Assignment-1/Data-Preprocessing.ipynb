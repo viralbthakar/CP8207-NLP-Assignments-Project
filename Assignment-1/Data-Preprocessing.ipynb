{
 "cells": [
  {
   "cell_type": "code",
   "execution_count": 1,
   "metadata": {},
   "outputs": [],
   "source": [
    "from utils import styled_print, create_dir, extract_images"
   ]
  },
  {
   "cell_type": "code",
   "execution_count": 2,
   "metadata": {},
   "outputs": [],
   "source": [
    "book_file_path = \"./data/fire-and-blood.docx\""
   ]
  },
  {
   "attachments": {},
   "cell_type": "markdown",
   "metadata": {},
   "source": [
    "## Extract Raw Data From the Docx File"
   ]
  },
  {
   "attachments": {},
   "cell_type": "markdown",
   "metadata": {},
   "source": [
    "Using Microsoft Word's Word Counter Tool, we found the following information:\n",
    "\n",
    "| Property      | Count |\n",
    "| ----------- | ----------- |\n",
    "| Pages       | 703         |\n",
    "| Words       | 256,032     |\n",
    "| Paragraphs  | 3197        |\n",
    "| Lines       | 23,849      |\n",
    "| Graphics    | 71          |\n",
    "| Characters (No Space) | 1,189,352 |\n",
    "| Characters (With Space) | 1,441,453 |\n",
    "\n",
    "We have used Microsoft Word's Advance Search Feature (Use flag `^g`) to find total number of graphical objects in our document.\n",
    "\n",
    "The goal of this part of code is to extract similar amount of data from our document. \n",
    "\n",
    "**Note** Our numbers might not exactly match these statics but we will try to capture numbers as close to these stats. "
   ]
  },
  {
   "attachments": {},
   "cell_type": "markdown",
   "metadata": {},
   "source": [
    "### Extract Images"
   ]
  },
  {
   "cell_type": "code",
   "execution_count": 3,
   "metadata": {},
   "outputs": [
    {
     "name": "stdout",
     "output_type": "stream",
     "text": [
      "\u001b[1m› \u001b[4mcreating directory ... ./data/images\u001b[0m\n",
      "\u001b[1m› \u001b[4mExtracting Images from ./data/fire-and-blood.docx\u001b[0m\n",
      "\u001b[1m› \u001b[4mFound Total 112 Images from the Book ./data/fire-and-blood.docx\u001b[0m\n"
     ]
    }
   ],
   "source": [
    "image_dir = create_dir(\"./data\", \"images\")\n",
    "image_file_paths = extract_images(book_file_path, image_dir, verbose=0)\n",
    "styled_print(f\"Found Total {len(image_file_paths)} Images from the Book {book_file_path}\", header=True)"
   ]
  },
  {
   "attachments": {},
   "cell_type": "markdown",
   "metadata": {},
   "source": [
    "**Observations**\n",
    "- As indicated here, we were able to find total 112 images from the book. \n",
    "- We have manually checked all the images to verify that there is no `Non-Image` object present. \n",
    "- We have found that our approach to extract images actually `extracted all the correct images` and it is much better that using Microsoft Word's Advance Search option to find images. "
   ]
  },
  {
   "cell_type": "code",
   "execution_count": null,
   "metadata": {},
   "outputs": [],
   "source": []
  }
 ],
 "metadata": {
  "kernelspec": {
   "display_name": "base",
   "language": "python",
   "name": "python3"
  },
  "language_info": {
   "codemirror_mode": {
    "name": "ipython",
    "version": 3
   },
   "file_extension": ".py",
   "mimetype": "text/x-python",
   "name": "python",
   "nbconvert_exporter": "python",
   "pygments_lexer": "ipython3",
   "version": "3.9.7"
  },
  "orig_nbformat": 4,
  "vscode": {
   "interpreter": {
    "hash": "f06e16917e80a15cd2bb7e8583eef781707530db1353f0af10ace1c052c129d4"
   }
  }
 },
 "nbformat": 4,
 "nbformat_minor": 2
}

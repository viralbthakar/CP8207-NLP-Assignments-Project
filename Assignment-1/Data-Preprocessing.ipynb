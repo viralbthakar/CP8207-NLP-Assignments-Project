{
 "cells": [
  {
   "cell_type": "code",
   "execution_count": 2,
   "metadata": {},
   "outputs": [],
   "source": [
    "from utils import styled_print, create_dir, extract_images, extract_paragraphs, \\\n",
    "    random_select_dict\n"
   ]
  },
  {
   "cell_type": "code",
   "execution_count": 1,
   "metadata": {},
   "outputs": [],
   "source": [
    "%load_ext autoreload\n",
    "%autoreload 2"
   ]
  },
  {
   "cell_type": "code",
   "execution_count": 3,
   "metadata": {},
   "outputs": [],
   "source": [
    "book_file_path = \"./data/fire-and-blood.docx\""
   ]
  },
  {
   "attachments": {},
   "cell_type": "markdown",
   "metadata": {},
   "source": [
    "## Extract Raw Data From the Docx File"
   ]
  },
  {
   "attachments": {},
   "cell_type": "markdown",
   "metadata": {},
   "source": [
    "Using Microsoft Word's Word Counter Tool, we found the following information:\n",
    "\n",
    "| Property      | Count |\n",
    "| ----------- | ----------- |\n",
    "| Pages       | 703         |\n",
    "| Words       | 256,032     |\n",
    "| Paragraphs  | 3197        |\n",
    "| Lines       | 23,849      |\n",
    "| Graphics    | 71          |\n",
    "| Characters (No Space) | 1,189,352 |\n",
    "| Characters (With Space) | 1,441,453 |\n",
    "\n",
    "We have used Microsoft Word's Advance Search Feature (Use flag `^g`) to find total number of graphical objects in our document.\n",
    "\n",
    "The goal of this part of code is to extract similar amount of data from our document. \n",
    "\n",
    "**Note** Our numbers might not exactly match these statics but we will try to capture numbers as close to these stats. "
   ]
  },
  {
   "attachments": {},
   "cell_type": "markdown",
   "metadata": {},
   "source": [
    "### Extract Images"
   ]
  },
  {
   "cell_type": "code",
   "execution_count": 4,
   "metadata": {},
   "outputs": [
    {
     "name": "stdout",
     "output_type": "stream",
     "text": [
      "\u001b[1m› \u001b[4mcreating directory ... ./data/images\u001b[0m\n",
      "\u001b[1m› \u001b[4mExtracting Images from ./data/fire-and-blood.docx\u001b[0m\n",
      "\u001b[1m› \u001b[4mFound Total 112 Images from the Book ./data/fire-and-blood.docx\u001b[0m\n"
     ]
    }
   ],
   "source": [
    "image_dir = create_dir(\"./data\", \"images\")\n",
    "image_file_paths = extract_images(book_file_path, image_dir, verbose=0)\n",
    "styled_print(f\"Found Total {len(image_file_paths)} Images from the Book {book_file_path}\", header=True)"
   ]
  },
  {
   "attachments": {},
   "cell_type": "markdown",
   "metadata": {},
   "source": [
    "**Observations**\n",
    "- As indicated here, we were able to find total 112 images from the book. \n",
    "- We have manually checked all the images to verify that there is no `Non-Image` object present. \n",
    "- We have found that our approach to extract images actually `extracted all the correct images` and it is much better that using Microsoft Word's Advance Search option to find images. "
   ]
  },
  {
   "attachments": {},
   "cell_type": "markdown",
   "metadata": {},
   "source": [
    "### Extract Paragraphs"
   ]
  },
  {
   "cell_type": "code",
   "execution_count": 5,
   "metadata": {},
   "outputs": [
    {
     "name": "stdout",
     "output_type": "stream",
     "text": [
      "\u001b[1m› \u001b[4mExtracting Paragraphs from ./data/fire-and-blood.docx\u001b[0m\n",
      "\u001b[1m› \u001b[4mFound Total 3168 Paragraphs from the Book ./data/fire-and-blood.docx\u001b[0m\n"
     ]
    }
   ],
   "source": [
    "paragraphs = extract_paragraphs(book_file_path, min_char_count=1)\n",
    "styled_print(f\"Found Total {len(paragraphs)} Paragraphs from the Book {book_file_path}\", header=True)"
   ]
  },
  {
   "cell_type": "code",
   "execution_count": 6,
   "metadata": {},
   "outputs": [
    {
     "name": "stdout",
     "output_type": "stream",
     "text": [
      "\u001b[1m› \u001b[4mSome Sample Paragraphs from the Book ./data/fire-and-blood.docx\u001b[0m\n",
      "    494 - It may be that conflict was inevitable, for the two brothers had very different natures. King Aenys loved his wife, his children, and his people, and wished only to be loved in turn. Sword and lance had lost whatever appeal they ever had for him. Instead His Grace dabbled in alchemy, astronomy, and astrology, delighted in music and dance, wore the finest silks, samites, and velvets, and enjoyed the company of maesters, septons, and wits. His brother, Maegor, taller, broader, and fearsomely strong, had no patience for any of that, but lived for war, tourneys, and battle. He was rightly regarded as one of the finest knights in Westeros, though his savagery in the field and his harshness toward defeated foes was oft remarked upon as well. King Aenys sought always to please; when faced with difficulties, he would answer\n",
      "    1542 - Elsewhere in the Red Keep, Queen Alysanne spent the morning with her children; Princess Daenerys had finally warmed to her brother, Aemon, though she still wanted a little sister. Septon Barth was in the library, Grand Maester Benifer in his rookery. Across the city, Lord Corbray was inspecting the men of the East Barracks of the City Watch, whilst Rego Draz entertained a young lady of negotiable virtue in his manse below the Dragonpit.\n",
      "    1010 - Over the years and centuries, as the book was copied and recopied, many changes and emendations crept into the text. The maesters who labor at the Citadel copying books are rigorously trained to reproduce the original word for word, but few mundane scribes are so disciplined. Such septons, septas, and holy sisters as copy and illuminate books for\n",
      "    2689 - “You must rule the realm now, until your brother is strong enough to take the crown again,” the King’s Hand told Prince Aemond. Nor did Ser Criston need to say it twice, writes Eustace. And so one-eyed Aemond the Kinslayer took up the iron-and-ruby crown of Aegon the Conqueror. “It looks better on me than it ever did on him,” the prince proclaimed. Yet Aemond did not assume the style of king, but named himself only Protector of the Realm and Prince Regent. Ser Criston Cole remained Hand of the King.\n",
      "    1160 - Mattheus departed four days later for Oldtown. Too corpulent to sit a horse, he traveled in a gilded wheelhouse, attended by six guardsmen and a dozen servants. Legend tells us that whilst crossing the Mander at Bitterbridge, he passed Septon Barth coming in the other direction. Barth was alone, riding on a donkey.\n"
     ]
    }
   ],
   "source": [
    "styled_print(f\"Some Sample Paragraphs from the Book {book_file_path}\", header=True)\n",
    "sampled_paragraphs = random_select_dict(paragraphs, 5)\n",
    "for key, val in sampled_paragraphs.items():\n",
    "    styled_print(f\"{key} - {val}\")\n"
   ]
  },
  {
   "cell_type": "code",
   "execution_count": null,
   "metadata": {},
   "outputs": [],
   "source": []
  }
 ],
 "metadata": {
  "kernelspec": {
   "display_name": "base",
   "language": "python",
   "name": "python3"
  },
  "language_info": {
   "codemirror_mode": {
    "name": "ipython",
    "version": 3
   },
   "file_extension": ".py",
   "mimetype": "text/x-python",
   "name": "python",
   "nbconvert_exporter": "python",
   "pygments_lexer": "ipython3",
   "version": "3.9.7"
  },
  "orig_nbformat": 4,
  "vscode": {
   "interpreter": {
    "hash": "f06e16917e80a15cd2bb7e8583eef781707530db1353f0af10ace1c052c129d4"
   }
  }
 },
 "nbformat": 4,
 "nbformat_minor": 2
}

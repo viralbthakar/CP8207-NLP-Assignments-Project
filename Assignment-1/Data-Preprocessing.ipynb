{
 "cells": [
  {
   "cell_type": "code",
   "execution_count": 1,
   "metadata": {},
   "outputs": [
    {
     "name": "stderr",
     "output_type": "stream",
     "text": [
      "[nltk_data] Downloading package stopwords to\n",
      "[nltk_data]     /Users/thakrav/nltk_data...\n",
      "[nltk_data]   Package stopwords is already up-to-date!\n",
      "[nltk_data] Downloading package punkt to /Users/thakrav/nltk_data...\n",
      "[nltk_data]   Package punkt is already up-to-date!\n",
      "[nltk_data] Downloading package wordnet to /Users/thakrav/nltk_data...\n",
      "[nltk_data]   Package wordnet is already up-to-date!\n",
      "[nltk_data] Downloading package omw-1.4 to /Users/thakrav/nltk_data...\n",
      "[nltk_data]   Package omw-1.4 is already up-to-date!\n"
     ]
    },
    {
     "data": {
      "text/plain": [
       "True"
      ]
     },
     "execution_count": 1,
     "metadata": {},
     "output_type": "execute_result"
    }
   ],
   "source": [
    "import nltk\n",
    "\n",
    "nltk.download('stopwords')\n",
    "nltk.download('punkt')\n",
    "nltk.download('wordnet')\n",
    "nltk.download('omw-1.4')"
   ]
  },
  {
   "cell_type": "code",
   "execution_count": 2,
   "metadata": {},
   "outputs": [],
   "source": [
    "from utils import big_data_dict, styled_print, create_dir, extract_images, extract_paragraphs, \\\n",
    "    random_select_dict\n"
   ]
  },
  {
   "cell_type": "code",
   "execution_count": 3,
   "metadata": {},
   "outputs": [],
   "source": [
    "%load_ext autoreload\n",
    "%autoreload 2"
   ]
  },
  {
   "cell_type": "code",
   "execution_count": 4,
   "metadata": {},
   "outputs": [],
   "source": [
    "book_file_path = \"./data/fire-and-blood.docx\""
   ]
  },
  {
   "attachments": {},
   "cell_type": "markdown",
   "metadata": {},
   "source": [
    "## Extract Raw Data From the Docx File"
   ]
  },
  {
   "attachments": {},
   "cell_type": "markdown",
   "metadata": {},
   "source": [
    "Using Microsoft Word's Word Counter Tool, we found the following information:\n",
    "\n",
    "| Property      | Count |\n",
    "| ----------- | ----------- |\n",
    "| Pages       | 703         |\n",
    "| Words       | 256,032     |\n",
    "| Paragraphs  | 3197        |\n",
    "| Lines       | 23,849      |\n",
    "| Graphics    | 71          |\n",
    "| Characters (No Space) | 1,189,352 |\n",
    "| Characters (With Space) | 1,441,453 |\n",
    "\n",
    "We have used Microsoft Word's Advance Search Feature (Use flag `^g`) to find total number of graphical objects in our document.\n",
    "\n",
    "The goal of this part of code is to extract similar amount of data from our document. \n",
    "\n",
    "**Note** Our numbers might not exactly match these statics but we will try to capture numbers as close to these stats. "
   ]
  },
  {
   "attachments": {},
   "cell_type": "markdown",
   "metadata": {},
   "source": [
    "### Extract Images"
   ]
  },
  {
   "cell_type": "code",
   "execution_count": 5,
   "metadata": {},
   "outputs": [
    {
     "name": "stdout",
     "output_type": "stream",
     "text": [
      "\u001b[1m› \u001b[4mcreating directory ... ./data/images\u001b[0m\n",
      "\u001b[1m› \u001b[4mExtracting Images from ./data/fire-and-blood.docx\u001b[0m\n",
      "\u001b[1m› \u001b[4mFound Total 112 Images from the Book ./data/fire-and-blood.docx\u001b[0m\n"
     ]
    }
   ],
   "source": [
    "image_dir = create_dir(\"./data\", \"images\")\n",
    "image_file_paths = extract_images(book_file_path, image_dir, verbose=0)\n",
    "styled_print(f\"Found Total {len(image_file_paths)} Images from the Book {book_file_path}\", header=True)"
   ]
  },
  {
   "cell_type": "code",
   "execution_count": 6,
   "metadata": {},
   "outputs": [],
   "source": [
    "for i, file_path in enumerate(image_file_paths):\n",
    "    big_data_dict[\"book-images\"].append(\n",
    "        {\n",
    "            \"id\": i,\n",
    "            \"file\": file_path\n",
    "        }\n",
    "    )"
   ]
  },
  {
   "attachments": {},
   "cell_type": "markdown",
   "metadata": {},
   "source": [
    "**Observations**\n",
    "- As indicated here, we were able to find total 112 images from the book. \n",
    "- We have manually checked all the images to verify that there is no `Non-Image` object present. \n",
    "- We have found that our approach to extract images actually `extracted all the correct images` and it is much better that using Microsoft Word's Advance Search option to find images. "
   ]
  },
  {
   "attachments": {},
   "cell_type": "markdown",
   "metadata": {},
   "source": [
    "### Extract Paragraphs"
   ]
  },
  {
   "cell_type": "code",
   "execution_count": 7,
   "metadata": {},
   "outputs": [
    {
     "name": "stdout",
     "output_type": "stream",
     "text": [
      "\u001b[1m› \u001b[4mExtracting Paragraphs from ./data/fire-and-blood.docx\u001b[0m\n",
      "\u001b[1m› \u001b[4mFound Total 3168 Paragraphs from the Book ./data/fire-and-blood.docx\u001b[0m\n"
     ]
    }
   ],
   "source": [
    "paragraphs = extract_paragraphs(book_file_path, min_char_count=1)\n",
    "styled_print(f\"Found Total {len(paragraphs)} Paragraphs from the Book {book_file_path}\", header=True)"
   ]
  },
  {
   "cell_type": "code",
   "execution_count": 8,
   "metadata": {},
   "outputs": [
    {
     "name": "stdout",
     "output_type": "stream",
     "text": [
      "\u001b[1m› \u001b[4mSome Sample Paragraphs from the Book ./data/fire-and-blood.docx\u001b[0m\n",
      "    3431 - In that same hour, Lady Baela Targaryen was being spirited away to safety by agents of Lord Larys the Clubfoot. Tom Tangletongue was surprised in the castle yards as he was leaving the stables, and beheaded forthwith. “He died as he had lived, stammering,” says Mushroom. His father Tom Tanglebeard was absent from the castle, but they found him in a tavern on Eel Alley. When he protested that he was “just a simple fisherman, come to have an ale,” his captors drowned him in a cask of same.\n",
      "    3657 - for three days and refused to say where she had been when she returned.\n",
      "    1957 - In the Vale, however, her sister Daella was not doing near as well. After a year and a half of marriage, a different sort of message arrived at the Red Keep by raven. It was very short, and written in Daella’s own uncertain hand. “I am with child,” it said. “Mother, please come. I am frightened.”\n",
      "    3499 - For six days King’s Landing trembled on the edge of a sword. In the pot shops and wine sinks of Flea Bottom, men placed wagers on how long the Clubfoot, the Sea Snake, the Flea, and the Dowager Queen would keep their heads. Rumors swept the city, one after the other. Some said that Lord Stark planned to take Prince Aegon back to Winterfell and wed him to one of his own daughters (an obvious falsehood, as Cregan Stark had no trueborn daughters at this time), others that Stark meant to put the boy to death so that he might marry Princess Jaehaera and claim the Iron Throne himself. The northmen would burn the city’s septs and force King’s Landing to return to the worship of the old gods, septons declared. Others whispered that the Lord of Winterfell had a wildling wife, that he threw his enemies into a pit of wolves to watch them be devoured.\n",
      "    376 - Many kings had champions to defend them. Aegon was the Lord of the Seven Kingdoms; therefore, he should have seven champions, Queen Visenya decided. Thus did the Kingsguard come into being; a brotherhood of seven knights, the finest in the realm, cloaked and\n"
     ]
    }
   ],
   "source": [
    "styled_print(f\"Some Sample Paragraphs from the Book {book_file_path}\", header=True)\n",
    "sampled_paragraphs = random_select_dict(paragraphs, 5)\n",
    "for key, val in sampled_paragraphs.items():\n",
    "    styled_print(f\"{key} - {val}\")"
   ]
  },
  {
   "cell_type": "code",
   "execution_count": 9,
   "metadata": {},
   "outputs": [],
   "source": [
    "for key, value in paragraphs.items():\n",
    "    big_data_dict[\"paragraphs\"].append(\n",
    "        {\n",
    "            \"id\": key,\n",
    "            \"text\": value\n",
    "        }\n",
    "    )"
   ]
  },
  {
   "attachments": {},
   "cell_type": "markdown",
   "metadata": {},
   "source": [
    "### Clean Paragraphs"
   ]
  },
  {
   "attachments": {},
   "cell_type": "markdown",
   "metadata": {},
   "source": [
    "#### Remove Punctuations"
   ]
  },
  {
   "cell_type": "code",
   "execution_count": null,
   "metadata": {},
   "outputs": [],
   "source": [
    "big_data_dict = {\n",
    "    \"paragraphs\":[\n",
    "        {\n",
    "            \"id\": \"paragraph\"\n",
    "            \"text\": \"sdfadf\"\n",
    "        }\n",
    "    ],\n",
    "    \"sentences\":[\n",
    "        {\n",
    "            \"id\": \"sentence\"\n",
    "            \"paragraph_id\": \"\",\n",
    "            \"snetiment\": \n",
    "            \"toke\"\n",
    "        }\n",
    "    ]\n",
    "    \"topics\":\n",
    "    \n",
    "}"
   ]
  }
 ],
 "metadata": {
  "kernelspec": {
   "display_name": "base",
   "language": "python",
   "name": "python3"
  },
  "language_info": {
   "codemirror_mode": {
    "name": "ipython",
    "version": 3
   },
   "file_extension": ".py",
   "mimetype": "text/x-python",
   "name": "python",
   "nbconvert_exporter": "python",
   "pygments_lexer": "ipython3",
   "version": "3.8.8"
  },
  "orig_nbformat": 4,
  "vscode": {
   "interpreter": {
    "hash": "40d3a090f54c6569ab1632332b64b2c03c39dcf918b08424e98f38b5ae0af88f"
   }
  }
 },
 "nbformat": 4,
 "nbformat_minor": 2
}

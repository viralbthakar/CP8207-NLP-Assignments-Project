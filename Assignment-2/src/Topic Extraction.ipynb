{
 "cells": [
  {
   "cell_type": "code",
   "execution_count": 2,
   "metadata": {},
   "outputs": [],
   "source": [
    "import numpy as np\n",
    "import pandas as pd\n",
    "import tensorflow as tf\n",
    "import seaborn as sns\n",
    "import matplotlib.pyplot as plt\n",
    "from sklearn.manifold import TSNE\n",
    "from sklearn.decomposition import PCA\n",
    "from sklearn.cluster import KMeans\n",
    "from nltk import word_tokenize\n",
    "from paragraph_analysis import ParagraphAnalysis"
   ]
  },
  {
   "cell_type": "code",
   "execution_count": 3,
   "metadata": {},
   "outputs": [
    {
     "name": "stdout",
     "output_type": "stream",
     "text": [
      "dict_keys(['id', 'paragraphs', 'words', 'word_count'])\n"
     ]
    }
   ],
   "source": [
    "data_csv = \"../data/clean_csvs/main.csv\"\n",
    "dataframe = pd.read_csv(data_csv)\n",
    "# dataframe = dataframe.drop([\"words\", \"word_count\"], axis=1)\n",
    "data_dict = dataframe.to_dict(orient=\"list\")\n",
    "print(data_dict.keys())"
   ]
  },
  {
   "cell_type": "code",
   "execution_count": 4,
   "metadata": {},
   "outputs": [
    {
     "name": "stdout",
     "output_type": "stream",
     "text": [
      "13693\n"
     ]
    },
    {
     "name": "stderr",
     "output_type": "stream",
     "text": [
      "<ipython-input-4-6f05b4d7c19e>:1: ParserWarning: Falling back to the 'python' engine because the 'c' engine does not support regex separators (separators > 1 char and different from '\\s+' are interpreted as regex); you can avoid this warning by specifying engine='python'.\n",
      "  vocab = pd.read_csv(\"../data/word2vec/logs/exp-03-main-clean-data-w10-nng5-ed300/metadata.tsv\", sep='/t', names=['words'])\n"
     ]
    },
    {
     "name": "stdout",
     "output_type": "stream",
     "text": [
      "(13693, 300)\n"
     ]
    }
   ],
   "source": [
    "vocab = pd.read_csv(\"../data/word2vec/logs/exp-03-main-clean-data-w10-nng5-ed300/metadata.tsv\", sep='/t', names=['words'])\n",
    "vocab = list(vocab[\"words\"])\n",
    "vocab.insert(0, \"<pad>\")\n",
    "print(len(vocab))\n",
    "\n",
    "word2vec_dir = \"../data/word2vec/logs/exp-03-main-clean-data-w10-nng5-ed300/tf-saved-model\"\n",
    "word2vec = tf.keras.models.load_model(word2vec_dir)\n",
    "target_embedding = word2vec.get_layer(\"w2v_target_embedding\")\n",
    "feature_vectors = word2vec.get_layer(\"w2v_target_embedding\").get_weights()[0]\n",
    "print(feature_vectors.shape)"
   ]
  },
  {
   "attachments": {},
   "cell_type": "markdown",
   "metadata": {},
   "source": [
    "## Dimensionality Reduction"
   ]
  },
  {
   "cell_type": "code",
   "execution_count": 5,
   "metadata": {},
   "outputs": [],
   "source": [
    "# Defining the number of principal components to generate\n",
    "n = feature_vectors.shape[1]\n",
    "\n",
    "# Finding principal components for the data\n",
    "pca1 = PCA(n_components = n, random_state = 1)\n",
    "feature_vectors_pca = pd.DataFrame(pca1.fit_transform(feature_vectors))\n",
    "\n",
    "# The percentage of variance explained by each principal component\n",
    "exp_var1 = pca1.explained_variance_ratio_"
   ]
  },
  {
   "cell_type": "code",
   "execution_count": 6,
   "metadata": {},
   "outputs": [
    {
     "data": {
      "image/png": "[encoded data removed]",
      "text/plain": [
       "<Figure size 864x864 with 1 Axes>"
      ]
     },
     "metadata": {
      "needs_background": "light"
     },
     "output_type": "display_data"
    }
   ],
   "source": [
    "plt.figure(figsize = (12, 12))\n",
    "plt.plot(range(1, n+1), pca1.explained_variance_ratio_.cumsum(), marker = 'o', linestyle = '--')\n",
    "plt.title(\"Explained Variances by Components\")\n",
    "plt.xlabel(\"Number of Components\")\n",
    "plt.ylabel(\"Cumulative Explained Variance\")\n",
    "plt.show()"
   ]
  },
  {
   "cell_type": "code",
   "execution_count": 7,
   "metadata": {},
   "outputs": [
    {
     "data": {
      "text/html": [
       "<div>\n",
       "<style scoped>\n",
       "    .dataframe tbody tr th:only-of-type {\n",
       "        vertical-align: middle;\n",
       "    }\n",
       "\n",
       "    .dataframe tbody tr th {\n",
       "        vertical-align: top;\n",
       "    }\n",
       "\n",
       "    .dataframe thead th {\n",
       "        text-align: right;\n",
       "    }\n",
       "</style>\n",
       "<table border=\"1\" class=\"dataframe\">\n",
       "  <thead>\n",
       "    <tr style=\"text-align: right;\">\n",
       "      <th></th>\n",
       "      <th>0</th>\n",
       "      <th>1</th>\n",
       "      <th>2</th>\n",
       "      <th>3</th>\n",
       "      <th>4</th>\n",
       "      <th>5</th>\n",
       "      <th>6</th>\n",
       "      <th>7</th>\n",
       "      <th>8</th>\n",
       "      <th>9</th>\n",
       "      <th>...</th>\n",
       "      <th>140</th>\n",
       "      <th>141</th>\n",
       "      <th>142</th>\n",
       "      <th>143</th>\n",
       "      <th>144</th>\n",
       "      <th>145</th>\n",
       "      <th>146</th>\n",
       "      <th>147</th>\n",
       "      <th>148</th>\n",
       "      <th>149</th>\n",
       "    </tr>\n",
       "  </thead>\n",
       "  <tbody>\n",
       "    <tr>\n",
       "      <th>0</th>\n",
       "      <td>-0.080633</td>\n",
       "      <td>-0.339742</td>\n",
       "      <td>0.060962</td>\n",
       "      <td>-0.162349</td>\n",
       "      <td>-0.000181</td>\n",
       "      <td>0.348971</td>\n",
       "      <td>-0.138869</td>\n",
       "      <td>-0.247111</td>\n",
       "      <td>0.113249</td>\n",
       "      <td>-0.074337</td>\n",
       "      <td>...</td>\n",
       "      <td>0.033016</td>\n",
       "      <td>-0.020256</td>\n",
       "      <td>0.031673</td>\n",
       "      <td>0.020877</td>\n",
       "      <td>0.044564</td>\n",
       "      <td>0.044310</td>\n",
       "      <td>-0.037089</td>\n",
       "      <td>0.021026</td>\n",
       "      <td>0.046426</td>\n",
       "      <td>0.012434</td>\n",
       "    </tr>\n",
       "    <tr>\n",
       "      <th>1</th>\n",
       "      <td>-0.111074</td>\n",
       "      <td>-0.291059</td>\n",
       "      <td>0.043339</td>\n",
       "      <td>-0.205847</td>\n",
       "      <td>0.015798</td>\n",
       "      <td>0.281047</td>\n",
       "      <td>-0.146036</td>\n",
       "      <td>-0.252617</td>\n",
       "      <td>0.213548</td>\n",
       "      <td>-0.033838</td>\n",
       "      <td>...</td>\n",
       "      <td>0.039204</td>\n",
       "      <td>-0.009636</td>\n",
       "      <td>-0.042728</td>\n",
       "      <td>0.054264</td>\n",
       "      <td>-0.003717</td>\n",
       "      <td>0.021227</td>\n",
       "      <td>-0.016509</td>\n",
       "      <td>0.052094</td>\n",
       "      <td>0.037118</td>\n",
       "      <td>-0.015507</td>\n",
       "    </tr>\n",
       "    <tr>\n",
       "      <th>2</th>\n",
       "      <td>-0.685187</td>\n",
       "      <td>-0.453449</td>\n",
       "      <td>0.495171</td>\n",
       "      <td>-0.017387</td>\n",
       "      <td>0.464810</td>\n",
       "      <td>-0.293528</td>\n",
       "      <td>-0.114291</td>\n",
       "      <td>-0.546689</td>\n",
       "      <td>-0.388432</td>\n",
       "      <td>0.447147</td>\n",
       "      <td>...</td>\n",
       "      <td>-0.459426</td>\n",
       "      <td>-0.183893</td>\n",
       "      <td>-0.189219</td>\n",
       "      <td>0.132707</td>\n",
       "      <td>0.067898</td>\n",
       "      <td>-0.045552</td>\n",
       "      <td>-0.697255</td>\n",
       "      <td>-0.280219</td>\n",
       "      <td>0.383632</td>\n",
       "      <td>-0.144556</td>\n",
       "    </tr>\n",
       "    <tr>\n",
       "      <th>3</th>\n",
       "      <td>-1.175460</td>\n",
       "      <td>-0.896849</td>\n",
       "      <td>-0.590734</td>\n",
       "      <td>-0.294970</td>\n",
       "      <td>-0.344146</td>\n",
       "      <td>-0.076465</td>\n",
       "      <td>-0.070229</td>\n",
       "      <td>-0.465488</td>\n",
       "      <td>0.103392</td>\n",
       "      <td>0.412492</td>\n",
       "      <td>...</td>\n",
       "      <td>-0.039685</td>\n",
       "      <td>-0.082721</td>\n",
       "      <td>0.280295</td>\n",
       "      <td>0.458599</td>\n",
       "      <td>0.239444</td>\n",
       "      <td>-0.262163</td>\n",
       "      <td>-0.132226</td>\n",
       "      <td>0.393329</td>\n",
       "      <td>-0.062030</td>\n",
       "      <td>-0.148358</td>\n",
       "    </tr>\n",
       "    <tr>\n",
       "      <th>4</th>\n",
       "      <td>-0.972573</td>\n",
       "      <td>-1.003318</td>\n",
       "      <td>-0.684765</td>\n",
       "      <td>0.178053</td>\n",
       "      <td>-0.337538</td>\n",
       "      <td>0.522946</td>\n",
       "      <td>0.639837</td>\n",
       "      <td>-0.305950</td>\n",
       "      <td>0.375194</td>\n",
       "      <td>0.688142</td>\n",
       "      <td>...</td>\n",
       "      <td>-0.333164</td>\n",
       "      <td>-0.588114</td>\n",
       "      <td>-0.113584</td>\n",
       "      <td>-0.197292</td>\n",
       "      <td>0.084713</td>\n",
       "      <td>-0.194422</td>\n",
       "      <td>0.084187</td>\n",
       "      <td>-0.245825</td>\n",
       "      <td>0.123607</td>\n",
       "      <td>0.156569</td>\n",
       "    </tr>\n",
       "    <tr>\n",
       "      <th>...</th>\n",
       "      <td>...</td>\n",
       "      <td>...</td>\n",
       "      <td>...</td>\n",
       "      <td>...</td>\n",
       "      <td>...</td>\n",
       "      <td>...</td>\n",
       "      <td>...</td>\n",
       "      <td>...</td>\n",
       "      <td>...</td>\n",
       "      <td>...</td>\n",
       "      <td>...</td>\n",
       "      <td>...</td>\n",
       "      <td>...</td>\n",
       "      <td>...</td>\n",
       "      <td>...</td>\n",
       "      <td>...</td>\n",
       "      <td>...</td>\n",
       "      <td>...</td>\n",
       "      <td>...</td>\n",
       "      <td>...</td>\n",
       "      <td>...</td>\n",
       "    </tr>\n",
       "    <tr>\n",
       "      <th>13688</th>\n",
       "      <td>0.420269</td>\n",
       "      <td>-1.337648</td>\n",
       "      <td>-0.170112</td>\n",
       "      <td>-0.216774</td>\n",
       "      <td>0.224109</td>\n",
       "      <td>0.347056</td>\n",
       "      <td>-0.305748</td>\n",
       "      <td>-0.163965</td>\n",
       "      <td>0.392458</td>\n",
       "      <td>0.278397</td>\n",
       "      <td>...</td>\n",
       "      <td>0.051312</td>\n",
       "      <td>0.036164</td>\n",
       "      <td>0.018829</td>\n",
       "      <td>-0.084178</td>\n",
       "      <td>-0.094045</td>\n",
       "      <td>0.038009</td>\n",
       "      <td>-0.011240</td>\n",
       "      <td>-0.073801</td>\n",
       "      <td>-0.028825</td>\n",
       "      <td>0.050860</td>\n",
       "    </tr>\n",
       "    <tr>\n",
       "      <th>13689</th>\n",
       "      <td>0.236992</td>\n",
       "      <td>-0.125997</td>\n",
       "      <td>0.628215</td>\n",
       "      <td>-0.219083</td>\n",
       "      <td>0.210182</td>\n",
       "      <td>-0.060514</td>\n",
       "      <td>0.809354</td>\n",
       "      <td>0.278722</td>\n",
       "      <td>0.318272</td>\n",
       "      <td>0.753686</td>\n",
       "      <td>...</td>\n",
       "      <td>0.058803</td>\n",
       "      <td>0.151988</td>\n",
       "      <td>0.284365</td>\n",
       "      <td>-0.225452</td>\n",
       "      <td>0.041863</td>\n",
       "      <td>-0.250424</td>\n",
       "      <td>0.123224</td>\n",
       "      <td>-0.016292</td>\n",
       "      <td>0.273585</td>\n",
       "      <td>-0.022330</td>\n",
       "    </tr>\n",
       "    <tr>\n",
       "      <th>13690</th>\n",
       "      <td>0.176220</td>\n",
       "      <td>-0.188592</td>\n",
       "      <td>-0.183690</td>\n",
       "      <td>-0.254645</td>\n",
       "      <td>-0.105891</td>\n",
       "      <td>0.592737</td>\n",
       "      <td>-0.230378</td>\n",
       "      <td>-0.404906</td>\n",
       "      <td>0.210594</td>\n",
       "      <td>-0.196128</td>\n",
       "      <td>...</td>\n",
       "      <td>-0.186827</td>\n",
       "      <td>-0.004754</td>\n",
       "      <td>0.028994</td>\n",
       "      <td>-0.059245</td>\n",
       "      <td>-0.084834</td>\n",
       "      <td>-0.192964</td>\n",
       "      <td>-0.125118</td>\n",
       "      <td>-0.221617</td>\n",
       "      <td>-0.012414</td>\n",
       "      <td>0.099249</td>\n",
       "    </tr>\n",
       "    <tr>\n",
       "      <th>13691</th>\n",
       "      <td>1.034549</td>\n",
       "      <td>0.227421</td>\n",
       "      <td>-0.121284</td>\n",
       "      <td>-0.431454</td>\n",
       "      <td>-0.009288</td>\n",
       "      <td>0.164519</td>\n",
       "      <td>-0.871513</td>\n",
       "      <td>-0.624442</td>\n",
       "      <td>0.335627</td>\n",
       "      <td>-0.343586</td>\n",
       "      <td>...</td>\n",
       "      <td>-0.026379</td>\n",
       "      <td>-0.078034</td>\n",
       "      <td>0.011640</td>\n",
       "      <td>0.205797</td>\n",
       "      <td>-0.019713</td>\n",
       "      <td>-0.025654</td>\n",
       "      <td>-0.275533</td>\n",
       "      <td>-0.278992</td>\n",
       "      <td>-0.170011</td>\n",
       "      <td>-0.091595</td>\n",
       "    </tr>\n",
       "    <tr>\n",
       "      <th>13692</th>\n",
       "      <td>0.889907</td>\n",
       "      <td>0.147934</td>\n",
       "      <td>-0.182943</td>\n",
       "      <td>-0.517229</td>\n",
       "      <td>-0.055528</td>\n",
       "      <td>0.418409</td>\n",
       "      <td>-0.985443</td>\n",
       "      <td>-0.438787</td>\n",
       "      <td>0.515811</td>\n",
       "      <td>-0.447832</td>\n",
       "      <td>...</td>\n",
       "      <td>-0.071894</td>\n",
       "      <td>-0.053539</td>\n",
       "      <td>-0.175184</td>\n",
       "      <td>0.072860</td>\n",
       "      <td>0.079182</td>\n",
       "      <td>-0.005626</td>\n",
       "      <td>-0.254064</td>\n",
       "      <td>-0.192664</td>\n",
       "      <td>-0.178087</td>\n",
       "      <td>-0.051131</td>\n",
       "    </tr>\n",
       "  </tbody>\n",
       "</table>\n",
       "<p>13693 rows × 150 columns</p>\n",
       "</div>"
      ],
      "text/plain": [
       "            0         1         2         3         4         5         6    \\\n",
       "0     -0.080633 -0.339742  0.060962 -0.162349 -0.000181  0.348971 -0.138869   \n",
       "1     -0.111074 -0.291059  0.043339 -0.205847  0.015798  0.281047 -0.146036   \n",
       "2     -0.685187 -0.453449  0.495171 -0.017387  0.464810 -0.293528 -0.114291   \n",
       "3     -1.175460 -0.896849 -0.590734 -0.294970 -0.344146 -0.076465 -0.070229   \n",
       "4     -0.972573 -1.003318 -0.684765  0.178053 -0.337538  0.522946  0.639837   \n",
       "...         ...       ...       ...       ...       ...       ...       ...   \n",
       "13688  0.420269 -1.337648 -0.170112 -0.216774  0.224109  0.347056 -0.305748   \n",
       "13689  0.236992 -0.125997  0.628215 -0.219083  0.210182 -0.060514  0.809354   \n",
       "13690  0.176220 -0.188592 -0.183690 -0.254645 -0.105891  0.592737 -0.230378   \n",
       "13691  1.034549  0.227421 -0.121284 -0.431454 -0.009288  0.164519 -0.871513   \n",
       "13692  0.889907  0.147934 -0.182943 -0.517229 -0.055528  0.418409 -0.985443   \n",
       "\n",
       "            7         8         9    ...       140       141       142  \\\n",
       "0     -0.247111  0.113249 -0.074337  ...  0.033016 -0.020256  0.031673   \n",
       "1     -0.252617  0.213548 -0.033838  ...  0.039204 -0.009636 -0.042728   \n",
       "2     -0.546689 -0.388432  0.447147  ... -0.459426 -0.183893 -0.189219   \n",
       "3     -0.465488  0.103392  0.412492  ... -0.039685 -0.082721  0.280295   \n",
       "4     -0.305950  0.375194  0.688142  ... -0.333164 -0.588114 -0.113584   \n",
       "...         ...       ...       ...  ...       ...       ...       ...   \n",
       "13688 -0.163965  0.392458  0.278397  ...  0.051312  0.036164  0.018829   \n",
       "13689  0.278722  0.318272  0.753686  ...  0.058803  0.151988  0.284365   \n",
       "13690 -0.404906  0.210594 -0.196128  ... -0.186827 -0.004754  0.028994   \n",
       "13691 -0.624442  0.335627 -0.343586  ... -0.026379 -0.078034  0.011640   \n",
       "13692 -0.438787  0.515811 -0.447832  ... -0.071894 -0.053539 -0.175184   \n",
       "\n",
       "            143       144       145       146       147       148       149  \n",
       "0      0.020877  0.044564  0.044310 -0.037089  0.021026  0.046426  0.012434  \n",
       "1      0.054264 -0.003717  0.021227 -0.016509  0.052094  0.037118 -0.015507  \n",
       "2      0.132707  0.067898 -0.045552 -0.697255 -0.280219  0.383632 -0.144556  \n",
       "3      0.458599  0.239444 -0.262163 -0.132226  0.393329 -0.062030 -0.148358  \n",
       "4     -0.197292  0.084713 -0.194422  0.084187 -0.245825  0.123607  0.156569  \n",
       "...         ...       ...       ...       ...       ...       ...       ...  \n",
       "13688 -0.084178 -0.094045  0.038009 -0.011240 -0.073801 -0.028825  0.050860  \n",
       "13689 -0.225452  0.041863 -0.250424  0.123224 -0.016292  0.273585 -0.022330  \n",
       "13690 -0.059245 -0.084834 -0.192964 -0.125118 -0.221617 -0.012414  0.099249  \n",
       "13691  0.205797 -0.019713 -0.025654 -0.275533 -0.278992 -0.170011 -0.091595  \n",
       "13692  0.072860  0.079182 -0.005626 -0.254064 -0.192664 -0.178087 -0.051131  \n",
       "\n",
       "[13693 rows x 150 columns]"
      ]
     },
     "execution_count": 7,
     "metadata": {},
     "output_type": "execute_result"
    }
   ],
   "source": [
    "# Finding principal components for the data\n",
    "pca = PCA(n_components = 150, random_state = 1)\n",
    "feature_vectors_pca = pd.DataFrame(pca.fit_transform(feature_vectors))\n",
    "feature_vectors_pca"
   ]
  },
  {
   "attachments": {},
   "cell_type": "markdown",
   "metadata": {},
   "source": [
    "## k-Means Clustering on Feature Space"
   ]
  },
  {
   "attachments": {},
   "cell_type": "markdown",
   "metadata": {},
   "source": []
  },
  {
   "cell_type": "code",
   "execution_count": 8,
   "metadata": {},
   "outputs": [
    {
     "name": "stderr",
     "output_type": "stream",
     "text": [
      "/opt/anaconda3/lib/python3.8/site-packages/sklearn/cluster/_kmeans.py:870: FutureWarning: The default value of `n_init` will change from 10 to 'auto' in 1.4. Set the value of `n_init` explicitly to suppress the warning\n",
      "  warnings.warn(\n",
      "/opt/anaconda3/lib/python3.8/site-packages/sklearn/cluster/_kmeans.py:870: FutureWarning: The default value of `n_init` will change from 10 to 'auto' in 1.4. Set the value of `n_init` explicitly to suppress the warning\n",
      "  warnings.warn(\n",
      "/opt/anaconda3/lib/python3.8/site-packages/sklearn/cluster/_kmeans.py:870: FutureWarning: The default value of `n_init` will change from 10 to 'auto' in 1.4. Set the value of `n_init` explicitly to suppress the warning\n",
      "  warnings.warn(\n",
      "/opt/anaconda3/lib/python3.8/site-packages/sklearn/cluster/_kmeans.py:870: FutureWarning: The default value of `n_init` will change from 10 to 'auto' in 1.4. Set the value of `n_init` explicitly to suppress the warning\n",
      "  warnings.warn(\n",
      "/opt/anaconda3/lib/python3.8/site-packages/sklearn/cluster/_kmeans.py:870: FutureWarning: The default value of `n_init` will change from 10 to 'auto' in 1.4. Set the value of `n_init` explicitly to suppress the warning\n",
      "  warnings.warn(\n",
      "/opt/anaconda3/lib/python3.8/site-packages/sklearn/cluster/_kmeans.py:870: FutureWarning: The default value of `n_init` will change from 10 to 'auto' in 1.4. Set the value of `n_init` explicitly to suppress the warning\n",
      "  warnings.warn(\n",
      "/opt/anaconda3/lib/python3.8/site-packages/sklearn/cluster/_kmeans.py:870: FutureWarning: The default value of `n_init` will change from 10 to 'auto' in 1.4. Set the value of `n_init` explicitly to suppress the warning\n",
      "  warnings.warn(\n",
      "/opt/anaconda3/lib/python3.8/site-packages/sklearn/cluster/_kmeans.py:870: FutureWarning: The default value of `n_init` will change from 10 to 'auto' in 1.4. Set the value of `n_init` explicitly to suppress the warning\n",
      "  warnings.warn(\n",
      "/opt/anaconda3/lib/python3.8/site-packages/sklearn/cluster/_kmeans.py:870: FutureWarning: The default value of `n_init` will change from 10 to 'auto' in 1.4. Set the value of `n_init` explicitly to suppress the warning\n",
      "  warnings.warn(\n"
     ]
    },
    {
     "data": {
      "image/png": "[encoded data removed]",
      "text/plain": [
       "<Figure size 432x288 with 1 Axes>"
      ]
     },
     "metadata": {
      "needs_background": "light"
     },
     "output_type": "display_data"
    }
   ],
   "source": [
    "# Empty dictionary to store the SSE for each value of K\n",
    "sse = {} \n",
    "\n",
    "# Iterate for a range of Ks and fit the scaled data to the algorithm. \n",
    "# Use inertia attribute from the clustering object and store the inertia value for that K \n",
    "for k in range(1, 10):\n",
    "    kmeans = KMeans(n_clusters = k, random_state = 1).fit(feature_vectors_pca)\n",
    "    sse[k] = kmeans.inertia_\n",
    "\n",
    "# Elbow plot\n",
    "plt.figure()\n",
    "plt.plot(list(sse.keys()), list(sse.values()), 'bx-')\n",
    "plt.xlabel(\"Number of cluster\")\n",
    "plt.ylabel(\"SSE\")\n",
    "plt.show()"
   ]
  },
  {
   "cell_type": "code",
   "execution_count": 9,
   "metadata": {},
   "outputs": [
    {
     "name": "stderr",
     "output_type": "stream",
     "text": [
      "/opt/anaconda3/lib/python3.8/site-packages/sklearn/cluster/_kmeans.py:870: FutureWarning: The default value of `n_init` will change from 10 to 'auto' in 1.4. Set the value of `n_init` explicitly to suppress the warning\n",
      "  warnings.warn(\n",
      "/opt/anaconda3/lib/python3.8/site-packages/sklearn/cluster/_kmeans.py:870: FutureWarning: The default value of `n_init` will change from 10 to 'auto' in 1.4. Set the value of `n_init` explicitly to suppress the warning\n",
      "  warnings.warn(\n",
      "/opt/anaconda3/lib/python3.8/site-packages/sklearn/cluster/_kmeans.py:870: FutureWarning: The default value of `n_init` will change from 10 to 'auto' in 1.4. Set the value of `n_init` explicitly to suppress the warning\n",
      "  warnings.warn(\n",
      "/opt/anaconda3/lib/python3.8/site-packages/sklearn/cluster/_kmeans.py:870: FutureWarning: The default value of `n_init` will change from 10 to 'auto' in 1.4. Set the value of `n_init` explicitly to suppress the warning\n",
      "  warnings.warn(\n",
      "/opt/anaconda3/lib/python3.8/site-packages/sklearn/cluster/_kmeans.py:870: FutureWarning: The default value of `n_init` will change from 10 to 'auto' in 1.4. Set the value of `n_init` explicitly to suppress the warning\n",
      "  warnings.warn(\n",
      "/opt/anaconda3/lib/python3.8/site-packages/sklearn/cluster/_kmeans.py:870: FutureWarning: The default value of `n_init` will change from 10 to 'auto' in 1.4. Set the value of `n_init` explicitly to suppress the warning\n",
      "  warnings.warn(\n",
      "/opt/anaconda3/lib/python3.8/site-packages/sklearn/cluster/_kmeans.py:870: FutureWarning: The default value of `n_init` will change from 10 to 'auto' in 1.4. Set the value of `n_init` explicitly to suppress the warning\n",
      "  warnings.warn(\n",
      "/opt/anaconda3/lib/python3.8/site-packages/sklearn/cluster/_kmeans.py:870: FutureWarning: The default value of `n_init` will change from 10 to 'auto' in 1.4. Set the value of `n_init` explicitly to suppress the warning\n",
      "  warnings.warn(\n"
     ]
    },
    {
     "data": {
      "image/png": "[encoded data removed]",
      "text/plain": [
       "<Figure size 432x288 with 1 Axes>"
      ]
     },
     "metadata": {
      "needs_background": "light"
     },
     "output_type": "display_data"
    }
   ],
   "source": [
    "from sklearn.metrics import silhouette_score\n",
    "# Empty dictionary to store the Silhouette score for each value of K\n",
    "sc = {} \n",
    "# Iterate for a range of Ks and fit the scaled data to the algorithm. Store the Silhouette score for that K \n",
    "for k in range(2, 10):\n",
    "    kmeans = KMeans(n_clusters = k, random_state = 1).fit(feature_vectors_pca)\n",
    "    labels = kmeans.predict(feature_vectors_pca)\n",
    "    sc[k] = silhouette_score(feature_vectors_pca, labels)\n",
    "\n",
    "# Elbow plot\n",
    "plt.figure()\n",
    "plt.plot(list(sc.keys()), list(sc.values()), 'bx-')\n",
    "plt.xlabel(\"Number of cluster\")\n",
    "plt.ylabel(\"Silhouette Score\")\n",
    "plt.show()"
   ]
  },
  {
   "cell_type": "code",
   "execution_count": 10,
   "metadata": {},
   "outputs": [
    {
     "name": "stderr",
     "output_type": "stream",
     "text": [
      "/opt/anaconda3/lib/python3.8/site-packages/sklearn/cluster/_kmeans.py:870: FutureWarning: The default value of `n_init` will change from 10 to 'auto' in 1.4. Set the value of `n_init` explicitly to suppress the warning\n",
      "  warnings.warn(\n"
     ]
    },
    {
     "name": "stdout",
     "output_type": "stream",
     "text": [
      "(13693,)\n"
     ]
    }
   ],
   "source": [
    "kmeans = KMeans(n_clusters = 5, random_state = 1)\n",
    "kmeans.fit(feature_vectors_pca)\n",
    "\n",
    "x = kmeans.predict(feature_vectors_pca)\n",
    "print(x.shape)\n",
    "\n",
    "# Adding predicted labels to the original data and the scaled data \n",
    "df = pd.DataFrame(kmeans.predict(feature_vectors_pca), index=vocab, columns=[\"clusterID\"])"
   ]
  },
  {
   "cell_type": "code",
   "execution_count": 11,
   "metadata": {},
   "outputs": [
    {
     "data": {
      "text/html": [
       "<div>\n",
       "<style scoped>\n",
       "    .dataframe tbody tr th:only-of-type {\n",
       "        vertical-align: middle;\n",
       "    }\n",
       "\n",
       "    .dataframe tbody tr th {\n",
       "        vertical-align: top;\n",
       "    }\n",
       "\n",
       "    .dataframe thead th {\n",
       "        text-align: right;\n",
       "    }\n",
       "</style>\n",
       "<table border=\"1\" class=\"dataframe\">\n",
       "  <thead>\n",
       "    <tr style=\"text-align: right;\">\n",
       "      <th></th>\n",
       "      <th>clusterID</th>\n",
       "    </tr>\n",
       "  </thead>\n",
       "  <tbody>\n",
       "    <tr>\n",
       "      <th>&lt;pad&gt;</th>\n",
       "      <td>4</td>\n",
       "    </tr>\n",
       "    <tr>\n",
       "      <th>[UNK]</th>\n",
       "      <td>4</td>\n",
       "    </tr>\n",
       "    <tr>\n",
       "      <th>’</th>\n",
       "      <td>0</td>\n",
       "    </tr>\n",
       "    <tr>\n",
       "      <th>“</th>\n",
       "      <td>4</td>\n",
       "    </tr>\n",
       "    <tr>\n",
       "      <th>”</th>\n",
       "      <td>4</td>\n",
       "    </tr>\n",
       "    <tr>\n",
       "      <th>...</th>\n",
       "      <td>...</td>\n",
       "    </tr>\n",
       "    <tr>\n",
       "      <th>103–129</th>\n",
       "      <td>2</td>\n",
       "    </tr>\n",
       "    <tr>\n",
       "      <th>103–</th>\n",
       "      <td>0</td>\n",
       "    </tr>\n",
       "    <tr>\n",
       "      <th>0b6num8iske91jpg</th>\n",
       "      <td>4</td>\n",
       "    </tr>\n",
       "    <tr>\n",
       "      <th>08</th>\n",
       "      <td>3</td>\n",
       "    </tr>\n",
       "    <tr>\n",
       "      <th>03</th>\n",
       "      <td>3</td>\n",
       "    </tr>\n",
       "  </tbody>\n",
       "</table>\n",
       "<p>13693 rows × 1 columns</p>\n",
       "</div>"
      ],
      "text/plain": [
       "                  clusterID\n",
       "<pad>                     4\n",
       "[UNK]                     4\n",
       "’                         0\n",
       "“                         4\n",
       "”                         4\n",
       "...                     ...\n",
       "103–129                   2\n",
       "103–                      0\n",
       "0b6num8iske91jpg          4\n",
       "08                        3\n",
       "03                        3\n",
       "\n",
       "[13693 rows x 1 columns]"
      ]
     },
     "execution_count": 11,
     "metadata": {},
     "output_type": "execute_result"
    }
   ],
   "source": [
    "df"
   ]
  },
  {
   "cell_type": "code",
   "execution_count": 12,
   "metadata": {},
   "outputs": [],
   "source": [
    "grouped = df.groupby(\"clusterID\")\n",
    "topics = []\n",
    "for clusterID, group in grouped:\n",
    "    topics.append(list(group.index))"
   ]
  },
  {
   "cell_type": "code",
   "execution_count": 13,
   "metadata": {},
   "outputs": [
    {
     "name": "stdout",
     "output_type": "stream",
     "text": [
      "['’', 'King', 'Ser', 'king', 'men', 'Landing', 'Velaryon', 'Lady', 'even', 'three', 'knight', 'Red', 'Hand', 'still', 'new', 'whilst', 'hand', 'half', 'court', 'died', 'put', 'Though', 'ship', 'sword', 'known', 'Westeros', 'place', 'gold', 'Sea', 'Seven', 'war', 'hundred', 'began', 'Kingsguard', 'across', 'age', 'part', 'turned', 'royal', 'remained', 'Oldtown', 'next', 'thousand', 'High', 'Baratheon', 'good', 'White', 'II', 'Even', 'amongst', 'Stark', 'Peake', 'Harrenhal', 'command', 'six', 'fleet', 'Snake', 'proved', 'Lannister', 'turn', 'Storm', 'house', 'Kingdoms', 'lost', 'held', 'Vale', 'Lys', 'land', 'End', 'seat', 'island', 'With', 'reached', 'master', 'keep', 'Great', 'whose', 'friend', 'Larys', 'lordship', 'Tyland', 'Joffrey', 'white', 'rest', 'beyond', 'Only', 'regent', 'others', 'host', 'smallfolk', 'fight', 'Lyonel', 'south', 'raven', 'commanded', 'wine', 'Manderly', 'Borros', 'making', 'cousin', 'Winterfell', 'peace', 'coin', 'strength', 'Watch', 'Braavos', 'Unwin', 'Rowan', 'Nor', 'Daeron', 'Three', 'So', 'led', 'feast', 'To', 'Dance', 'squire', 'Blackwood', 'town', 'army', 'Marston', 'Cregan', 'send', 'save', 'fighting', 'narrow', 'finally', 'Oakenfist', 'chose', 'appeared', 'Tumbleton', 'Hill', 'Rock', 'Harbor', 'Dornish', 'Casterly', 'short', 'fled', 'Tyrosh', 'City', 'note', 'fought', 'Rogare', 'Mooton', 'traitor', 'Dorne', 'west', 'plan', 'Commander', 'number', 'favor', 'close', 'Tully', 'Robert', 'term', 'serving', 'rode', 'remain', 'forward', 'companion', 'banner', 'office', 'joined', 'Redwyne', 'Maidenpool', 'Jaehaera', 'Gate', 'widow', 'voyage', 'ruled', 'remains', 'join', 'slain', 'moved', 'inside', 'dungeon', 'Waters', 'Addam', 'visit', 'tourney', 'stood', 'pas', 'loss', 'arrived', 'Beesbury', 'kept', 'Tides', 'Their', 'From', 'Celtigar', 'wealth', 'northman', 'outside', 'letter', 'Winter', 'Many', 'Hall', 'prove', 'fortnight', 'company', 'Isle', 'Corbray', 'Clubfoot', 'service', 'sept', 'noble', 'mayhaps', 'favorite', 'accompanied', 'Lords', 'step', 'hill', 'flight', 'change', 'Two', 'Gulltown', 'Fair', 'victory', 'suffered', 'seized', 'rival', 'insisted', 'chosen', 'Reach', 'Perkin', 'Jeyne', 'Crown', 'ordered', 'fate', 'eight', 'east', 'blade', 'agree', 'Ormund', 'spread', 'required', 'remaining', 'received', 'quick', 'presence', 'decision', 'considered', 'threat', 'shore', 'seek', 'rumor', 'possible', 'march', 'leading', 'admiral', 'Riverrun', 'Racallio', 'Lyseni', 'Boremund', 'Bank', 'wore', 'suggested', 'protect', 'party', 'lead', 'including', 'ill', 'emerged', 'bringing', 'Whilst', 'Volantis', 'Velaryons', 'Torrhen', 'Sam', 'Gullet', 'summoned', 'placed', 'garrison', 'forced', 'Visenya', 'Holdfast', 'visited', 'savage', 'perished', 'case', 'alike', 'War', 'Hightowers', 'Braavosi', 'loyalty', 'holding', 'dragonriders', 'decreed', 'Trident', 'Others', 'Maiden', 'Kraken', 'Hull', 'During', 'Both', 'urged', 'struggle', 'riverlords', 'plot', 'especially', 'accused', 'Night', 'Lannisport', 'Islands', 'Highgarden', 'win', 'thereafter', 'swore', 'seeking', 'mummer', 'mad', 'granted', 'coronation', 'bad', 'Thaddeus', 'Rivers', 'Meanwhile', 'Darklyn', 'Battle', 'Arryk', 'Arbor', 'wounded', 'twice', 'seventh', 'septon', 'request', 'price', 'joy', 'ironman', 'empty', 'dragonrider', 'betrothal', 'bannermen', 'Massey', 'Johanna', 'Bracken', 'Archon', 'sixteen', 'rightful', 'restore', 'purpose', 'loyal', 'isle', 'assembled', 'Lannisters', 'Jon', 'Greyjoy', 'Frey', 'Eye', 'witness', 'warship', 'trade', 'task', 'somehow', 'marched', 'handsome', 'fearsome', 'fast', 'enjoyed', 'driven', 'convinced', 'coast', 'Stokeworth', 'Lysandro', 'Gedmund', 'Donnel', 'Alaric', 'subject', 'ruling', 'pardon', 'merchant', 'included', 'famous', 'departed', 'champion', 'celebrated', 'attended', 'Tyrell', 'Tarth', 'Realm', 'Other', 'Lucamore', 'Gareth', 'Cargyll', 'Ben', 'Amaury', 'tax', 'score', 'safely', 'remove', 'harbor', 'groom', 'follower', 'dragged', 'cupbearer', 'crossed', 'commanding', 'bell', 'begun', 'absence', 'Starry', 'Runestone', 'Rodrik', 'Raventree', 'Graceford', 'Darry', 'Bloody', 'Amongst', 'septons', 'seed', 'previously', 'innocence', 'fishing', 'falling', 'dispatched', 'deliver', 'defense', 'decree', 'captive', 'betrayal', 'barred', 'bank', 'Ryam', 'Roxton', 'Rosby', 'Protector', 'Myrielle', 'Lysene', 'Castle', 'Broome', 'thief', 'surrounded', 'stormlanders', 'seize', 'recently', 'quarter', 'landed', 'keeping', 'greatest', 'greater', 'formidable', 'delighted', 'defeat', 'cog', 'Staunton', 'Manfryd', 'Having', 'Gwayne', 'Dalton', 'Corwyn', 'Bitterbridge', 'Benjicot', 'vengeance', 'suitable', 'steward', 'septas', 'seated', 'retinue', 'recalled', 'rebellion', 'queer', 'protector', 'magisters', 'lower', 'judged', 'guardsman', 'greatly', 'grave', 'grasp', 'fill', 'fair', 'descent', 'appointed', 'Thereafter', 'Grover', 'Cassandra', 'Bold', 'western', 'twoscore', 'reputation', 'recovered', 'ragged', 'press', 'latter', 'grievous', 'fourteen', 'fellow', 'execution', 'eleven', 'dock', 'counted', 'concluded', 'captured', 'blame', 'band', 'affection', 'accord', 'aboard', 'Vulture', 'Trystane', 'Tarly', 'Marches', 'Lucas', 'Kermit', 'Harren', 'Evenstar', 'whisperer', 'treasure', 'top', 'sixty', 'secretly', 'ruler', 'period', 'paramour', 'informed', 'flower', 'elephant', 'drawing', 'difficulty', 'defender', 'bestowed', 'beard', 'accepted', 'Thorne', 'Queensguard', 'Pyke', 'Moredo', 'Meredith', 'Lotho', 'Lorent', 'Aly', 'whole', 'treat', 'stout', 'stormlands', 'regency', 'regarded', 'questioned', 'punishment', 'prowess', 'predecessor', 'pavilion', 'objection', 'naught', 'modest', 'manse', 'longships', 'listen', 'library', 'lavish', 'lake', 'kingsroad', 'ironborn', 'honored', 'forbade', 'depart', 'debt', 'cross', 'chaos', 'capable', 'breaking', 'bread', 'beheaded', 'bedridden', 'autumn', 'Starpike', 'Six', 'Sisters', 'Simon', 'Neck', 'Martell', 'Leygood', 'Leowyn', 'Costayne', 'Breakbones', 'Barrowton', 'widely', 'welcomed', 'unawares', 'treasury', 'tie', 'tail', 'supposed', 'stern', 'sell', 'safe', 'promising', 'proceed', 'persuaded', 'lacked', 'increased', 'freed', 'fewer', 'escorted', 'eagerly', 'cunning', 'crowded', 'craven', 'collapse', 'castellan', 'bent', 'authority', 'assumed', 'Willam', 'Unlike', 'Twins', 'Towers', 'Samwell', 'Sabitha', 'Regent', 'Medrick', 'Leo', 'Lads', 'Knight', 'Joff', 'Holiness', 'Fingers', 'Darke', 'Craghas', 'Connington', 'Appearances', 'widowed', 'westerlands', 'victim', 'understanding', 'stream', 'stepmother', 'sickness', 'shipping', 'seventeen', 'seasoned', 'reconciled', 'poisoned', 'paying', 'obeisance', 'natural', 'mission', 'income', 'ignorant', 'hire', 'felled', 'entrusted', 'entertained', 'divided', 'dire', 'delivering', 'deemed', 'danger', 'crossing', 'completed', 'complete', 'chained', 'caution', 'buy', 'boasted', 'blamed', 'betrayed', 'bearing', 'Theomore', 'Swords', 'Rush', 'Mermaid', 'Golden', 'Betrayers', 'wealthy', 'valuable', 'valor', 'train', 'trader', 'tidings', 'throwing', 'tent', 'stronghold', 'stricken', 'southern', 'sick', 'shipyard', 'sellsword', 'seal', 'rogue', 'resumed', 'regard', 'raider', 'provision', 'pronounced', 'pretender', 'pressed', 'pillow', 'overlooking', 'oar', 'nineteen', 'magister', 'lest', 'knighthood', 'jousting', 'issued', 'insist', 'friendship', 'forbidden', 'finest', 'ensued', 'drowned', 'demanding', 'defending', 'constant', 'compared', 'comely', 'bribe', 'awaited', 'avarice', 'assert', 'Wolves', 'Upon', 'Tarbeck', 'Swann', 'Sunspear', 'Risley', 'Longleaf', 'Lion', 'Goldengrove', 'Gilded', 'Gates', 'Five', 'Finally', 'Falcon', 'Each', 'Drazenko', 'Delight', 'Conclave', 'Axe', 'Age', '132', '131', 'whereupon', 'westermen', 'weary', 'weakened', 'warmed', 'unhorsed', 'track', 'token', 'tempered', 'sour', 'shell', 'sentence', 'seahorse', 'scandal', 'sadly', 'sack', 'rightly', 'renowned', 'reluctantly', 'rash', 'raising', 'prudent', 'provoke', 'plotter', 'pass', 'overwhelmed', 'overland', 'notably', 'necessary', 'mourning', 'monarch', 'lineage', 'levy', 'knighted', 'instruction', 'inherited', 'imprisoned', 'honorable', 'honest', 'hedge', 'heated', 'grim', 'fortunate', 'formally', 'famed', 'experienced', 'executed', 'custody', 'crushed', 'crownlands', 'credit', 'created', 'cook', 'conspirator', 'confused', 'concurred', 'cheered', 'beggar', 'awaiting', 'argue', 'advanced', 'absent', 'Year', 'Wyk', 'Victor', 'Vance', 'Shield', 'Sharako', 'Rogares', 'Robb', 'Piper', 'Mouse', 'Morrigen', 'Merryweather', 'Marilda', 'Marbrand', 'Mad', 'Harry', 'Garibald', 'Footly', 'Emmon', 'Elenda', 'Dustin', 'Caswell', 'Brandon', 'Bourney', 'Born', 'Blackhaven', 'Beyond', 'Belgrave', 'Bar', 'Arnold', 'Aliandra', 'Albin', '133', '105', 'wildling', 'wealthiest', 'vault', 'treated', 'swarming', 'swarmed', 'summoning', 'stead', 'staunch', 'slope', 'slaughtered', 'signed', 'shipwright', 'scorned', 'rotting', 'rivermen', 'retreated', 'restless', 'residence', 'rejoiced', 'rape', 'quartered', 'prosperous', 'poured', 'patron', 'outnumbered', 'ominous', 'nowhere', 'melee', 'liege', 'lacking', 'keeper', 'justiciar', 'instructing', 'incursion', 'ignored', 'hitherto', 'heed', 'grain', 'foremost', 'fee', 'feasted', 'famine', 'elderly', 'eighty', 'edict', 'duly', 'doubled', 'domain', 'daring', 'convened', 'considerably', 'clash', 'cheering', 'captivity', 'begging', 'backed', 'attendant', 'approached', 'anticipated', 'afire', 'advancing', 'acting', 'acolyte', 'achieved', 'Young', 'Whispering', 'Whether', 'Wat', 'Tiger', 'Stoney', 'Sowing', 'Samantha', 'Roland', 'Robin', 'Rickon', 'Owain', 'Oak', 'Merrell', 'Mallister', 'Lake', 'Justice', 'Gunthor', 'Gift', 'Gay', 'Floris', 'Fishfeed', 'Far', 'Dornishmen', 'Denys', 'Crakehall', 'Bartimos', 'Ball', 'Arryns', 'Amidst', 'Alfyn', 'wondering', 'windswept', 'wherein', 'warmth', 'unhappy', 'troubling', 'troublesome', 'thrilled', 'taster', 'swordsman', 'swearing', 'swaddling', 'surrounding', 'strip', 'stew', 'spur', 'splendor', 'slaying', 'sentenced', 'senior', 'ruinous', 'rookery', 'retainer', 'resist', 'receiving', 'rallied', 'raiding', 'purported', 'proceeded', 'privilege', 'presently', 'portion', 'population', 'perilous', 'payment', 'opposition', 'newly', 'mocking', 'merchantman', 'meekly', 'martial', 'manned', 'leader', 'jealousy', 'instructed', 'infamously', 'infamous', 'ilk', 'hopeless', 'him…but', 'hesitated', 'hastily', 'grizzled', 'greet', 'grass', 'grasped', 'gallant', 'forgave', 'firm', 'finding', 'facing', 'emptied', 'dismay', 'delayed', 'degree', 'darling', 'curb', 'cowardice', 'courtesan', 'counselor', 'confronted', 'commissioned', 'choking', 'catspaw', 'brood', 'bearer', 'barrack', 'assemble', 'ascent', 'arrested', 'arrange', 'anxious', 'Truefyre', 'Toms', 'Through', 'Sound', 'Roger', 'Roderick', 'Port', 'Poor', 'Pinkmaiden', 'Over', 'Oscar', 'Oakheart', 'Muddy', 'Mattheus', 'Magnificent', 'Lysara', 'Lucinda', 'Lorath', 'Longtable', 'Lionslayer', 'Isembard', 'Hedge', 'Hayford', 'Garth', 'Faithful', 'Edyth', 'Dunstonbury', 'Drako', 'Down', 'Crag', 'Corne', 'Clarice', 'Caron', 'Byron', 'Balon', 'Anselm', 'Alan', '134', '130', 'wholly', 'whence', 'wayward', 'wary', 'waned', 'wager', 'wage', 'vied', 'urgent', 'unforgiving', 'undone', 'tripled', 'traveled', 'torturer', 'threescore', 'threatening', 'threaten', 'test', 'swelled', 'sundry', 'student', 'soup', 'slipping', 'skirmish', 'shred', 'shorter', 'serjeant', 'sellsails', 'selection', 'scullion', 'scheming', 'sacked', 'revel', 'retired', 'resume', 'resistance', 'represented', 'remnant', 'relied', 'regain', 'recovering', 'reasonably', 'ready', 'rabble', 'quill', 'praised', 'postponed', 'posse', 'ploy', 'pledge', 'petty', 'paint', 'odds', 'northerner', 'negotiation', 'mistook', 'misnomer', 'mindful', 'maintain', 'maidenhood', 'lusty', 'loan', 'lighted', 'lifted', 'lamented', 'intervention', 'intact', 'influence', 'improvement', 'icy', 'hosted', 'hooded', 'homage', 'henceforth', 'healer', 'happier', 'happening', 'hailing', 'grip', 'gem', 'gelded', 'garb', 'faithfully', 'expired', 'examined', 'erotic', 'entreaty', 'entourage', 'enamored', 'enacted', 'dragonseeds', 'dispatching', 'disloyalty', 'discover', 'discipline', 'depredation', 'deliberation', 'deaf', 'dawned', 'dashing', 'contender', 'contain', 'consult', 'conspiracy', 'confine', 'confidant', 'conferred', 'completion', 'channel', 'burial', 'bristled', 'bowman', 'boldest', 'bless', 'binding', 'betray', 'behold', 'behalf', 'battled', 'baggage', 'assigned', 'ascending', 'arriving', 'arranging', 'apt', 'answering', 'announcing', 'announcement', 'adventurer', 'accompanying', 'Widows', 'Whitegrove', 'Wayfarer', 'Wasp', 'Violande', 'Tymond', 'Toron', 'Stars', 'Sot', 'Sixteen', 'Sisterton', 'Seagard', 'Scarlet', 'Ronnal', 'Peace', 'Paramount', 'Nightsong', 'Myrmen', 'Mill', 'Mess', 'Martyn', 'Lohar', 'Less', 'Kingsroad', 'Humfrey', 'Horn', 'Heart', 'Harlaw', 'Harelip', 'Griffin', 'Goode', 'God', 'Glendon', 'Fredo', 'Fourth', 'Fossoway', 'Fool', 'Faceless', 'Faced', 'Drowned', 'Claw', 'Children', 'Chief', 'Byrch', 'Bullock', 'Broken', 'Blackbean', 'Behind', 'Andalos', 'Amos', 'Acorn', '61', '59', '113', 'worsened', 'wielded', 'widower', 'whipped', 'wheelhouse', 'wharf', 'weakness', 'waxed', 'wasting', 'waspish', 'warrant', 'warmly', 'vying', 'vulgar', 'unwilling', 'unwed', 'unmolested', 'uniting', 'undoubted', 'undeniably', 'uncounted', 'twas', 'turmoil', 'trick', 'trice', 'treasurer', 'traveling', 'tolling', 'thriving', 'thirteenth', 'thinned', 'them…and', 'supporting', 'sunlight', 'submit', 'submission', 'studying', 'strengthened', 'streamed', 'strangled', 'steady', 'starve', 'staged', 'sprung', 'sole', 'soil', 'sobriquet', 'slavery', 'sixteenth', 'singularly', 'silken', 'sickened', 'shut', 'shrewd', 'sang', 'sanctuary', 'safekeeping', 'rewarded', 'retaking', 'restoring', 'respected', 'resentment', 'rescuer', 'replenish', 'repented', 'renamed', 'redress', 'redoubtable', 'reception', 'rebuilding', 'reavers', 'ranger', 'rainy', 'puppet', 'proving', 'providing', 'prime', 'penny', 'peasant', 'peacefully', 'paper', 'painting', 'owed', 'overweening', 'odd', 'obedient', 'maintained', 'longbowman', 'linger', 'likewise', 'lavishly', 'laurel', 'languishing', 'kingship', 'involvement', 'intercession', 'installed', 'inquisitor', 'infatuated', 'ineffectual', 'inconsiderable', 'imprisonment', 'import', 'imagined', 'hurriedly', 'humbled', 'hiring', 'hearty', 'headstrong', 'groat', 'grieved', 'gaoler', 'fullness', 'frolic', 'fostered', 'fore', 'fist', 'finer', 'feverish', 'fellowship', 'fathering', 'fated', 'eve', 'entering', 'embroiled', 'embraced', 'eluded', 'elevation', 'elevated', 'elected', 'earthly', 'dubious', 'dubbing', 'doubtful', 'dominion', 'disgrace', 'discarded', 'destination', 'despoiling', 'delegate', 'dangled', 'crystal', 'costly', 'contest', 'competed', 'collected', 'collect', 'clubfoot', 'childless', 'captained', 'bought', 'bloodlust', 'bidding', 'bestow', 'beacon', 'battler', 'banker', 'ballot', 'awry', 'awarded', 'avers', 'augmented', 'assembly', 'assembling', 'artist', 'arrest', 'apply', 'anniversary', 'adventurous', 'admirer', 'admired', 'abolished', 'Widow', 'Whereas', 'Walys', 'Vances', 'Using', 'Unwilling', 'Unsurprisingly', 'Unlikely', 'Unbeknownst', 'Tyshara', 'Twenty', 'Together', 'Thoron', 'Templeton', 'Snowgate', 'Seastone', 'Sand', 'Salt', 'Sadly', 'Ruskyn', 'Rode', 'Reports', 'Redwynes', 'Redfort', 'Raynard', 'Ravens', 'Prentys', 'Pipers', 'Penrose', 'Peakes', 'Owen', 'Orryn', 'Mootons', 'Maryam', 'Marra', 'Marq', 'Loreon', 'Lianna', 'Law', 'Larissa', 'Lamentation', 'Kingmaker', 'Indeed', 'Henceforth', 'Harte', 'Grant', 'Goodbrother', 'Giant', 'Forrest', 'Foremost', 'Fighting', 'Faircastle', 'Essie', 'Ellyn', 'Eldric', 'Deddings', 'Crabs', 'Crabb', 'Coming', 'Chair', 'Bryndon', 'Bronze', 'Braxton', 'Bowing', 'Betrayer', 'Bandallon', 'Ambrose', '82', '56', '52', '126', 'wrongly', 'worsen', 'womanhood', 'witted', 'withdrawal', 'wisely', 'whipping', 'waterway', 'was', 'warring', 'warn', 'walled', 'visitor', 'verdict', 'vanity', 'valued', 'valiant', 'vain', 'usurp', 'upriver', 'unwavering', 'unrecognizable', 'unpopular', 'unobserved', 'unmasked', 'unique', 'unfit', 'uneventful', 'undying', 'undoing', 'undertake', 'understandably', 'undefended', 'tumult', 'tumble', 'transgression', 'traced', 'toppled', 'tomb', 'titter', 'tilt', 'tending', 'tedium', 'teacher', 'tapped', 'swordplay', 'surfeit', 'succumbing', 'stubbornly', 'stripling', 'string', 'stretching', 'stonemason', 'steadily', 'squadron', 'spearmen', 'skyward', 'sizable', 'sewer', 'separated', 'selecting', 'scruple', 'scrambling', 'scholarly', 'sadder', 'rowed', 'robbery', 'roasted', 'rewarding', 'rested', 'resent', 'rent', 'renown', 'renewing', 'reliable', 'relate', 'reeking', 'rebirth', 'rapturous', 'rampart', 'quibble', 'pulling', 'prow', 'proven', 'principal', 'priest', 'prevarication', 'presumptuous', 'pressing', 'polished', 'plundering', 'plight', 'piglet', 'patriarch', 'patient', 'partook', 'partial', 'paramount', 'painful', 'overruled', 'overnight', 'outrage', 'outdone', 'ostensibly', 'omission', 'offending', 'objective', 'northeast', 'noblest', 'nightsoil', 'newest', 'muster', 'murmured', 'mulled', 'mishap', 'miscarried', 'minority', 'midyear', 'menagerie', 'menacing', 'memoir', 'maturity', 'mature', 'mate', 'marching', 'mace', 'lordly', 'lissome', 'lingering', 'limping', 'limp', 'liking', 'lessen', 'legless', 'legendary', 'leaderless', 'keyholders', 'jousted', 'jeering', 'invited', 'invaluable', 'infested', 'inexorably', 'indemnity', 'inconsolable', 'impassioned', 'humiliation', 'humiliating', 'humbly', 'host…but', 'hollow', 'hesitate', 'heralded', 'helplessly', 'heaviest', 'heap', 'heady', 'hasty', 'halting', 'hail', 'granary', 'gentlest', 'fuck', 'freeriders', 'foster', 'fortified', 'forming', 'forevermore', 'ford', 'forbidding', 'fluent', 'flourished', 'flinty', 'firsthand', 'financed', 'fiftieth', 'fiercest', 'fetching', 'exhaustive', 'excelled', 'exacerbated', 'especial', 'erudite', 'erected', 'ennobled', 'engulf', 'encouraged', 'encamped', 'dwindled', 'downfall', 'doting', 'doctrine', 'docker', 'distinguished', 'distinction', 'disposition', 'disposal', 'disfigured', 'disembarked', 'discounted', 'disciplined', 'disarray', 'disarmed', 'disarm', 'disapproval', 'differs', 'differed', 'despise', 'desirous', 'desirable', 'deprived', 'depended', 'demonstrating', 'deliverance', 'deciding', 'debated', 'cusp', 'curfew', 'crutch', 'coveted', 'councillor', 'contemplated', 'consists', 'consisting', 'consisted', 'consecrated', 'confided', 'confessor', 'condemn', 'concealing', 'composed', 'comparatively', 'companionship', 'commenced', 'combed', 'colorful', 'cleaver', 'clapped', 'chivalry', 'chafed', 'catspaws', 'castellans', 'cargo', 'canny', 'calamitous', 'bypassed', 'bruised', 'breach', 'boyhood', 'borrowed', 'bog', 'bluff', 'blown', 'blossomed', 'bloodless', 'blocked', 'beseeching', 'bequeathed', 'bemused', 'befriend', 'bathhouse', 'bargaining', 'bannerman', 'bandied', 'authoritative', 'aurochs', 'astonishment', 'assuring', 'assuage', 'assisted', 'assist', 'armory', 'architect', 'appease', 'annual', 'alleviate', 'agreeing', 'afresh', 'affront', 'affixed', 'affected', 'advise', 'admiralty', 'acquainted', 'achieve', 'accession', 'absolve', 'Ysabel', 'Yronwood', 'Worse', 'Word', 'Woodhull', 'Wise', 'West', 'Wearing', 'Wary', 'Walton', 'Usurper', 'Throne…but', 'Thirteen', 'Tanner', 'Stormbreakers', 'Speakers', 'Silver', 'Shields', 'Sharp', 'Seventy', 'Rowans', 'Rootes', 'Rodden', 'Reyne', 'Returning', 'Reeds', 'Raylon', 'Quenton', 'Queensgate', 'Prudently', 'Prudence', 'Priscella', 'Princes', 'Perceon', 'Past', 'Osgrey', 'Olyver', 'Oakhearts', 'Northern', 'Norman', 'Naerys', 'Mullendore', 'Moon…but', 'Mindful', 'Meredyth', 'Merchants', 'Mara', 'Manderlys', 'Man', 'Mallisters', 'Loudest', 'Lorimar', 'Loreth', 'Lordsport', 'Lonely', 'Lists', 'Laughter', 'Lansdale', 'Ladies', 'Knighted', 'Joseth', 'Jennis', 'Hugo', 'Hornwood', 'Home', 'Hers', 'Harys', 'Harroway', 'Harmon', 'Ham', 'Grimm', 'Greyshield', 'Grafton', 'Gardener', 'Forlorn', 'Follard', 'Find', 'Fellows', 'Familiar', 'Elys', 'Ellard', 'Elendra', 'Edwell', 'Eddison', 'Doctrine', 'Desperate', 'Desmond', 'Derrick', 'Delayer', 'Defender', 'Darrys', 'Crane', 'Court', 'Corbrays', 'Cobb', 'Clement', 'Charlton', 'Chains', 'Caught', 'Cassella', 'Bywin', 'Butcher', 'Buckler', 'Brotherhood', 'Brokenbones', 'Bound', 'Bite', 'Bigglestone', 'Bennard', 'Beloved', 'Being', 'Bazanne', 'Basilisk', 'Banger', 'Atranta', 'Ashford', 'Ashemark', 'Arthor', 'Amanda', 'Alarra', 'Alans', 'Accordingly', 'Abelon', '89', '72', '70', '53', '131st', '129–131', '109', 'years…mayhaps', 'worrisome', 'with', 'wisp', 'wishing', 'wisest', 'winsome', 'winkle', 'winding', 'wile', 'whimpering', 'what…but', 'westerman', 'welcome…but', 'weepy', 'wedlock', 'weakly', 'weakling', 'way…and', 'wastrel', 'warlord', 'warehouse', 'wagering', 'vomit', 'virility', 'vintage', 'villager', 'ven', 'vaunted', 'valiantly', 'vacated', 'utter', 'usurping', 'upstream', 'upstart', 'upbringing', 'unwitting', 'untimely', 'untenable', 'unseemly', 'unsancioned', 'unruly', 'unridden', 'unrest', 'unrelenting', 'unquestionably', 'unprecedented', 'unpopularity', 'unneeded', 'unmentioned', 'unlawful', 'uninvited', 'uninhabited', 'unfold', 'undisputed', 'undetected', 'undeniable', 'uncontested', 'unconquered', 'unassailable', 'tune', 'trumpeted', 'trumpet', 'truculence', 'triumphed', 'trifle', 'treatise', 'treasonously', 'tranquillity', 'traffic', 'townswomen', 'townsfolk', 'torso', 'torchlit', 'too…but', 'toenail', 'tilework', 'tight', 'thunderstruck', 'thrash', 'thing…but', 'then…though', 'them—and', 'thawed', 'tested', 'testament', 'terrorized', 'tenuous', 'taxing', 'taskmaster', 'talent', 'tactic', 'swirled', 'swine', 'swell', 'sweetmeat', 'swaggering', 'surpassingly', 'surpass', 'supervising', 'supervised', 'suite', 'suitably', 'succumbed', 'successive', 'subcellars', 'strutting', 'striving', 'striding', 'strenuous', 'stormlands…and', 'stirring', 'stiffer', 'stiffened', 'stepson', 'stem', 'steadfast', 'staunchest', 'stature', 'statuary', 'starvation', 'stalemate', 'stake', 'stain', 'stack', 'squired', 'spying', 'spray', 'sprawling', 'splinted', 'spectre', 'sown', 'south—', 'solitary', 'solidly', 'softness', 'sobered', 'snare', 'smashing', 'smallclothes', 'slogged', 'skeptical', 'sip', 'singers…and', 'signature', 'shyer', 'shuddered', 'shortage', 'shipboard', 'shedding', 'shaming', 'shameless', 'shamefully', 'shade', 'seventeenth', 'servants…amongst', 'sensible', 'semblance', 'sellsail', 'selkies', 'seclusion', 'sea…nor', 'scribbled', 'scraped', 'scouting', 'scouring', 'scourging', 'savory', 'savor', 'save…oddly…Alys', 'saltier', 'sail…for', 'rust', 'runic', 'ruination', 'rubbish', 'routed', 'rousted', 'roll', 'roistering', 'riverlands…but', 'rivaled', 'riotous', 'rigor', 'richly', 'revive', 'reviled', 'revered', 'revelation', 'reunite', 'restoration', 'resigning', 'resettled', 'resentful', 'repudiation', 'repudiated', 'repudiate', 'reproach', 'reprieved', 'reposed', 'replica', 'repealing', 'renounce', 'renew', 'rend', 'reliably', 'relevant', 'relation', 'reinstate', 'reigned…for', 'regan', 'regained', 'reflects', 'redoubt', 'redoubled', 'rectify', 'recovered…but', 'reconsidered', 'reclaimed', 'reaver', 'ravishing', 'rapid', 'rampant', 'ramming', 'raft', 'rabbit', 'quit', 'quarreling', 'quaffed', 'putative', 'pupil', 'puissant', 'prudently', 'proposed…to', 'promulgated', 'promptly', 'profit', 'procession', 'probing', 'prince…they', 'princely', 'pried', 'pretence', 'presiding', 'premise', 'predisposition', 'postpone', 'portcullis', 'poring', 'pored', 'poorer', 'pomp', 'ply', 'plucked', 'plotted', 'platter…and', 'placated', 'piratical', 'piled', 'piety', 'pet', 'persuasive', 'persuading', 'personage', 'persisted…until', 'penury', 'penned', 'penalty', 'paving', 'pauper', 'passably', 'passable', 'parlance', 'pardons…after', 'parading', 'palfrey', 'palatial', 'overthrew', 'overstayed', 'overstated', 'overreached', 'overran', 'overmatched', 'overlong', 'overjoyed', 'outdistanced', 'orphan', 'offing', 'offal', 'ode', 'occasioned', 'oblivious', 'obeying', 'oathkeepers', 'oarsman', 'now…some', 'nowise', 'notorious', 'northward', 'nominate', 'nominally', 'nominal', 'nobly', 'nipple', 'newfound', 'newer', 'nervous', 'negotiable', 'need…but', 'nearer', 'navel', 'nautical', 'nastier', 'nailed', 'muted', 'multitude', 'mule', 'muddied', 'mountainside', 'moody', 'monument', 'moneychangers', 'mistaking', 'misrule', 'misjudgment', 'misdeed', 'misbehavior', 'misapprehension', 'mirrored', 'miller', 'military', 'midday', 'mewling', 'methodical', 'method', 'merciless', 'menace', 'meaningless', 'matchmaking', 'masse', 'masked', 'mash', 'marveled', 'marriageable', 'marred', 'marcher', 'manner—he', 'manifold', 'manifestly', 'manhood…according', 'manacled', 'lyrical', 'lusted', 'lucrative', 'loyally', 'loudest', 'lords…but', 'longtime', 'longaxe…yet', 'loin', 'lived…for', 'listened…as', 'link', 'limped', 'likelihood', 'ledger', 'laziness', 'laughable', 'later—pricked', 'lastly', 'landlord', 'landfall', 'lamentable', 'lain', 'lagged', 'ladylike', 'laboring', 'knowledgeable', 'knighthood…but', 'kith', 'king…who', 'king…but', 'kingless', 'kill…a', 'justly', 'jerkin', 'it—the', 'isolated', 'inviolate', 'intransigent', 'intervened', 'interrim', 'intermediary', 'interfered', 'installation', 'inspire', 'inscribed', 'inkling', 'ingenious', 'infusion', 'inflicting', 'infirmity', 'infiltrate', 'incorruptible', 'inconsequential', 'inclination', 'incidentally', 'impoverishing', 'imposing', 'imperious', 'impeccable', 'illustrious', 'illiterate', 'idly', 'hurrying', 'hungry—the', 'humored', 'humbler', 'hulk', 'however…or', 'however…for', 'hostess', 'home…understandably', 'hoarding', 'hoard', 'her…and', 'here…so', 'heretofore', 'heatedly', 'heartened', 'hearted', 'hearsay', 'head…toward', 'head…but', 'headwater', 'hauling', 'hastening', 'harsher', 'harrying', 'harp', 'hardscrabble', 'harden', 'hapless', 'handsomest', 'handedness', 'hammering', 'haggler', 'haggled', 'guided', 'guardian', 'grudging', 'grudge', 'grooming', 'gripped', 'grimaced', 'grievously', 'greatsword', 'greatness', 'gratefully', 'grandstand', 'grandaughter', 'goldsmith', 'godly', 'gluttonous', 'glowingly', 'glittering', 'glitter', 'gladdened', 'garments…though', 'garbed', 'gangling', 'galloping', 'galleys—was', 'gagged', 'futile', 'furrowed', 'funding', 'fugitive', 'fruitful', 'froze', 'freckled', 'fraud', 'fractious', 'fourfold', 'fostering', 'forsaking', 'fornicator', 'forging', 'forebearance', 'foraging', 'forager', 'fondle', 'fold', 'foes…returned', 'foes…at', 'foes', 'flurry', 'flowery', 'float', 'flinch', 'fleshy', 'fleet—comprised', 'flared', 'fixture', 'fixing', 'fisted', 'finery', 'file', 'fifteen…but', 'fended', 'fearlessness', 'favoring', 'fasting', 'fantasy', 'familiarity', 'fainted', 'extinguished', 'exposed', 'explored', 'expense…until', 'expand', 'exclusive', 'excessively', 'exceptional', 'excavated', 'examination', 'exaction', 'evinced', 'evidently', 'eventful', 'eternally', 'esteemed', 'esteem', 'espoused', 'errant', 'entreaties…swayed', 'enslaved', 'engrossing', 'enforcing', 'enforce', 'enemy…but', 'emulate', 'embarrassment', 'eloquent', 'egg—to', 'edging', 'dyer', 'dwindling', 'duplicated', 'dropping', 'drifted', 'dressmaker', 'dreaded', 'draped', 'drape', 'dragonfire', 'dragonbirth', 'doors…', 'donkey', 'dominate', 'dolorous', 'dogged', 'docked', 'diverted', 'distributed', 'dissension', 'disrepair', 'disquiet', 'dispossess', 'displeased', 'dispirited', 'dispell', 'disowned', 'disobey', 'dismounting', 'dishearten', 'discomfited', 'disappearance', 'disagree…but', 'disagreed', 'dint', 'died…but', 'did…', 'devotion', 'devote', 'devolved', 'devising', 'detractor', 'destitute', 'despondence', 'despairing', 'desertion', 'deserting', 'deposited', 'deposed', 'depose', 'depleted', 'dependence', 'denuded', 'deliverer', 'delighting', 'deliberating', 'defrauding', 'deflected', 'deferred', 'defection', 'defame', 'decisions…though', 'decides', 'death…only', 'dead…until', 'damsel', 'damning…if', 'd', 'cutthroat', 'critiquing', 'crewed', 'crenellation', 'creditor', 'court…but', 'court—amongst', 'counsel…but', 'counseled', 'council…only', 'council…but', 'council…and', 'corrupt', 'corpulent', 'cornered', 'coolness', 'convicted', 'converge', 'controlling', 'contract', 'constituted', 'consideration', 'connect', 'conjurer', 'conjecture', 'congestion', 'congenial', 'confines', 'confer', 'conducting', 'composition', 'complicity', 'competition', 'competing', 'compass', 'compact', 'communicating', 'commissioning', 'commerce', 'commencing', 'collided', 'colleague', 'codfish', 'clove', 'clothed', 'clansman', 'clamoring', 'clamor', 'circumvent', 'chronically', 'chokehold', 'choicest', 'chiefly', 'cheerful', 'checked', 'chastise', 'changeable', 'ceding', 'capitulated', 'cancellation', 'camped', 'calming', 'bypassing', 'buxom', 'burly', 'burdened', 'bruited', 'brilliance', 'bribing', 'breathed', 'breadth', 'brawny', 'brash', 'brackish', 'boyish', 'bounty', 'boulder', 'borrow', 'booming', 'boom', 'bolstered', 'boisterous', 'bodice', 'boatyard', 'boarding', 'boarder', 'bloodthirsty', 'bloodied', 'blandishment', 'betraying', 'bestowing', 'bestirred', 'besmirch', 'besieged', 'besiege', 'benefited', 'belatedly', 'behead', 'beget', 'bed…', 'bedmate', 'barrow', 'awoke', 'awhile', 'away…and', 'awaken', 'avowed', 'avoided…a', 'authorizing', 'attainder', 'assiduously', 'asset', 'assessment', 'aspersion', 'ascribes', 'ascertained…but', 'around…it', 'arms…and', 'arisen', 'arduous', 'aptly', 'appeased', 'appealing', 'appealed', 'apoplexy', 'antipathy', 'anoint', 'annexation', 'angrier', 'and…', 'amenable', 'all…swear', 'alloted', 'alleyway', 'alive…though', 'alike…but', 'alignment', 'aligned', 'alighting', 'alacrity', 'akin', 'age…but', 'aforethought', 'afoot', 'adversary', 'adore', 'adopted', 'admission', 'adjudged', 'addressing', 'acrimony', 'acquitted', 'acquiescence', 'accumulation', 'accumulate', 'accrue', 'accosted', 'accord…and', 'accomplish', 'accident…there', 'accessible', 'abolition', 'abetted', 'abase', 'Yrma', 'Yore', 'Yorbert', 'Yield', 'Wynch', 'Wyland', 'Wormwood', 'Woodwright', 'Wode', 'Widespread', 'Wickenden', 'Whitfield', 'Weighed', 'Wasted', 'War…better', 'Warn', 'Waiting', 'Voyages', 'Volmark', 'Visits', 'Vigilance', 'Varner', 'Valor', 'Valiant', 'V', 'Uther', 'Urrathon', 'Unridden', 'Unhorsed', 'Understandably', 'Tristan', 'Triarchy…but', 'Triarchs', 'Traveling', 'Tooth', 'Tolletts', 'Titus', 'Timotty', 'Thrilled', 'Things', 'Templetons', 'Taxes', 'Targaryen…who', 'Sylas', 'Swynford', 'Swyft', 'Sunglass', 'Sunfyre…but', 'Sunderland', 'Stymied', 'Stupid', 'Striking', 'Stonehouse', 'Stonedance', 'Stonebridge', 'Stillman', 'Stanton', 'Spiderwood…Vhagar', 'Speaking', 'Sons', 'Smoking', 'Sistermen', 'Singers', 'Silvario', 'Shieldsmasher', 'Shaw', 'Serpent', 'Seizing', 'Seasoned', 'Scribe', 'Scores', 'Safe', 'Ryndoon…and', 'Rymond', 'Russell', 'Rumors', 'Ruling', 'Ruled', 'Rule', 'Rue', 'Royces', 'Roseroad', 'Roote', 'Roose', 'Rollingford', 'Riverrun…yet', 'Rioting', 'Rightly', 'Righteous', 'Riding', 'Rhogar', 'Rhaenyra…but', 'Rennifer', 'Reluctantly', 'Relations', 'Redforts', 'Reaper', 'Reading', 'Rashly', 'Qyle', 'Quarrels', 'Pushed', 'Pryor', 'Prunella', 'Prominent', 'Profit', 'Prester', 'Preparations', 'Perryn', 'Pereno', 'Pendaerys', 'Pebble', 'Peake…but', 'Peake—were', 'Passing', 'Pardons', 'Oswald', 'Osgreys', 'Order', 'Onlookers', 'Olyvar', 'Obedient', 'Notable', 'Norreys', 'Norrey', 'Norcross', 'Nest', 'Naked', 'Myriah', 'Mushroom…and', 'Mountain', 'Motte', 'Motherhouse', 'Moslander', 'Moriah', 'Minions', 'Mill…and', 'Miller', 'Middleton', 'Meryn', 'Mern', 'Merman', 'Matthos', 'Marshal', 'Manacled', 'Malentine', 'Maids', 'Maidenpool…the', 'Lysaro…of', 'Lysa', 'Lymond', 'Lothston', 'Lothor', 'Lorence', 'Lordship', 'Longbow', 'Lisping', 'Levies', 'Lenore', 'Led', 'Lastly', 'Landing…', 'Lance', 'LOYAL', 'Kiss', 'Keg', 'Keep…yet', 'Justly', 'Julian', 'Jordan', 'Jolly', 'Jirelle', 'Inevitably', 'Imprisoned', 'Icemark', 'Hunters', 'Hungry', 'Horses', 'Hope', 'Hook', 'Honor', 'Holyhall', 'Hobart', 'Hightowers…but', 'Hidden', 'Hero', 'Herman', 'Hazel', 'Harrenton', 'Harrenhal…save', 'Harrenhal…', 'Harbor…a', 'Hand…but', 'Hands', 'Hallis', 'Hal', 'Guyle', 'Grim', 'Grief', 'Greysteel', 'Greyjoys', 'Grain', 'Governance', 'Gormon', 'Gooseprickles', 'Glovers', 'Glover', 'Glory', 'Glade', 'Glad', 'Garrick', 'Garmund', 'Fresh', 'Fort', 'Formerly', 'Florents', 'Florent', 'Flints', 'Flint', 'Fishermonger', 'Fingers…but', 'Finger', 'Fairmarket', 'Fail—', 'Faces', 'Exceptionalist', 'Evenfall', 'Esselyn', 'Escorted', 'Eschewing', 'Erwin', 'Emory', 'Emerick', 'Elinor', 'Effective', 'Edric', 'Edmund', 'Duttons', 'Dunstan', 'Dun', 'Drums', 'Drumm', 'Donald', 'Departing', 'Dennis', 'Demons', 'Delighted', 'Deepwood', 'Darnold', 'Darla', 'Darklyns', 'Darkes', 'Daenera', 'Daemion', 'Curious', 'Cunning', 'Crow', 'Crossing', 'Cressey', 'Craynes', 'Cowed', 'Courted', 'Costaynes', 'Coryanne', 'Corne—were', 'Contemptuous', 'Conspicuous', 'Confined', 'Condemned', 'Compared', 'Coldwaters', 'Cognizant', 'Cod', 'Climbing', 'Claypool', 'Clarent', 'Clad', 'Cider', 'Chester', 'Chambers', 'Cerelle', 'Celtigars', 'Castamere', 'Candles', 'Calling', 'Building', 'Buckle', 'Bryndemere', 'Brune', 'Brownhill', 'Bridge', 'Bowshot', 'Bowman', 'Bowl', 'Botley', 'Borrell', 'Borne', 'Boneway', 'Blessedly', 'Blacktyde', 'Blackbuckle', 'Blackbar', 'Betrayals', 'Besieger', 'Bentley', 'Bendamure', 'Barracks', 'Barquen', 'Babes', 'Babe', 'Avenger', 'Arrayed', 'Arra', 'Armen', 'Archmaesters', 'Alysanne…but', 'Alester', 'Alastor', 'Agramore', 'Aftermath', 'Admiral', 'Account', '90th', '88', '83rd', '81', '59–60', '59th', '58th', '262–283', '259–262', '138', '128', '124', '121', '117', '111', '103–']\n",
      "['dragon', 'Prince', 'time', 'man', 'two', 'upon', 'A', 'came', 'city', 'castle', 'Hightower', 'way', 'end', 'found', 'another', 'set', 'black', 'sea', 'went', 'arm', 'cloak', 'wall', 'Vhagar', 'fire', 'At', 'along', 'One', 'Old', 'within', 'gate', 'seemed', 'horse', 'By', 'fell', 'better', 'third', 'tale', 'yard', 'foot', 'water', 'Dragonpit', 'flew', 'dozen', 'coming', 'burned', 'Then', 'sky', 'rider', 'oft', 'wing', 'Caraxes', 'sail', 'Vermithor', 'Some', 'Black', 'stone', 'flame', 'tried', 'foe', 'broken', 'Triarchy', 'chain', 'Flea', 'red', 'large', 'free', 'beast', 'Sunfyre', 'Blackwater', 'spear', 'north', 'fall', 'killed', 'enemy', 'Jacaerys', 'storm', 'rose', 'lay', 'carried', 'Shepherd', 'captain', 'Men', 'steel', 'closed', 'Silverwing', 'bloody', 'Dreamfyre', 'ground', 'dark', 'wind', 'shield', 'road', 'pale', 'pain', 'neck', 'looked', 'Bay', 'ride', 'easily', 'winter', 'atop', 'living', 'hard', 'wound', 'mount', 'bone', 'field', 'able', 'onto', 'mountain', 'blow', 'pit', 'deep', 'Meleys', 'Bottom', 'survived', 'burn', 'Myr', 'leg', 'larger', 'drew', 'Sept', 'Moon', 'tree', 'sailed', 'rat', 'leaving', 'bound', 'Those', 'Hugh', 'wild', 'size', 'low', 'hot', 'air', 'fresh', 'crowd', 'break', 'village', 'sun', 'hoped', 'galley', 'finger', 'Elissa', 'torn', 'flesh', 'calling', 'burst', 'beat', 'tower', 'tall', 'single', 'saddle', 'round', 'ear', 'dawn', 'window', 'toward', 'struck', 'sound', 'sought', 'scale', 'reach', 'huge', 'escape', 'burning', 'Gods', 'ward', 'swept', 'simple', 'river', 'league', 'largest', 'hidden', 'heavy', 'farther', 'drove', 'determined', 'Ulf', 'Tower', 'shadow', 'sellswords', 'grey', 'floor', 'filled', 'arrow', 'Sheepstealer', 'throat', 'slipped', 'shoulder', 'sailor', 'riverlands', 'fury', 'carry', 'apart', 'Pentoshi', 'Myrish', 'weapon', 'terrible', 'salt', 'proud', 'kin', 'incident', 'clad', 'bond', 'bolt', 'Vermax', 'Tessarion', 'wood', 'rushed', 'ridden', 'ran', 'piece', 'paid', 'lip', 'fine', 'dying', 'creature', 'camp', 'big', 'attacker', 'Summer', 'Silk', 'Rest', 'Daughters', 'tore', 'tide', 'terror', 'replaced', 'original', 'cloud', 'caught', 'bronze', 'bridge', 'Sun', 'Moondancer', 'Chaser', 'watched', 'threw', 'stable', 'spike', 'smoking', 'scream', 'rock', 'ring', 'rich', 'port', 'missing', 'hung', 'changed', 'begged', 'Sister', 'Shadow', 'Dragonmont', 'Alfred', 'twisted', 'torch', 'teeth', 'smoke', 'slow', 'silk', 'shy', 'rising', 'revealed', 'mouth', 'lair', 'hide', 'hatched', 'flown', 'flee', 'covered', 'courage', 'cheer', 'bright', 'borne', 'archer', 'appearance', 'Sunset', 'Largent', 'Grey', 'unable', 'stopped', 'shop', 'roar', 'rank', 'quarrel', 'possessed', 'growing', 'frightened', 'form', 'escaped', 'dared', 'corps', 'climbed', 'blue', 'armed', 'Westhill', 'River', 'Bloodstone', '‘', 'wait', 'understand', 'soft', 'sending', 'running', 'opening', 'oldest', 'manner', 'earth', 'defeated', 'darkness', 'cutting', 'arrive', 'Rook', 'Rickard', 'Lysaro', 'Four', 'Cannibal', 'wooden', 'wave', 'throw', 'suspected', 'sufficient', 'soldier', 'slave', 'shouting', 'shattered', 'purple', 'path', 'mighty', 'madness', 'inn', 'helm', 'eat', 'drawn', 'distance', 'crew', 'column', 'beaten', 'battlefield', 'assault', 'alley', 'Soon', 'Mountains', 'More', 'Dread', 'whip', 'vanished', 'standing', 'square', 'nigh', 'mail', 'loose', 'lined', 'lesser', 'leapt', 'hiding', 'claw', 'building', 'Lands', 'Half', 'woke', 'vast', 'suddenly', 'straight', 'stole', 'sink', 'sake', 'ruined', 'ripped', 'rain', 'pot', 'northern', 'mud', 'mortal', 'howling', 'fisherfolk', 'fashion', 'eventually', 'donned', 'display', 'desperate', 'confined', 'clinging', 'cave', 'attacked', 'Square', 'Morning', 'Jonquil', 'Blue', 'us', 'swift', 'star', 'stained', 'pair', 'morningstar', 'loosed', 'horn', 'grand', 'dragonflame', 'destruction', 'descending', 'descend', 'crossbow', 'clothing', 'cliff', 'carcass', 'breath', 'blast', 'Tyroshi', 'Spicetown', 'Morion', 'Mander', 'Kings', 'Ghost', 'Disputed', 'Autumn', 'woe', 'walked', 'vulnerable', 'various', 'strange', 'raging', 'prophet', 'plate', 'outlaw', 'longsword', 'fully', 'forest', 'echoed', 'dusk', 'dry', 'dome', 'disease', 'continues', 'cellar', 'amidst', 'Thousands', 'Isles', 'wildlings', 'wide', 'traveler', 'trained', 'survive', 'stony', 'stabbed', 'slashed', 'sank', 'sand', 'relieved', 'prey', 'plunder', 'lingered', 'lamb', 'killer', 'haired', 'freely', 'everywhere', 'drive', 'dog', 'cracked', 'countless', 'bird', 'ashore', 'adventure', 'R', 'Quince', 'Hundreds', 'Cobbler', 'Caltrops', 'yellow', 'warhorse', 'wagon', 'towering', 'touch', 'tavern', 'swallowed', 'supply', 'sunk', 'stick', 'stealing', 'stableboy', 'spiked', 'spice', 'somewhere', 'slaughter', 'shivering', 'seeing', 'scattered', 'roused', 'retreat', 'repeatedly', 'raining', 'raged', 'prize', 'prayed', 'pool', 'peril', 'opportunity', 'nest', 'mast', 'loudly', 'lance', 'jaw', 'hungry', 'humble', 'hole', 'hid', 'hawk', 'hacked', 'giant', 'gaze', 'fruit', 'flush', 'fleeing', 'fiercer', 'fail', 'ending', 'encountered', 'eastern', 'driving', 'direction', 'devoured', 'demon', 'deeper', 'danced', 'coiled', 'charged', 'carved', 'butcher', 'bull', 'beating', 'bay', 'avail', 'abandoning', 'Under', 'Thrice', 'violently', 'vessel', 'velvet', 'twisting', 'tub', 'till', 'thrust', 'tearing', 'stumbled', 'struggling', 'struggled', 'stranger', 'spitting', 'shepherd', 'shaking', 'scout', 'rooftop', 'poisoning', 'pink', 'perish', 'overhead', 'melted', 'locked', 'lit', 'launched', 'heartbeat', 'healed', 'harvest', 'glimpsed', 'formed', 'fearful', 'existed', 'earned', 'defended', 'crossbowman', 'crept', 'cobblestone', 'clutched', 'clung', 'climb', 'circling', 'carnage', 'battered', 'ax', 'await', 'asleep', 'Wyrm', 'Wrath', 'Sothoryos', 'Lefford', 'Kayce', 'Fork', 'Dawn', 'Crows', 'Cape', 'wrapped', 'worth', 'violent', 'unexpected', 'underneath', 'triumphant', 'thence', 'sunset', 'stripped', 'stink', 'spot', 'spirit', 'spied', 'snake', 'signal', 'shrieking', 'shriek', 'shining', 'shelter', 'searching', 'rough', 'riderless', 'resented', 'repair', 'reduced', 'recognition', 'rebel', 'rear', 'property', 'privy', 'plunged', 'planted', 'planning', 'pearl', 'pack', 'orgy', 'oppose', 'monkey', 'midst', 'melt', 'meat', 'market', 'looted', 'lion', 'leap', 'instant', 'innkeep', 'injured', 'human', 'hull', 'hit', 'hired', 'handful', 'flock', 'fateful', 'exhausted', 'engaged', 'drowning', 'drown', 'dragonback', 'doll', 'curtain', 'crossbowmen', 'crest', 'copper', 'circled', 'chill', 'certainty', 'cavern', 'boil', 'blackened', 'bit', 'balance', 'awkward', 'aloft', 'afternoon', 'ablaze', 'ability', 'Warrior', 'Ruin', 'Outside', 'Orphan', 'Maker', 'Last', 'Kinslayer', 'Heroes', 'Brackens', 'Adrian', 'withered', 'watchman', 'unclaimed', 'twist', 'trampled', 'terrified', 'tankard', 'swooping', 'suspicious', 'studied', 'stare', 'speed', 'spearpoint', 'southwest', 'sinking', 'singing', 'sheltered', 'scarlet', 'satin', 'rope', 'roaring', 'retreating', 'retake', 'refuge', 'raper', 'presume', 'pouring', 'plied', 'pause', 'numbered', 'mood', 'mist', 'mile', 'maggot', 'lowered', 'longbow', 'lightning', 'lighting', 'knocked', 'inner', 'howl', 'hovel', 'helpless', 'hardened', 'hanging', 'hammer', 'guarded', 'grasping', 'gout', 'gaunt', 'flowed', 'filling', 'feeding', 'engulfed', 'dread', 'displayed', 'deck', 'damp', 'daily', 'cure', 'crooked', 'crawl', 'corsair', 'controlled', 'consumed', 'competitor', 'closing', 'clean', 'chanced', 'buried', 'brutal', 'bravely', 'boiling', 'availed', 'arose', 'ala', 'absolute', 'Unable', 'Trombo', 'Trade', 'Point', 'Pate', 'Near', 'Meraxes', 'Legend', 'Hogg', 'Head', 'Garden', 'Did', 'Could', 'Abandon', 'wyvern', 'wyrm', 'withstand', 'whaler', 'westward', 'web', 'waged', 'vigil', 'victor', 'unthinkable', 'ugly', 'tumbling', 'thunder', 'throng', 'tasted', 'swim', 'swam', 'stillborn', 'staggered', 'sprawled', 'sprang', 'sphere', 'spectator', 'sounded', 'sorcerer', 'sober', 'sneak', 'snapping', 'smashed', 'slid', 'slammed', 'shoving', 'shoved', 'shirt', 'shaved', 'scum', 'scorpion', 'scabbard', 'sallied', 'rout', 'rouse', 'rioter', 'riot', 'ridge', 'removing', 'reduce', 'recover', 'reaching', 'rained', 'quest', 'psychic', 'provoked', 'proprietor', 'prompting', 'preserved', 'preach', 'pox', 'postern', 'ponderous', 'pierced', 'parted', 'obeyed', 'oak', 'nightfall', 'movement', 'motherhouse', 'mead', 'mariner', 'loud', 'load', 'lift', 'leather', 'lakeshore', 'instinct', 'hue', 'hoof', 'hip', 'hindsight', 'hawking', 'harmed', 'guarding', 'goddess', 'gleaming', 'forcing', 'fodder', 'flushed', 'flank', 'fighter', 'fiercely', 'exotic', 'eaten', 'earning', 'drunkenly', 'dragonslayers', 'drag', 'dockside', 'disaster', 'disappeared', 'deserted', 'defied', 'deepened', 'creeping', 'crawling', 'crashing', 'contagion', 'coal', 'clutching', 'club', 'climbing', 'clangor', 'chart', 'charred', 'cavernous', 'cake', 'broad', 'breathing', 'brandishing', 'bookish', 'blowing', 'blockade', 'biting', 'betwixt', 'bench', 'auspicious', 'astride', 'assessed', 'appearing', 'aflame', 'accustomed', 'Volantenes', 'Titan', 'Time', 'Songs', 'Shrykos', 'Pound', 'Perfumed', 'Nessaria', 'Morghul', 'Kill', 'Islanders', 'Hobb', 'Groves', 'Flying', 'Defiance', 'Can', 'Buttercakes', 'Burning', 'Asshai', 'Aside', '84', 'writhing', 'writhed', 'wrenched', 'wreaked', 'wondrous', 'whim', 'watered', 'watcher', 'wandered', 'vein', 'vanishing', 'upper', 'untouched', 'unnatural', 'tumbled', 'trembled', 'translator', 'transformed', 'tradesman', 'tooth', 'tangle', 'tamed', 'swung', 'swooped', 'sweetest', 'sweat', 'succumb', 'structure', 'strewn', 'streaked', 'store', 'stopping', 'stock', 'steer', 'steep', 'stealth', 'stallion', 'splintered', 'spiral', 'spectacle', 'solid', 'sojourn', 'soared', 'soar', 'slayer', 'slaver', 'significance', 'shifting', 'sheet', 'shaggy', 'shaft', 'severe', 'separately', 'selfsame', 'scurrying', 'scrambled', 'scent', 'sapphire', 'ruse', 'rumored', 'route', 'rot', 'rolling', 'rocky', 'riverside', 'ripping', 'ringing', 'resisted', 'resembled', 'repaired', 'recount', 'rebuilt', 'reappear', 'range', 'ram', 'rainstorm', 'rag', 'raced', 'quicker', 'punched', 'prowling', 'pretending', 'preached', 'pole', 'plague', 'pitched', 'pile', 'piercing', 'pall', 'palanquin', 'packed', 'ordinary', 'opulent', 'officer', 'noticed', 'noise', 'nightly', 'navigate', 'mutton', 'muttering', 'mouthed', 'moor', 'minion', 'membrane', 'melting', 'mare', 'mammoth', 'malformed', 'magnificent', 'magic', 'lurched', 'looting', 'loathed', 'littered', 'lashing', 'lashed', 'kicking', 'kicked', 'joint', 'jagged', 'intervene', 'inspection', 'innkeeps', 'informer', 'impregnable', 'impoverished', 'impaled', 'hunter', 'housed', 'horizon', 'hoary', 'hillside', 'hemmed', 'heat', 'hatred', 'halted', 'halfway', 'greybeard', 'grapnel', 'gonfaloniere', 'gilded', 'ghastly', 'gaping', 'frozen', 'fountain', 'fortress', 'floated', 'flat', 'flashing', 'flag', 'fifteenth', 'fetter', 'feasting', 'eunuch', 'eternal', 'entrails', 'easier', 'dromond', 'drained', 'dragonslayer', 'dissolve', 'dismayed', 'disemboweled', 'dirk', 'destriers', 'describe', 'denizen', 'den', 'demise', 'dear', 'dais', 'cudgel', 'crackling', 'cracking', 'crack', 'contested', 'concur', 'colossal', 'collarbone', 'cobbled', 'cobalt', 'cloaked', 'chase', 'catch', 'carving', 'cart', 'carrion', 'cane', 'cage', 'buying', 'butchered', 'brute', 'brawl', 'brain', 'boot', 'bolder', 'boiled', 'blond', 'blinded', 'blew', 'bleed', 'bleak', 'blaze', 'bite', 'betrayer', 'bathed', 'bare', 'baker', 'backward', 'apex', 'anyway', 'alarum', 'aim', 'ahorse', 'accounted', 'accomplishment', 'Without', 'Uplands', 'Unsullied', 'Ummet', 'Shouts', 'Serwyn', 'Rhoyne', 'Plans', 'Pepper', 'Oft', 'Nonetheless', 'Meereen', 'Knife', 'Kingspyre', 'Jade', 'Honeywine', 'Honeyholt', 'Hearing', 'Fortunately', 'Fewer', 'Everything', 'Eight', 'Doggett', 'Death', 'Crackclaw', 'Coast', 'Chamber', 'Bean', 'Atop', 'Astapor', 'Alas', '…and', 'wrought', 'wrath', 'worm', 'wool', 'winged', 'widening', 'widened', 'wheat', 'wedge', 'washing', 'warily', 'warhorn', 'wafted', 'voyager', 'volcano', 'vigor', 'veracity', 'vaulted', 'vanquished', 'upward', 'unspeakable', 'unseen', 'undo', 'undervaults', 'underfoot', 'underbelly', 'tyranny', 'twelfth', 'turnip', 'trout', 'troop', 'trackless', 'tow', 'tossed', 'torchlight', 'ton', 'tolled', 'tinged', 'tile', 'tightness', 'thundering', 'thunderbolt', 'thickened', 'terrifying', 'tattered', 'tasked', 'tangled', 'tame', 'tack', 'symbol', 'sweep', 'swarm', 'swamp', 'surged', 'summary', 'suchwise', 'succor', 'stye', 'sty', 'stumbling', 'stumble', 'strode', 'stretched', 'straightened', 'storyteller', 'storehouse', 'stored', 'stirred', 'stinking', 'stiffly', 'stared', 'standard', 'stalk', 'squatter', 'squabbled', 'spinning', 'spanned', 'soaring', 'snatching', 'snapped', 'slung', 'sloughing', 'slitting', 'slim', 'sleepy', 'skinned', 'skiff', 'silvered', 'signaling', 'shrouded', 'shone', 'sheer', 'shattering', 'sharpened', 'sewing', 'seventy', 'sensitive', 'searched', 'scrubbing', 'scrubbed', 'scratched', 'scourge', 'scope', 'scolding', 'scab', 'sampled', 'salute', 'salmon', 'saddling', 'sacking', 'rut', 'rusted', 'rude', 'romance', 'robbing', 'robber', 'roasting', 'ringmail', 'reserved', 'repute', 'rejoin', 'regular', 'reed', 'rebuild', 'reared', 'ratcatchers', 'raked', 'racing', 'quailed', 'purview', 'pursuer', 'purchase', 'puffy', 'prowl', 'prise', 'prickly', 'prick', 'preyed', 'prevailing', 'presided', 'precedence', 'preaching', 'porter', 'pondered', 'pipe', 'piney', 'pinched', 'pepper', 'peak', 'parrot', 'ox', 'overwhelm', 'outrider', 'nostril', 'northwest', 'myriad', 'mute', 'moonlight', 'miserable', 'mill', 'mattered', 'mating', 'masterless', 'mainland', 'lurching', 'lowborn', 'looming', 'loomed', 'loaded', 'lizard', 'lithe', 'linen', 'leviathan', 'leathern', 'leaping', 'lawless', 'larder', 'lace', 'kraken', 'juggler', 'ivory', 'intimate', 'interfere', 'inspecting', 'inland', 'inflicted', 'impunity', 'importance', 'hoe', 'hissing', 'hissed', 'him…until', 'hidey', 'headlong', 'havoc', 'hauled', 'haul', 'hatching', 'hardest', 'hale', 'guise', 'guild', 'grotesque', 'groin', 'grappled', 'grandest', 'goose', 'goat', 'glittered', 'glib', 'gifted', 'genitals', 'gasp', 'garment', 'gambling', 'galloped', 'fumbling', 'fronting', 'fray', 'foundation', 'fort', 'forewarned', 'foretold', 'fooled', 'flocked', 'floating', 'fling', 'flashed', 'firestorm', 'filthy', 'feedback', 'feathered', 'fatally', 'faster', 'farmer', 'fanning', 'fading', 'faded', 'exclusion', 'exacted', 'evaded', 'escaping', 'equipped', 'entangled', 'enormously', 'embroidered', 'elk', 'eliminated', 'efficacious', 'edifice', 'echoing', 'eastward', 'eagle', 'dwelt', 'dwelled', 'dutifully', 'dusty', 'dug', 'drum', 'dripped', 'driftwood', 'dragonpit', 'dragonless', 'dragging', 'downward', 'domesticated', 'divide', 'divert', 'disturb', 'district', 'disruption', 'disperse', 'disorganized', 'dismal', 'disgraced', 'discretion', 'diminished', 'differing', 'dialect', 'devouring', 'devastating', 'desperation', 'desert', 'descends', 'dented', 'demise…but', 'delirium', 'deer', 'deceit', 'debris', 'debauchery', 'dangling', 'damaged', 'cursing', 'crust', 'crude', 'crowding', 'crone', 'cowl', 'cow', 'countryside', 'cookfire', 'contradictory', 'contend', 'contemptuously', 'conceal', 'comforted', 'combatant', 'cleaving', 'cleanse', 'clawing', 'clambered', 'cistern', 'circlet', 'chunk', 'chased', 'cattle', 'casting', 'carpet', 'capturing', 'caprice', 'capering', 'candlemaker', 'byway', 'brilliant', 'brigand', 'breathe', 'breasted', 'bowl', 'bondage', 'bludgeoned', 'bloodstained', 'bloodiest', 'blazing', 'blasted', 'before…and', 'barley', 'bard', 'banked', 'bandit', 'bag', 'bacon', 'available', 'athwart', 'ascertain', 'ambush', 'Wood', 'Wild', 'Whoever', 'Watchers', 'Warrick', 'Velvet', 'Ulthos', 'Trapped', 'Thirty', 'Swan', 'Supposedly', 'Streets', 'Sometimes', 'Slaver', 'Sick', 'Shunning', 'Shipwright', 'Shipbreaker', 'Seldom', 'Seasons', 'Screaming', 'Row', 'Rosamund', 'Queens', 'Pantera', 'Out', 'Mirror', 'Leaving', 'Knights', 'Jorah', 'Its', 'Ibbenese', 'Ib', 'Hundred', 'Hills', 'Hardhome', 'Greenshield', 'Feastfires', 'Farther', 'Exile', 'Durran', 'Drum', 'Defeat', 'Days', 'Crabbs', 'Columns', 'Certain', 'Burned', 'Brunes', 'Brothel', 'Borderland', 'Barristan', 'Arsenal', 'Armed', 'Always', 'Alley', 'Ale', '96', '71', '127', 'yon', 'wriggled', 'wrestle', 'wrenching', 'wrecker', 'wreaking', 'wounds…yet', 'worshipper', 'wormbone', 'worldly', 'woodsman', 'wolfswood', 'withstood', 'wispy', 'wingless', 'wingbones', 'wildly', 'whorehouse', 'whistling', 'whistled', 'whirlpool', 'whirl', 'whichever', 'wheeze', 'wheeling', 'wharfside', 'whacking', 'whack', 'weaken', 'waving', 'water…like', 'watchtower', 'was—stirred', 'wartime', 'warhammer', 'wargs', 'wailed', 'visor', 'viscera', 'violently…then', 'viand', 'verdant', 'venom', 'veer', 'vaults…a', 'valley', 'vale', 'vagabond', 'untrained', 'unshorn', 'unscathed', 'unmanned', 'unleashed', 'unity', 'undreamed', 'understandable', 'undercellars', 'undaunted', 'unanswered', 'unaccountably', 'twitch', 'turret', 'true…and', 'trot', 'trodden', 'trod', 'triumphal', 'tremendous', 'translucent', 'traduced', 'towed', 'tottered', 'tormenter', 'torcs', 'tolerant', 'tirelessly', 'tipped', 'tiller', 'tightened', 'thunderstorm', 'three—', 'thrashing', 'thoroughfare', 'thinner', 'thigh', 'thicken', 'tested…but', 'terribly', 'tenet', 'tendril', 'technique', 'taxed', 'tavernkeepers', 'tatter', 'tariff', 'tan', 'tainted', 'tableau', 'swordsmanship', 'swordbelts', 'swoop', 'swirling', 'swinging', 'swiftest', 'sweetwine', 'sweetwater', 'swan', 'swaggered', 'suspiciously', 'suspecting', 'supreme', 'supremacy', 'superstitious', 'sun…and', 'sundering', 'suffocatingly', 'suckled', 'stub', 'strangulation', 'strait', 'straightaway', 'straggling', 'straggler', 'straggled', 'stooping', 'stooped', 'stiffening', 'stevedore', 'steersman', 'steered', 'starved', 'startled', 'stank', 'stanchion', 'stammerer', 'staggering', 'stabled', 'squirmed', 'squealed', 'springing', 'spraying', 'spilling', 'spark', 'span', 'spade', 'sow', 'southerly', 'sourgut', 'soon…for', 'socket', 'snowy', 'snored', 'sniffed', 'smote', 'smoldering', 'smelling', 'slumber', 'slum', 'slowing', 'sloughed', 'slide', 'slicing', 'slattern', 'slate', 'slamming', 'simultaneous', 'silversmith', 'shuffle', 'shrinking', 'shrewdness', 'showering', 'shoulder…then', 'shorn', 'shopkeeper', 'shiver', 'shipwrecked', 'shied', 'sharper', 'shamed', 'shallow', 'shadowcat', 'shadowbinders', 'sewn', 'serpent', 'senseless', 'seizing', 'seethe', 'seemed…', 'seedy', 'seaman', 'scourged', 'scoundrel', 'scorch', 'scooped', 'scented', 'scattering', 'scarecrow', 'say…whose', 'sawing', 'savaging', 'savaged', 'satisfaction', 'salvation', 'salty', 'said…though', 'said…but', 'said…and', 'saffron', 'sadness', 'saddled', 'rutted', 'rummage', 'ruined…but', 'ruder', 'rubble', 'rower', 'rotted', 'roseroad', 'roar…but', 'roamed', 'roadworks', 'roach', 'ripe', 'rioting', 'rigging', 'ride…and', 'riddled', 'return…but', 'resurgent', 'resounded', 'reserve', 'replenishing', 'repetition', 'repel', 'repainted', 'rending', 'rendered', 'remarkable', 'remake', 'relentless', 'regaling', 'reforged', 'reflection', 'reel', 'redspots', 'recruiting', 'reave', 'reasons…but', 'realm…though', 'razor', 'raze', 'raw', 'raving', 'ravening', 'raping', 'rapine', 'ranging', 'rampaging', 'rally…and', 'raiment', 'ragtag', 'racer', 'quickness', 'quell', 'purring', 'purifying', 'purged', 'pureborn', 'prowled', 'provenance', 'protruding', 'proposing', 'prong', 'prompted', 'profession', 'prized', 'premature', 'preferably', 'predator', 'precious…a', 'pragmatic', 'pounding', 'pouch', 'potent', 'posture', 'possible…though', 'portend…none', 'porridge', 'pork', 'pond', 'pod', 'plunging', 'plundered', 'plough', 'pleasuring', 'plaything', 'placate', 'pit…but', 'pitchfork', 'pier', 'pieces…if', 'pickpocket', 'perfumed', 'pelted', 'peer', 'peek', 'pealed', 'peaceably', 'patched', 'passionately', 'passenger', 'partly', 'participated', 'participate', 'participant', 'partially', 'parched', 'paraded', 'pantaloon', 'painfully', 'own…but', 'overrun', 'overgrown', 'outpacing', 'outcropping', 'ounce', 'ostler', 'ornamented', 'orderly', 'orchard', 'operate', 'on…until', 'on…and', 'onrushing', 'ointment', 'offshore', 'offloading', 'oddment', 'occasional', 'observant', 'obscenely', 'obese', 'oared', 'nutmeg', 'nut', 'nursing', 'numb', 'nuisance', 'nourished', 'nimbler', 'night…where', 'nightwood', 'nightclothes', 'nightblack', 'nicked', 'netting', 'nether', 'net', 'neighbor', 'negligible', 'needle', 'narrowest', 'nailing', 'muttered', 'mustard', 'mustachio', 'mushroom', 'musculature', 'murderous', 'muffled', 'mouthful', 'mountebank', 'mountaintop', 'mottled', 'moonrise', 'monstrosity', 'moments…', 'misty', 'mischance', 'mingling', 'mindless', 'mildest', 'migrated', 'mien', 'mercifully', 'mended', 'memorably', 'mega', 'meadow', 'maverick', 'mauled', 'mattress', 'mated', 'marble', 'manure', 'mankind', 'mangled', 'makeshift', 'majestic', 'made…', 'maddening', 'maddened', 'lung', 'lowering', 'lost…all', 'lost…', 'looped', 'longaxes', 'longaxe', 'log', 'literature', 'listlessly', 'listener', 'licked', 'lick', 'license', 'lewd', 'lent', 'leisure', 'legged', 'leechcraft', 'leathery', 'leak', 'lax', 'lavender', 'last…but', 'largesse', 'languish', 'landless', 'laired', 'laden', 'krakens', 'known—a', 'kinsman', 'kindled', 'ken', 'jutted', 'justify', 'juncture', 'jowl', 'jolly', 'jeweled', 'jerked', 'jelly', 'jealous', 'jammed', 'jabbed', 'it…there', 'it…if', 'it…but', 'itinerant', 'irrespective', 'invitation', 'intriguing', 'intensely', 'intelligent', 'inspect', 'insatiable', 'inhalation', 'inhabitant', 'indignity', 'indifferent', 'incited', 'incinerating', 'incalculable', 'imprint', 'impervious', 'impasse', 'impassable', 'immolation', 'immolate', 'imminent…until', 'immersing', 'imitate', 'if…no', 'icicle', 'iced', 'hut', 'humblest', 'huddled', 'huddle', 'hub', 'howled', 'however…and', 'hounded', 'hotter', 'hostelry', 'horsehair', 'horrifically', 'hllor', 'hither', 'hireling', 'hindrance', 'hinder', 'heeled', 'heat…it', 'headfirst', 'hazy', 'hatchery', 'harshly', 'harness', 'harmless', 'harming', 'hare', 'harassed', 'half…but', 'haggard', 'guttersnipe', 'guttered', 'gusting', 'gust', 'gushed', 'gull', 'guesting', 'grumbling', 'grounds…but', 'grinning', 'grimmer', 'greediest', 'gravel', 'grassy', 'gorget', 'gorge', 'goldroad', 'goading', 'glimpsing', 'glimmering', 'glazed', 'glared', 'glanced', 'girdle', 'giggled', 'gemstone', 'gash', 'garroted', 'garlic', 'gargantuan', 'gaped', 'gape', 'gaol', 'galleon', 'gait', 'gaining', 'fused', 'furnace', 'fulminated', 'frosty', 'frock', 'fright', 'friends…her', 'friendless', 'freshwater', 'frenzied', 'free…and', 'freezing', 'fragmentary', 'fragile', 'fourteenth', 'foundered', 'foulest', 'fouled', 'fortures', 'fornication', 'foreordained', 'footstep', 'footing', 'foothill', 'fog', 'flux', 'flawless', 'flaunted', 'flattening', 'flapping', 'flames…but', 'flamed', 'flaking', 'fish…some', 'fishermongers', 'fisher', 'firing', 'fired', 'finance', 'filed', 'figured', 'fevers…hardly', 'festered', 'fervid', 'fervent', 'ferryman', 'feral', 'felters', 'featherbed', 'feasters', 'fearless…and', 'fathom', 'fastness', 'fasten', 'fashioned', 'fascinating', 'farrier', 'fade', 'faceless', 'fabric', 'exuberant', 'exposure', 'explosive', 'expiring', 'expenditure', 'exhibit', 'exhaled', 'exercised', 'executes', 'exacting', 'eventualy', 'eventide', 'evade', 'etch', 'espying', 'espied', 'eschewed', 'erupted', 'equipment', 'envied', 'entombed', 'enticingly', 'entangling', 'enrage', 'engulfing', 'engraved', 'enforced', 'endurance', 'endemic', 'encased', 'enabling', 'employ', 'empathic', 'embroidery', 'embedded', 'elusive', 'effacing', 'earn', 'dōros', 'dyed', 'dumped', 'dulling', 'dueling', 'dueled', 'drylands', 'drunker', 'droppings', 'droned', 'drinker', 'dreg', 'dredged', 'drake', 'dragon—whichever', 'dragontamers', 'dragons…but', 'dragonskin', 'downstream', 'downriver', 'dove', 'doused', 'dominated', 'docile', 'divvy', 'diving', 'disturbance', 'distracts', 'distinctive', 'disquieted', 'disport', 'dispensed', 'disordered', 'disobeying', 'disinterested', 'disembark', 'discount', 'discharged', 'discerned', 'discarding', 'diminishing', 'did…though', 'dickering', 'dickered', 'dew', 'devour', 'devastation', 'destrier', 'desolation', 'desolate', 'desired—but', 'deposit', 'dense', 'delving', 'delicately', 'defensible', 'decorate', 'dealing', 'dead…or', 'dating', 'darted', 'darkened', 'dank', 'cushioned', 'curved', 'curling', 'crusted', 'crunch', 'crumble', 'cruder', 'crouching', 'crouched', 'crossroad', 'cropped', 'crisscrossed', 'crimson', 'crested', 'creatures…monkeys', 'crashed', 'crash', 'cranked', 'crag', 'covert', 'covering', 'courser', 'counterplot', 'could…', 'corn', 'cordon', 'cooked', 'convulse', 'contingent', 'consuming', 'commonly', 'colony', 'collar', 'clotted', 'cleared', 'cleaned', 'clan', 'clambering', 'clamber', 'city…and', 'churning', 'chimera', 'cheesemakers', 'chatter', 'chastised', 'charger', 'chant', 'certain…swellings', 'certain…guild', 'cede', 'caulked', 'carrack', 'cap', 'canyon', 'candle', 'cancel', 'campfire', 'calf', 'calculation', 'butter', 'burnished', 'bullying', 'bulged', 'buffeting', 'buckling', 'buckled', 'bubbling', 'brownleg', 'broom', 'brook', 'broadside', 'broadest', 'brighter', 'bridle', 'brick', 'bred', 'breathtaking', 'breathes', 'breastplate', 'break…until', 'breached', 'brain…if', 'braid', 'bracing', 'bountiful', 'bones…but', 'bolted', 'boded', 'boarded', 'bloomed', 'blood…but', 'bloodier', 'bloated', 'blizzard', 'blister', 'blinked', 'blinding', 'bleached', 'blacker', 'blacken', 'bitten', 'bisected', 'birthplace', 'birthed', 'bending', 'below…only', 'befouling', 'before…or', 'bed…only', 'bedclothes', 'beasts…yet', 'beam', 'bawl', 'battling', 'battle…slain', 'battering', 'bathing', 'basilisk', 'bash', 'barrowlands', 'barge', 'bareheaded', 'banking', 'balefully', 'baleful', 'back…and', 'awed', 'awake', 'aversion', 'attributed', 'attentively', 'attentive', 'attack…', 'atrophied', 'assuredly', 'assert…', 'assailant', 'arm…oh', 'aristocrat', 'arcade', 'aquiline', 'apron', 'and…especially…in', 'anchor', 'anathema', 'amuses', 'amplified', 'ambuscade', 'alighted', 'ailment', 'aiding', 'after…but', 'affording', 'advised', 'admiring', 'administer', 'acre', 'aching', 'accomodations', 'accepting', 'abysmal', 'abroad', 'Won', 'Wiser', 'Wines', 'Wheaton', 'Wendwater', 'Wealthy', 'Volon', 'Volleys', 'Victory', 'Victims', 'Varys', 'Various', 'Vale…an', 'VI', 'Urrax', 'Up', 'Unwisely', 'Uncle', 'Unclaimed', 'Twice', 'Twelve', 'Twas', 'Turning', 'Truth', 'Travelers', 'Traders', 'Torreo', 'Torrentine', 'Tor', 'Too', 'Today', 'Thunder', 'Thinking', 'Thin', 'Thieves', 'Thick', 'Therys', 'Thence', 'Terrified', 'Tails', 'Sweetwillow', 'Survivors', 'Surrounded', 'Supremely', 'Supported', 'Suddenly', 'Stumbling', 'Storming', 'Stonyhead', 'Southshield', 'South', 'Soft', 'Soaring', 'Slowly', 'Slipping', 'Slimy', 'Sitting', 'Shoving', 'Shorn', 'Shore', 'Shops', 'Ship', 'Shamed', 'Serving', 'Seas', 'Scorpions', 'Scarcely', 'Sallydance', 'Sailors', 'Robed', 'Robber', 'Rising', 'Ripples', 'Riderless', 'Ride', 'Recall', 'Reborn', 'Reach…', 'Ranger', 'Quicksilver', 'Qorgyle', 'Purple', 'Prayers', 'Poultices', 'Possibly', 'Pink', 'Penny', 'Pass', 'Packing', 'Pack', 'Orthys', 'Oak…there', 'Oakenshield', 'Ninety', 'Nightflyers', 'Myrmadora', 'Mounted', 'Mossovy', 'Moreo', 'Moraq', 'Moments', 'Merrydown', 'Matteno', 'Mancaster', 'Males', 'Loyal', 'Lorathi', 'Looters', 'Locked', 'Landing…and', 'Lamb', 'Lakeshore', 'Kingslander', 'Khaleesi', 'Inns', 'Innkeeps', 'Initially', 'Impaled', 'Hāros', 'Hot', 'Hoping', 'Holy', 'Higher', 'Hellholt', 'Heavy', 'Hearth', 'Harrenhal…and', 'Gutted', 'Guardsmen', 'Godsgrief', 'Gate…but', 'Fury', 'Fourmasted', 'Forlorn—whether', 'Footlys', 'Fish', 'Finding', 'Ferry', 'Feasts', 'Fearful', 'Farwynds', 'Farwynd', 'Farman…and', 'Farmans', 'Fanned', 'Falena', 'Facing', 'Everywhere', 'Euron', 'Emeralds', 'Elms', 'Eastwatch', 'Dusk', 'Drinking', 'Dreamfyre…and', 'Dragonlords', 'Discontent', 'Despairing', 'Dell', 'Deal', 'Deadly', 'Daughters…but', 'Dagareon', 'Crossed', 'Crashing', 'Conquerors', 'Concurrently', 'Cold', 'Coal', 'Choice', 'Childbed', 'Chaos', 'Carts', 'Cannibal…', 'Camp', 'Cameron…and', 'Cameron', 'Call', 'Burner', 'Brought', 'Brimstone', 'Bribing', 'Bloodied', 'Bloodbath', 'Blind', 'Bleeding', 'Blackcrown', 'Billy', 'Benton', 'Beginning', 'Bechester', 'Bay…for', 'Bawdy', 'Bartossi', 'Bands', 'Balked', 'Badger', 'Attacked', 'Assembling', 'Arthur', 'Arriving', 'Archers', 'Arbor…but', 'Annoyed', 'Already', 'Alchemists', 'Again', 'Afraid', 'Aemond—Jace', 'Adventurers', 'Additional', 'Accounts', 'Aboard', 'Abandoning', '95', '85', '75', '55th']\n",
      "['Rhaenyra', 'Viserys', 'Daemon', 'Aegon', 'Alicent', 'say', 'daughter', 'In', 'House', 'He', 'might', 'father', 'death', 'Corlys', 'Iron', 'though', 'however', 'Princess', 'heir', 'Aemond', 'Otto', 'Rhaenys', 'Criston', 'Laenor', 'As', 'must', 'name', 'left', 'return', 'Driftmark', 'claim', 'marriage', 'second', 'Strong', 'Laena', 'side', 'given', 'younger', 'birth', 'egg', 'give', 'small', 'right', 'reign', 'may', 'green', 'Cole', 'Stepstones', 'leave', 'Valyrian', 'throne', 'older', 'Maegor', 'Arryn', 'power', 'Jace', 'show', 'without', 'uncle', 'room', 'always', 'family', 'crown', 'look', 'born', 'Luke', 'guard', 'different', 'support', 'passed', 'instead', 'common', 'Aemma', 'wanted', 'history', 'Lucerys', 'present', 'Harwin', 'marry', 'eldest', 'door', 'open', 'Small', 'Pentos', 'longer', 'refused', 'moment', 'taking', 'succession', 'offer', 'kill', 'insists', 'get', 'high', 'Conqueror', 'rather', 'order', 'near', 'let', 'hold', 'brothel', 'Vaemond', 'asks', 'help', 'force', 'Valyria', 'dream', 'reason', 'cast', 'begin', 'Seasmoke', 'tongue', 'Syrax', 'Mysaria', 'Free', 'source', 'sex', 'secret', 'Mellos', 'try', 'truly', 'murder', 'Instead', 'warrior', 'dagger', 'decided', 'Harrold', 'meeting', 'male', 'alliance', 'pleasure', 'grandson', 'nothing', 'Rhea', 'Greens', 'start', 'private', 'funeral', 'Royce', 'duty', 'tear', 'insisting', 'drunk', 'ahead', 'Jason', 'tradition', 'table', 'rise', 'powerful', 'news', 'niece', 'got', '101', 'run', 'report', 'quickly', 'else', 'draw', 'allow', 'skull', 'silent', 'seems', 'secure', 'position', 'played', 'conflict', 'sure', 'supporter', 'move', 'gathered', 'accept', 'Lyman', 'shout', 'remark', 'fond', 'charge', 'Street', 'Later', 'whisper', 'raise', 'horror', 'follow', 'despite', 'cup', 'cry', 'continue', 'clothes', 'ceremony', 'baby', 'angrily', 'Westerling', 'Qarl', 'state', 'silence', 'hunt', 'demand', 'mind', 'memory', 'knowledge', 'killing', 'closer', 'asserts', 'approach', 'according', 'Lonmouth', 'Cruel', 'therefore', 'expected', 'cradle', 'conversation', 'control', 'clear', 'arrival', 'urge', 'trying', 'suspicion', 'prophetic', 'labor', 'evening', 'dress', 'custom', 'claimant', 'suggests', 'refuse', 'protest', 'mistake', 'intention', 'declares', 'belief', 'ally', 'wonder', 'sibling', 'saved', 'particularly', 'immediately', 'drunken', 'discussion', 'anything', 'aged', 'advance', 'Younger', 'Tyraxes', 'Song', 'turning', 'reply', 'replace', 'preferred', 'pact', 'handed', 'escort', 'desire', 'boat', 'adult', 'Dark', 'An', 'wearing', 'suitor', 'similar', 'safety', 'rejected', 'produced', 'pirate', 'front', 'discus', 'directly', 'condemned', 'asking', 'action', 'Westerosi', 'Erryk', 'suggesting', 'role', 'playing', 'notice', 'lover', 'journey', 'inform', 'entered', 'dangerous', 'condition', 'candidate', 'betrothed', 'anyone', 'anger', 'worst', 'succeed', 'situation', 'sitting', 'person', 'parent', 'insult', 'grandfather', 'glory', 'gently', 'general', 'exile', 'encounter', 'allegiance', 'admits', 'While', 'Moreover', 'unclear', 'spend', 'rush', 'really', 'practice', 'middle', 'losing', 'list', 'inheritance', 'inherit', 'gained', 'furious', 'exchange', 'entrance', 'discovered', 'conquest', 'concerned', 'celebrate', 'aware', 'attend', 'arrives', 'Neither', 'Just', 'Drahar', 'tea', 'suggest', 'striking', 'respect', 'recent', 'receive', 'knowing', 'knife', 'enmity', 'drinking', 'dressed', 'crowned', 'claiming', 'attendance', 'attacking', 'apparent', 'Rhaegar', 'Correy', 'torture', 'telling', 'suspect', 'shock', 'sense', 'retort', 'potential', 'naming', 'mistress', 'kneel', 'kinslayer', 'introduces', 'intends', 'informs', 'hart', 'grandchild', 'garden', 'finish', 'exact', 'evil', 'enters', 'crow', 'campaign', 'bitterly', 'attempted', 'arranged', 'Steffon', 'Crabfeeder', 'virgin', 'towards', 'suggestion', 'speaks', 'showing', 'rivalry', 'rid', 'restored', 'pursuit', 'page', 'openly', 'officially', 'midwife', 'marrying', 'fortune', 'duel', 'dismisses', 'center', 'brings', 'bonded', 'badly', 'audience', 'Within', 'Several', 'Rather', 'Heir', 'Back', 'value', 'swiftly', 'subsequent', 'status', 'slowly', 'sharply', 'self', 'scoff', 'sailing', 'ribald', 'responsible', 'pull', 'produce', 'nearly', 'meanwhile', 'lesson', 'lawful', 'horrified', 'extent', 'expect', 'everyone', 'ensure', 'embrace', 'dynasty', 'dy', 'difference', 'deny', 'deeply', 'corner', 'choosing', 'chair', 'becoming', 'avoid', 'argument', 'ambitious', 'aloud', 'allowing', 'Wylde', 'Ten', 'Starring', 'Kingswood', 'Jasper', 'Elsewhere', 'Aenar', 'wherever', 'unlike', 'tone', 'summons', 'suit', 'stunned', 'spurned', 'solace', 'repeat', 'reminds', 'relatively', 'recognized', 'punch', 'plotting', 'plead', 'peaceful', 'noting', 'nobility', 'newborn', 'merely', 'lust', 'lean', 'hunger', 'hint', 'grandmother', 'granddaughter', 'edge', 'easy', 'discussing', 'decide', 'confusion', 'challenge', 'caused', 'bluntly', 'bloodline', 'bleeding', 'arrangement', 'addition', 'Worm', 'whereas', 'visible', 'victorious', 'utterly', 'united', 'ultimately', 'tour', 'tired', 'tension', 'stepdaughter', 'sarcastically', 'revealing', 'resigned', 'reclaim', 'ransom', 'picked', 'outraged', 'mourn', 'manages', 'joust', 'invite', 'indicating', 'heavily', 'hate', 'hailed', 'grudgingly', 'glance', 'farce', 'express', 'considerable', 'beg', 'agreement', 'affair', 'advantage', 'Houses', 'Davos', 'Daenys', 'Blacks', 'waste', 'warns', 'virginity', 'violence', 'urging', 'total', 'thanks', 'speech', 'snap', 'slay', 'silently', 'seduce', 'reminding', 'rely', 'relief', 'prosperity', 'prospect', 'pregnancy', 'precedent', 'possession', 'pointing', 'personally', 'outright', 'observes', 'noblewoman', 'managed', 'legacy', 'leechings', 'latest', 'interrupted', 'interested', 'handmaid', 'greeted', 'grab', 'gain', 'frustrated', 'firmly', 'fealty', 'excited', 'evidence', 'elsewhere', 'drop', 'discussed', 'crush', 'crisis', 'couple', 'counter', 'consummated', 'condensed', 'clutch', 'chides', 'chastity', 'block', 'argues', 'animal', 'angered', 'alleged', 'agrees', 'aftermath', 'advice', 'accuses', 'accident', 'Table', 'Laws', 'Jerrel', 'winning', 'vote', 'vassal', 'union', 'trap', 'traditional', 'tearful', 'talked', 'strongest', 'starting', 'serious', 'romantic', 'remembers', 'reinforcement', 'refusal', 'referring', 'prominently', 'proceeding', 'preparation', 'pre', 'praise', 'pig', 'performance', 'onlooker', 'model', 'lonely', 'legitimacy', 'learns', 'lament', 'knock', 'kingswood', 'jester', 'interrupt', 'incredulous', 'illness', 'haste', 'grace', 'goal', 'glare', 'furiously', 'feeble', 'expensive', 'exactly', 'everything', 'enraged', 'deathbed', 'consequence', 'confronts', 'confirm', 'confident', 'concludes', 'circle', 'calendar', 'bored', 'becomes', 'approaching', 'agony', 'advisor', 'adamant', 'accuse', 'abandon', 'Needham', 'Furious', 'Freys', 'Although', '60', 'wrist', 'worried', 'urchin', 'upset', 'unite', 'unaware', 'tragic', 'tense', 'surprising', 'surname', 'strained', 'softly', 'snuck', 'sliding', 'sighted', 'shrine', 'shocked', 'shift', 'sends', 'selling', 'rushing', 'ripple', 'revenge', 'resulting', 'responds', 'respond', 'renewed', 'recovery', 'realizes', 'rally', 'race', 'proposes', 'privately', 'primogeniture', 'pretext', 'preference', 'politely', 'pleads', 'partner', 'overture', 'ordering', 'opinion', 'offspring', 'mysterious', 'mistaken', 'misliked', 'medicine', 'intending', 'informing', 'infection', 'imminent', 'hesitant', 'fun', 'fertile', 'encampment', 'dispatch', 'dismissal', 'dismiss', 'demur', 'declined', 'culprit', 'crippled', 'correct', 'conquer', 'condolence', 'childhood', 'celebrating', 'capacity', 'burden', 'bloodshed', 'bled', 'benefit', 'assures', 'ascend', 'appalled', 'anymore', 'amiable', 'ambiguous', 'alternative', 'address', 'Taken', 'Sonoya', 'Royal', 'Norvos', 'Margaery', 'Dyana', 'Coin', 'Bambarro', 'Aerys', 'whoever', 'welcoming', 'wail', 'volume', 'unwanted', 'unheard', 'uncommon', 'unborn', 'unbeknownst', 'trapped', 'toss', 'tincture', 'thereby', 'tend', 'taunt', 'supported', 'sullied', 'strengthen', 'spill', 'solitude', 'sneaking', 'slander', 'sits', 'sighting', 'shower', 'shove', 'sheathed', 'settle', 'salacious', 'row', 'resting', 'respective', 'resignation', 'resemblance', 'reminder', 'remarry', 'remarking', 'receives', 'quietly', 'pure', 'preparing', 'prepares', 'prank', 'ponders', 'physician', 'physically', 'petition', 'overwhelming', 'opponent', 'offended', 'object', 'numerous', 'mutual', 'mortally', 'mockery', 'mix', 'merciful', 'mentioning', 'mass', 'mansion', 'maimed', 'luck', 'lock', 'lied', 'lemon', 'legally', 'learning', 'kinship', 'intrigued', 'intercept', 'imply', 'impartial', 'ignoring', 'humiliated', 'hood', 'happiness', 'grieve', 'gravely', 'getting', 'genuinely', 'funny', 'flamboyant', 'fake', 'faith', 'excuse', 'estrangement', 'enjoying', 'emerges', 'eating', 'dreadful', 'dispose', 'dismount', 'disinheriting', 'departing', 'damage', 'cruelty', 'contention', 'constantly', 'complains', 'comfortable', 'coldly', 'cloth', 'chasing', 'casually', 'caring', 'box', 'bow', 'behavior', 'assassination', 'aspired', 'aspect', 'ashamed', 'arguing', 'apology', 'apologizes', 'advises', 'acknowledging', 'access', 'Whichever', 'Tournament', 'Smith', 'Militant', 'Late', 'Known', 'Enraged', 'Andal', '97', 'wields', 'weeps', 'weaving', 'weaker', 'vowing', 'voted', 'visibly', 'vicious', 'verge', 'veil', 'upcoming', 'unusual', 'unsavory', 'undermine', 'uncertainty', 'tyrant', 'trusting', 'troupe', 'treasonous', 'traded', 'tireless', 'thrive', 'theory', 'tearfully', 'suicide', 'stunning', 'strictly', 'strengthening', 'stray', 'staked', 'spin', 'sparring', 'somber', 'smash', 'slash', 'shunned', 'shortened', 'sham', 'sexual', 'seeming', 'scrap', 'scornfully', 'savagely', 'satisfy', 'robbed', 'rib', 'reviewer', 'retold', 'responsibility', 'resigns', 'resign', 'reporting', 'repeated', 'regicide', 'recognizable', 'rebellious', 'realization', 'reacts', 'pummeling', 'provides', 'protesting', 'prospective', 'propose', 'producing', 'proclaim', 'pillar', 'permanent', 'pantomime', 'panicking', 'overturn', 'overcome', 'option', 'offensive', 'offend', 'normally', 'nobleman', 'network', 'muscle', 'mounting', 'missive', 'medicinal', 'maybe', 'listening', 'letting', 'lend', 'leech', 'launch', 'involved', 'inviting', 'investigate', 'interjects', 'insulted', 'insufficient', 'instruct', 'insistence', 'injury', 'infected', 'infancy', 'indirectly', 'independent', 'incestuous', 'inaction', 'imposter', 'implies', 'ignore', 'ignorance', 'identified', 'hostility', 'horseback', 'honeyed', 'grows', 'grieving', 'grandparent', 'gelding', 'fundamentally', 'fund', 'frustration', 'friendly', 'frequently', 'forged', 'forearm', 'fondly', 'flippancy', 'fixed', 'fireplace', 'fan', 'extended', 'explore', 'expects', 'exit', 'execute', 'examine', 'eulogy', 'et', 'envy', 'enthusiastically', 'endures', 'earnest', 'droll', 'double', 'diverge', 'distraught', 'distasteful', 'dissenter', 'dismissing', 'dislike', 'disgusted', 'discourage', 'devastated', 'detachment', 'describes', 'depending', 'departs', 'denouncing', 'delirious', 'deliberately', 'defends', 'decline', 'dancer', 'curt', 'cuckolded', 'cryptic', 'courtier', 'convene', 'conspired', 'connected', 'conceive', 'compliment', 'commoner', 'committed', 'climax', 'ceiling', 'cavort', 'brush', 'brooding', 'broker', 'brazen', 'board', 'biased', 'betroth', 'bereaved', 'berates', 'belt', 'bellow', 'begs', 'bait', 'awkwardly', 'awful', 'attitude', 'asserting', 'ascension', 'arrogant', 'anti', 'annulment', 'amusement', 'allows', 'alarm', 'aide', 'advocate', 'adventuring', 'admitting', 'acknowledge', 'achievement', 'accidentally', 'absurd', 'ably', 'Talya', 'Suffice', 'Stormlands', 'Someone', 'Seeing', 'Owl', 'Notice', 'N', 'Kelvyn', 'Huntsman', 'Haratis', 'Gerold', 'Everyone', 'Eve', 'Between', 'Baratheons', 'Antonia', 'Angered', 'wrecked', 'worrying', 'worry', 'withdraws', 'withdraw', 'willfully', 'width', 'watchful', 'wasteland', 'warfare', 'waited', 'wagging', 'volunteering', 'viable', 'vengeful', 'v', 'usurpation', 'useless', 'unpunished', 'unnoticed', 'unmarried', 'unleashing', 'uninvolved', 'unfamiliar', 'unannounced', 'twittercom', 'tutelage', 'trembling', 'treatment', 'tossing', 'topping', 'threatens', 'temper', 'teenager', 'teaching', 'swelling', 'superiority', 'suffering', 'subordinate', 'strict', 'stitch', 'stint', 'stillbirth', 'stiff', 'stating', 'stalked', 'stability', 'spurning', 'spotted', 'spool', 'spit', 'spending', 'specifying', 'specified', 'solely', 'smugly', 'sling', 'slashing', 'slap', 'skyline', 'sheathe', 'sens', 'securing', 'scold', 'scandalous', 'rounded', 'retrieve', 'retire', 'requiring', 'replacement', 'repercussion', 'remarrying', 'remarriage', 'relents', 'relay', 'reject', 'reiterates', 'reigning', 'refusing', 'recurring', 'rebuff', 'reaffirming', 'quip', 'quickened', 'push', 'pursue', 'punishing', 'punching', 'proximity', 'prostitute', 'promotion', 'prolonged', 'pro', 'privacy', 'preventing', 'pretense', 'preserve', 'presenting', 'plenty', 'pledging', 'playfully', 'plausibly', 'pin', 'panic', 'pained', 'overturned', 'outcome', 'origin', 'orientation', 'opposite', 'onset', 'ongoing', 'occupation', 'observing', 'noticeably', 'neglected', 'necessity', 'namely', 'murmur', 'motive', 'moth', 'mockingly', 'mismatched', 'measure', 'manipulate', 'manage', 'maiming', 'luxury', 'lunatic', 'lopsided', 'loom', 'legitimate', 'lawlessness', 'lawfully', 'lamenting', 'kick', 'joyous', 'jokingly', 'job', 'jauntily', 'irrelevant', 'invested', 'insulting', 'instructs', 'install', 'insinuation', 'insight', 'inquiry', 'innocently', 'initiated', 'inherits', 'informant', 'infighting', 'incredulity', 'increasing', 'inaccurate', 'impressive', 'importantly', 'implying', 'imaginings', 'iconography', 'hurried', 'hiss', 'hinting', 'hesitantly', 'haughty', 'happenstance', 'handmaiden', 'hallway', 'hallowed', 'guarantee', 'greets', 'goodbye', 'goad', 'glorified', 'glancing', 'gender', 'fulfill', 'freedom', 'fortify', 'foreshadow', 'forbids', 'focused', 'fluttered', 'flowered', 'flirting', 'flippantly', 'flees', 'flatly', 'flail', 'fickle', 'festival', 'feebly', 'falsely', 'falcon', 'extension', 'expressing', 'exploit', 'expelled', 'expel', 'expectation', 'exhausting', 'exertion', 'excessive', 'eventual', 'etched', 'estranged', 'establishment', 'essentially', 'essential', 'erupts', 'erstwhile', 'epic', 'envious', 'ensured', 'engage', 'encourage', 'emotional', 'eliminate', 'elect', 'effectively', 'ecstasy', 'dwells', 'dreaming', 'doorway', 'dividing', 'disturbing', 'distract', 'disrobe', 'disregard', 'disputed', 'disinterest', 'disinherited', 'disguised', 'disdainfully', 'disdain', 'discretely', 'diplomatic', 'dinner', 'determining', 'determination', 'destroying', 'designated', 'derived', 'defuses', 'definitely', 'declining', 'damaging', 'critical', 'criminal', 'creditable', 'cradling', 'courtroom', 'coupling', 'coup', 'corrects', 'continuation', 'consummate', 'consulting', 'console', 'consciousness', 'conqueror', 'congregation', 'confirming', 'concocted', 'compromise', 'complies', 'commiserates', 'colonnade', 'coffer', 'coach', 'clashed', 'cited', 'chooses', 'check', 'challenger', 'catching', 'castrated', 'carefully', 'calmly', 'bribed', 'breeding', 'breakfast', 'brazier', 'bothering', 'boring', 'blurts', 'bloodlessly', 'blooded', 'blatantly', 'belong', 'behaving', 'begrudge', 'barren', 'banish', 'bail', 'baffled', 'badge', 'awakes', 'awakened', 'avoids', 'assurance', 'assumes', 'assistance', 'ascendancy', 'approve', 'apprehensive', 'applauds', 'antic', 'annoyed', 'announces', 'ample', 'amity', 'allied', 'allegation', 'align', 'alert', 'ailing', 'aghast', 'affliction', 'affirmed', 'affable', 'advancement', 'accepts', 'abundant', 'absurdity', 'absented', 'abortifacient', 'Yourself', 'Westerlands', 'Wendel', 'Unworthy', 'Silent', 'Selmy', 'Seeking', 'Riders', 'Rhaenrya', 'Regardless', 'Realizing', 'Promise', 'Pained', 'Overcome', 'Outraged', 'Musicians', 'Maid', 'Laughing', 'Handship', 'Fourteen', 'Fleet', 'Embarrassed', 'Determined', 'Denied', 'Consort', 'Alone', '43', '106', 'yell', 'yearned', 'yearn', 'wwwyoutubecom', 'wronged', 'wreath', 'wrathful', 'wrangling', 'withholds', 'wildest', 'wielding', 'wholesale', 'welling', 'weigh', 'warming', 'walker', 'waded', 'wade', 'vowed', 'volunteer', 'voided', 'viewing', 'venomously', 'vendor', 'vehemently', 'vambrace', 'valid', 'vacancy', 'upsetting', 'upholding', 'unused', 'unsuitable', 'unstated', 'unsettled', 'unscrupulous', 'unsatisfied', 'unquestioned', 'unnerved', 'uninterested', 'unify', 'unhorsing', 'unhorse', 'unfastening', 'undress', 'undermining', 'undermines', 'unbroken', 'unattended', 'type', 'tunic', 'truborn', 'trotted', 'trivial', 'trend', 'treaty', 'traumatized', 'transported', 'transfixed', 'transactional', 'trampling', 'tracked', 'tracery', 'to…', 'toxic', 'towel', 'touring', 'tormenting', 'topic', 'toasting', 'timed', 'tightrope', 'tier', 'thorny', 'thorn', 'terse', 'terrorize', 'tenderly', 'temptation', 'temporary', 'teller', 'tally', 'tallied', 'tale…or', 'taint', 'tactfully', 'tackle', 'sōvēs', 'sympathy', 'sympathize', 'symbolize', 'syllable', 'switched', 'swipe', 'swears', 'swathed', 'swapping', 'suspiciousness', 'surround', 'sure…but', 'supplant', 'superstition', 'sullying', 'succession…but', 'succeeds', 'subterfuge', 'subsume', 'subsides', 'subsequence', 'subjecting', 'subdued', 'stupefied', 'stuffed', 'stuff', 'strived', 'stripping', 'strangling', 'strangely', 'stitching', 'stingy', 'stifle', 'stiffness', 'statistic', 'static', 'stalled', 'stairway', 'stab', 'squeeze', 'squabbling', 'squabble', 'sprout', 'spook', 'spite', 'specify', 'spasm', 'sparingly', 'sparing', 'sovereign', 'sortie', 'soot', 'sombrely', 'snubbing', 'snubbed', 'snipe', 'sniff', 'snidely', 'snarling', 'smuggle', 'slyly', 'slandering', 'slam', 'simplified', 'shockingly', 'shirking', 'sheathing', 'sheathes', 'semi', 'selects', 'seizes', 'seething', 'seethes', 'sedentary', 'seaweed', 'scuffle', 'scolded', 'savior', 'savagery', 'satisfies', 'sardonically', 'sarcastic', 'salve', 'sagacity', 'saddened', 'rustling', 'rowboat', 'rotten', 'rote', 'roiled', 'risking', 'righteousness', 'reverse', 'reveled', 'reunites', 'retribution', 'retiring', 'resupply', 'responsive', 'responding', 'resolution', 'reside', 'requesting', 'reprisal', 'representative', 'repaid', 'renouncing', 'rename', 'remonstrate', 'reminisces', 'reminiscent', 'remarried', 'relishing', 'relinquish', 'reiterate', 'rehearsed', 'regrettable', 'regional', 'regalia', 'regains', 'rededicate', 'recrimination', 'recourse', 'recommended', 'reciting', 'recites', 'reassuring', 'reassures', 'reassurance', 'realm…and', 'realizing', 'realises', 'reacting', 'rattled', 'rational', 'ratify', 'ranking', 'raids…but', 'quipping', 'questionable', 'quagmire', 'pyromancer', 'pursues', 'pummel', 'proxy', 'provoking', 'protecting', 'pronounces', 'proficient', 'proceeds', 'probable', 'prideful', 'presumptive', 'presumption', 'prestige', 'pressured', 'pressure', 'presides', 'preside', 'prescribed', 'premarital', 'practicing', 'potentially', 'positioned', 'portrait', 'polygamously', 'politically', 'politeness', 'polite', 'police', 'pointedly', 'plunge', 'pleasureless', 'pleasing', 'piously', 'philtre', 'pettiness', 'petitioning', 'petitioned', 'pervasively', 'perception', 'perceives', 'peck', 'parental', 'pant', 'panicked', 'oversteps', 'overshadow', 'override', 'overpowers', 'overpower', 'overlooked', 'overconfident', 'overambitious', 'outwardly', 'outward', 'outgrow', 'originator', 'ordeal', 'oral', 'operation', 'oochotd', 'okay', 'obviously', 'obtaining', 'obsessive', 'obsession', 'obsessed', 'obnoxious', 'oblige', 'obligated', 'objectively', 'numerical', 'nuanced', 'noticing', 'nickname', 'neutral', 'neglect', 'negative', 'needlessly', 'navigates', 'naturedly', 'narrating', 'naivety', 'muscular', 'motivates', 'morose', 'moonlit', 'modesty', 'misinterprets', 'misfortune', 'misery', 'minimalist', 'miniature', 'mend', 'meditated', 'medication', 'meaningful', 'masturbating', 'mastering', 'marker', 'manipulation', 'maneuver', 'maim', 'lykirī', 'lure', 'lowbrow', 'lovingly', 'loveless', 'lope', 'longing', 'longed', 'lolls', 'logic', 'loathing', 'loathe', 'livid', 'listens', 'liquid', 'liaison', 'leverage', 'leaking', 'layer', 'landward', 'landholding', 'kneeling', 'jās', 'juxtaposes', 'justifying', 'junior', 'judicious', 'joking', 'jest', 'jeopardizing', 'jeopardized', 'jeopardize', 'jar', 'irritably', 'irresponsible', 'irrational', 'intruder', 'intimately', 'interventionist', 'intervenes', 'interrupting', 'interrogator', 'interference', 'intently', 'intellectually', 'insultingly', 'instinctively', 'insinuating', 'insinuate', 'insensible', 'inquiring', 'initiate', 'inheriting', 'inhabiting', 'ingratiating', 'informal', 'inflaming', 'infinite', 'infers', 'inferior', 'ineffective', 'indulged', 'induces', 'indisposed', 'indirect', 'incur', 'incumbent', 'incredulously', 'incite', 'impulsiveness', 'improved', 'improperly', 'imprison', 'impress', 'imploring', 'implores', 'impetuous', 'impending', 'immolates', 'immaterial', 'illegitimate', 'illegal', 'ignited', 'idiot', 'icily', 'hunched', 'humour', 'humiliate', 'hug', 'horrific', 'honesty', 'honestly', 'hobble', 'hesitating', 'hesitates', 'hencefoth', 'heir…', 'heating', 'heartedly', 'heading', 'haze', 'hatefully', 'hardening', 'harbour', 'hangover', 'handing', 'guaranteed', 'growth', 'groggily', 'griefsick', 'greeting', 'grapple', 'gore', 'gloat', 'gliding', 'gilt', 'giggle', 'gifting', 'gear', 'garter', 'gambit', 'furling', 'fucking', 'fucked', 'frustratedly', 'frowning', 'frequent', 'frenzy', 'fourthborn', 'fortuitous', 'forsworn', 'forsaken', 'forsake', 'formerly', 'forgiving', 'footman', 'foment', 'foliage', 'foist', 'foal', 'floral', 'flirtation', 'flimsiest', 'flaunt', 'flatterer', 'firstly', 'fingernail', 'financing', 'finalized', 'figurehead', 'festooned', 'fend', 'fellate', 'feigns', 'feigning', 'feckless', 'fearlessly', 'faring', 'farcically', 'fantastical', 'fabrication', 'f93a23e03c8cb04749a248a27f432e0db4cd43f9', 'eyeing', 'extend', 'expression', 'explicitly', 'expels', 'exhorts', 'exercising', 'exercise', 'executing', 'excluded', 'exasperatedly', 'exasperated', 'evidenced', 'euphemistically', 'erupt', 'erased', 'eradicate', 'equitable', 'entity', 'entices', 'enthusiastic', 'enthralling', 'ensuring', 'ensuing', 'ensues', 'ensue', 'ensconced', 'enlists', 'engineered', 'engages', 'enduring', 'encountering', 'en', 'emissary', 'emerge', 'embellishing', 'embarrassing', 'embarrasses', 'embarrass', 'elude', 'eliciting', 'eleven…but', 'elevate', 'elated', 'earnestly', 'dust', 'duelling', 'drug', 'dreary', 'dragon…though', 'dragonborne', 'dracarys', 'dowager', 'dive', 'disturbs', 'distrust', 'disrespectfully', 'disrespect', 'disorientated', 'dismissively', 'disinherit', 'disinclined', 'dishevelled', 'disgustedly', 'discovers', 'discoursed', 'discomforted', 'discomfort', 'disband', 'disatisfied', 'disapproving', 'disaffection', 'directs', 'dines', 'diligent', 'dig', 'devotional', 'dethroned', 'deterrent', 'deterioration', 'deteriorating', 'deteriorate', 'detached', 'destructive', 'deserve…which', 'derive', 'derisively', 'depressed', 'depends', 'denying', 'denounce', 'denigration', 'denies', 'demoralized', 'demonstration', 'delivers', 'deftly', 'deft', 'defines', 'defined', 'defiled', 'defiantly', 'deference', 'deduces', 'dedicated', 'decency', 'deceitful', 'decay', 'dangerously', 'damn', 'dalliance', 'cupbearer…but', 'cultivate', 'criticizing', 'criticizes', 'coy', 'court—Aegon', 'courtship', 'counterbalance', 'counterattack', 'corridor', 'coping', 'converse', 'conversatin', 'constitutes', 'consoling', 'conservative', 'conscript', 'consciously', 'conscious', 'congratulates', 'confusedly', 'conflicted', 'confidently', 'condoned', 'concurs', 'concurrent', 'concluding', 'conclude', 'concedes', 'concede', 'conceals', 'compromised', 'competent', 'compensated', 'compelling', 'compaion', 'commences', 'comfortably', 'combing', 'coloring', 'coincidental', 'coherent', 'cognizant', 'cobweb', 'clumsily', 'closeness', 'cleaning', 'cite', 'chesnut', 'cheerfully', 'challened', 'chaining', 'cement', 'celebrates', 'causing', 'catatonic', 'capered', 'canon', 'candelabra', 'cancelled', 'calculated', 'buzz', 'bush', 'bubble', 'brutality', 'brother…but', 'broaching', 'brewing', 'brewed', 'breeched', 'breather', 'breat', 'breakdown', 'brazenly', 'bratty', 'bout', 'bottled', 'bother', 'bolster', 'blood…and', 'bladder', 'bitterness', 'bisexual', 'biological', 'betrothing', 'bespoke', 'besotted', 'bereft…save', 'berating', 'bejeweled', 'behaved', 'begrudgingly', 'batter', 'bathtub', 'baser', 'barking', 'bandage', 'ban', 'ballroom', 'bailed', 'badger', 'backing', 'awakens', 'averts', 'avenging', 'autonomy', 'audacity', 'attractive', 'attracted', 'attends', 'atrocity', 'assumption', 'aspirant', 'arises', 'appreciation', 'applied', 'application', 'appendicitis', 'append', 'apoplectic', 'annulled', 'annul', 'annoyance', 'analogy', 'alter', 'allying', 'alleges', 'allaince', 'aggressively', 'again…and', 'afterbirth', 'afford', 'affirms', 'affirm', 'advocated', 'adrenaline', 'admonishing', 'admires', 'administration', 'acknowledges', 'accordance', 'abstain', 'abortion', 'abort', 'Wyman', 'Velaryon…or', 'Urged', 'Unobserved', 'Unbeknowst', 'Trying', 'Therein', 'Technically', 'Stormborn', 'Steyn', 'Stern', 'Startled', 'Staring', 'Shifting', 'Shani', 'Shaking', 'Shaken', 'Scorned', 'Saying', 'Savannah', 'Sansa', 'Rushed', 'Running', 'Reggio', 'Preferring', 'Potential', 'Perforce', 'Perched', 'Peaceful', 'Paxter', 'Overhearing', 'Originally', 'Ordering', 'Opening', 'Nevertheless', 'Nate', 'Nanna', 'McTavish', 'Mance', 'Knowing', 'Kinslaying', 'Kettleblack', 'Keep…for', 'Jayce', 'Jacaerys…but', 'Infamously', 'Immediately', 'Humiliated', 'Horrified', 'Holywell', 'Hereafter', 'Heeding', 'Graham', 'Gerning', 'Fucking', 'Frankel', 'Following', 'Feeling', 'Fed', 'Fashioning', 'Fabien', 'Exhausted', 'Exceptionalists', 'Envoys', 'Dyanna', 'Dragonknight', 'Dracarys', 'Dondarrions', 'Distraught', 'Disregarding', 'Disinheriting', 'Detaching', 'Dejected', 'Daeron…whose', 'Consoling', 'Concerned', 'Compounded', 'Cloak', 'Choking', 'Childbirth', 'Charged', 'Cats', 'Caesarean', 'Bored', 'Bemused', 'Balerion…though', 'Attended', 'Around', 'Annara', 'Andrea', 'Amputating', 'Allun', 'Alfador', 'Alarmed', 'Afterwards', 'Additionally', 'Acolyte', '42', '3thsTSyEHHk', '2000', '171–172', '1553187961000402944', '133rd', '119', '118', '107', '103–129']\n",
      "['first', 'episode', 'book', 'also', 'scene', 'Council', 'point', 'series', 'behind', 'TV', 'Fire', 'actually', 'Dragon', 'Helaena', 'wedding', 'Blood', 'street', 'version', 'Thrones', 'Game', 'several', 'hour', 'full', 'Daenerys', 'used', 'five', 'almost', 'mention', 'member', 'Targaryens', 'HBO', 'happened', 'event', 'simply', 'entire', 'due', 'least', 'character', 'thus', 'season', 'final', 'appear', 'ancient', '2022', 'use', 'century', 'Condal', 'mentioned', 'Ice', 'match', 'Conquest', '1', 'Martin', '2', 'main', 'First', 'Faith', 'real', 'indeed', 'filmed', 'ago', 'detail', 'August', 'passing', 'Sapochnik', 'Cities', 'often', 'armor', 'previous', 'early', 'Season', 'explained', 'title', 'following', 'Tom', 'Master', 'George', '3', 'major', 'earlier', 'color', 'built', 'tournament', 'song', 'Ryan', 'Richard', 'premiere', 'chapter', 'Tide', 'None', 'leaf', 'idea', 'beach', 'Second', 'Heirs', 'novel', 'issue', 'godswood', 'fourth', 'difficult', 'Narrow', 'Name', 'stated', 'dialogue', 'Hobert', 'David', 'wake', 'generation', 'female', 'fact', 'build', 'briefly', 'Green', 'Day', 'using', 'Ryndoon', '16', '—', 'screen', 'gathering', 'childbirth', 'add', 'actor', 'Wheeldon', 'Arrax', 'video', 'mark', 'location', 'http', 'appears', 'Dondarrion', 'Cersei', '17', '14', 'team', 'prophecy', 'political', 'personal', 'passage', 'overall', 'era', 'directed', 'design', 'confirmed', 'combined', 'brief', 'beginning', 'apparently', 'Max', 'Hour', 'Another', 'unknown', 'universe', 'refers', 'planned', 'month', 'minute', 'level', 'heraldry', 'explains', 'clearly', 'Wolf', 'Star', 'RR', 'Josh', 'According', 'training', 'shot', 'prequel', 'noted', 'minor', 'ie', 'filming', 'article', 'D', '112', 'survivor', 'skip', 'realized', 'production', 'ninth', 'massive', 'interview', 'intended', 'fifth', 'feature', 'effect', 'director', 'based', 'Arcy', '15', 'toll', 'stag', 'specific', 'sigil', 'reveals', 'moving', 'information', 'infant', 'figure', 'distant', 'described', 'date', 'cover', 'Way', 'Ships', 'Rowley', 'Rogue', 'Miguel', 'Blackwoods', '4', 'writer', 'worked', 'vision', 'system', 'style', 'starring', 'slightly', 'preceding', 'post', 'million', 'introduced', 'include', 'film', 'contrast', 'base', 'Yaitanes', 'Will', 'Peterson', 'Paul', 'Matt', 'Light', 'Irlam', 'Hansen', 'Essos', 'Emma', 'Cooke', 'Across', '21', '10', 'tenth', 'stunt', 'search', 'robe', 'replaces', 'performer', 'parallel', 'nearby', 'meaning', 'map', 'higher', 'headed', 'explain', 'current', 'credited', 'camera', 'belonged', 'afflicted', 'adapted', 'Wikipedia', 'Stefan', 'Riverlands', 'Inside', 'Gold', 'Episode', 'Eduardo', 'Blackfyre', '7', '5', '12', 'tapestry', 'succeeded', 'spy', 'relationship', 'region', 'provide', 'prior', 'premiered', 'possibly', 'polygamy', 'notable', 'material', 'lane', 'landing', 'height', 'glyph', 'generally', 'expanded', 'established', 'count', 'confrontation', 'complained', 'border', 'Willoughby', 'Wiki', 'Walkers', 'Temime', 'Snow', 'Shapcott', 'Question', 'Olivia', 'Nine', 'Mitchell', 'McCarron', 'Main', 'Maddern', 'Leona', 'Leigh', 'Given', 'Gago', 'England', 'Cronnelly', '11', 'weirwood', 'week', 'space', 'similarly', 'shape', 'sequence', 'secured', 'roughly', 'resulted', 'prop', 'probably', 'pitch', 'passageway', 'originally', 'official', 'occurred', 'local', 'lifetime', 'intentionally', 'inspired', 'gap', 'formal', 'faction', 'explanation', 'element', 'developed', 'branch', 'boar', 'World', 'Wars', 'Times', 'Succession', 'Rhoynar', 'New', 'Kilner', 'J', 'IMDb', 'Feast', 'Eddard', 'Alcock', '9', '8', '18', 'walking', 'unreliable', 'theme', 'strongly', 'special', 'showrunners', 'shaped', 'reference', 'public', 'narrative', 'medieval', 'loses', 'located', 'incest', 'implied', 'implication', 'historical', 'historian', 'franchise', 'example', 'descendant', 'deleted', 'actual', 'Taylor', 'Promised', 'October', 'Nymeria', 'Nikita', 'However', 'Harvey', 'Dying', 'Dunk', 'Cornwall', 'Clare', '100', 'viewer', 'tidal', 'threatened', 'successful', 'streaming', 'staircase', 'spell', 'specifically', 'siege', 'sided', 'sarcophagus', 'sacrifice', 'rune', 'resembles', 'regardless', 'putting', 'publicly', 'proper', 'possibility', 'owned', 'ocean', 'multiple', 'meter', 'interior', 'haunted', 'guide', 'follows', 'famously', 'exterior', 'exist', 'exiled', 'except', 'detailed', 'continuing', 'context', 'childbed', 'anywhere', 'Willem', 'Spain', 'September', 'Rob', 'Mount', 'Milly', 'Matthew', 'Filming', 'Carey', 'Byzantine', 'Built', 'Book', 'Because', 'Arya', '22', 'working', 'waist', 'viewership', 'verbal', 'tunnel', 'statue', 'site', 'scribe', 'rig', 'prominent', 'process', 'prettier', 'presumably', 'omen', 'necklace', 'longest', 'limited', 'language', 'key', 'invented', 'invasion', 'influenced', 'impact', 'highlight', 'highest', 'foresaw', 'extreme', 'extra', 'error', 'dropped', 'direct', 'digitally', 'designer', 'designed', 'crab', 'closely', 'civil', 'citing', 'breed', 'ancestor', 'among', 'United', 'UK', 'Tongue', 'THR', 'Steve', 'States', 'Starks', 'St', 'Qohor', 'Michael', 'Maesters', 'LA', 'John', 'Jefferson', 'Jany', 'Insider', 'Chapter', 'Campbell', 'Bowen', '200', '116', 'useful', 'text', 'slowed', 'significant', 'seriously', 'recognizes', 'raid', 'quarrelsome', 'quality', 'principle', 'platform', 'picking', 'opposed', 'onward', 'non', 'narrator', 'mural', 'loosely', 'jump', 'includes', 'iconic', 'hymen', 'helmet', 'group', 'equal', 'enigmatic', 'division', 'derives', 'darkest', 'currently', 'crushing', 'costume', 'constructed', 'considers', 'conflicting', 'confirms', 'completely', 'comment', 'background', 'avoided', 'area', 'ancestral', 'albeit', 'adding', 'acknowledged', 'Volume', 'Valyrians', 'Toussaint', 'Third', 'Renly', 'Rebellion', 'Petyr', 'Paddy', 'POV', 'Nick', 'Mizuno', 'Leng', 'Jameson', 'Greg', 'Geek', 'Erin', 'Elliot', 'Eel', 'Dyer', 'Drogon', 'Den', 'Crook', 'Costume', 'Considine', 'Altered', '90', '6', '300', '30', '29', '28', '20', '120', '000', 'widespread', 'wider', 'weighed', 'voiceover', 'virtual', 'vastly', 'uprising', 'triple', 'trip', 'titled', 'thread', 'teenage', 'technically', 'study', 'statement', 'staff', 'spiced', 'society', 'simmering', 'significantly', 'shifted', 'scroll', 'reversed', 'represent', 'released', 'referred', 'reaction', 'pursued', 'project', 'parley', 'painted', 'ornate', 'orange', 'normal', 'mostly', 'money', 'modern', 'magical', 'limit', 'leadership', 'involve', 'investiture', 'invention', 'heroic', 'helping', 'gratuitous', 'focus', 'flaming', 'filter', 'featured', 'extravagant', 'extensive', 'etc', 'dune', 'directing', 'description', 'debut', 'contains', 'consistently', 'conduct', 'conclusion', 'collection', 'circumstance', 'chief', 'ceremonial', 'central', 'carriage', 'cable', 'budget', 'bonfire', 'artwork', 'angle', 'alternate', 'adultery', 'Williams', 'Viewership', 'Variety', 'Vanity', 'Tywin', 'Tyrion', 'Toth', 'Thousand', 'Stannis', 'Sky', 'Qarth', 'Prologue', 'PopSugar', 'Podobin', 'Oleg', 'Murray', 'Marco', 'July', 'Jonathan', 'Jim', 'Instagram', 'Ibben', 'Gyldayn', 'Emily', 'Egg', 'Due', 'Director', 'Deep', 'Cáceres', 'Common', 'Cloaks', 'Clay', 'Clash', 'CGI', 'Bertagna', 'Bat', 'Almost', '80', '55', '35', '27', '23', '2018', '2014', '135', '13', '102', 'yacht', 'website', 'usually', 'unnamed', 'unit', 'undistinguished', 'typically', 'translate', 'totem', 'tic', 'swapped', 'surprisingly', 'surface', 'sunny', 'successfully', 'spiritual', 'sparkling', 'slighted', 'simulate', 'shoot', 'severed', 'settling', 'seafarer', 'script', 'scheduling', 'retroactively', 'restriction', 'requires', 'religion', 'relative', 'rein', 'recast', 'quarry', 'pursuing', 'professional', 'portrays', 'polygamous', 'politics', 'plus', 'pinky', 'pilot', 'phase', 'partake', 'pace', 'outfit', 'novella', 'novelette', 'ninety', 'narration', 'myth', 'musician', 'motivated', 'moreover', 'monologue', 'mixed', 'mid', 'mathematics', 'logically', 'literally', 'linear', 'judgement', 'jade', 'item', 'internal', 'impression', 'horrible', 'highly', 'hereditary', 'girlhood', 'garrisoned', 'founder', 'foreshadowing', 'finale', 'extremely', 'extraordinary', 'existing', 'establish', 'entertainment', 'eighth', 'editing', 'dye', 'dramatic', 'disrupt', 'displaying', 'depicts', 'decorated', 'debauched', 'deadly', 'de', 'cultural', 'counting', 'cough', 'copy', 'copied', 'considering', 'conquered', 'connecting', 'complicated', 'comparison', 'compare', 'comparable', 'co', 'changing', 'causeway', 'capital', 'camerawork', 'busy', 'bigger', 'barring', 'bar', 'architecture', 'archaic', 'apocalyptic', 'aforementioned', 'affect', 'adulthood', 'additional', 'actively', 'accurately', 'accurate', 'Woodruff', 'Whisperers', 'Tumber', 'Tullys', 'Topham', 'Timeline', 'Throughout', 'Tales', 'Shivering', 'Santa', 'Saban', 'Roeten', 'Riabokon', 'Reuben', 'Ramón', 'Production', 'Phoebe', 'Phia', 'Pete', 'Patel', 'Olenna', 'Official', 'Nicklas', 'Mudd', 'Mexico', 'Merling', 'Leggett', 'Leavesden', 'Jonty', 'Jiménez', 'Jamie', 'James', 'IV', 'Hollywell', 'Hayns', 'Hart', 'Hansson', 'Haeusle', 'Gordon', 'Glynn', 'Geeta', 'Freehold', 'Farmer', 'Ellis', 'Dreamsongs', 'Dreamer', 'Doren', 'Designer', 'Dan', 'Crowley', 'Collett', 'Christopher', 'Catelyn', 'Carney', 'Beach', 'Baelish', 'Ashton', 'Arran', 'Andrej', 'Adam', '99', '40', '24', '104', 'wounding', 'wording', 'wheel', 'whatsoever', 'wagered', 'vowel', 'voluntarily', 'volcanic', 'visually', 'vertically', 'verbatim', 'venal', 'usurped', 'usher', 'unplanned', 'uninterrupted', 'unified', 'triarchs', 'traumatic', 'tourist', 'touching', 'totally', 'tongueless', 'toilet', 'timeline', 'therapy', 'tenfold', 'temple', 'tallest', 'surgeon', 'subsumed', 'subplot', 'storyboards', 'steadicam', 'staring', 'stadium', 'spymaster', 'spirituality', 'spider', 'someday', 'sleeve', 'simultaneously', 'similarity', 'sidesaddle', 'shuttling', 'showrunner', 'shameful', 'sexuality', 'section', 'scripted', 'screening', 'scare', 'rounding', 'revolt', 'revised', 'retained', 'replacing', 'renewal', 'remote', 'remarked', 'relocated', 'relies', 'relic', 'related', 'regarding', 'refine', 'recording', 'realistically', 'react', 'random', 'primal', 'prelude', 'prefered', 'pound', 'pose', 'plagued', 'placeholder', 'photo', 'personality', 'performs', 'performing', 'perceived', 'per', 'panel', 'oversee', 'opulence', 'opposing', 'occurs', 'occur', 'neighborhood', 'neatly', 'neared', 'narrated', 'movie', 'mortality', 'montage', 'mixture', 'mildly', 'mild', 'metaphor', 'mercenary', 'medium', 'medical', 'measurement', 'matte', 'maternal', 'margin', 'listing', 'legal', 'ladder', 'knot', 'juvenile', 'journal', 'invulnerable', 'invader', 'introverted', 'intrigue', 'intervening', 'intercut', 'interaction', 'intentional', 'inspiration', 'insect', 'inoffensive', 'initially', 'influential', 'inflation', 'infidelity', 'inevitably', 'increase', 'immune', 'illustrator', 'illusion', 'igshid', 'identity', 'identical', 'homing', 'homeland', 'holiday', 'hinted', 'highway', 'highlighting', 'handled', 'guerrilla', 'greyscale', 'gradually', 'godswoods', 'gallery', 'futhark', 'functional', 'founded', 'foreground', 'flooded', 'flinging', 'flagship', 'fictional', 'feud', 'feted', 'festivity', 'fascinated', 'faked', 'fabled', 'extensively', 'experiencing', 'expedition', 'exception', 'establishing', 'eruption', 'eponymous', 'enjoyable', 'emergency', 'electric', 'elaborated', 'drill', 'drastically', 'dramatically', 'dragonbone', 'distorted', 'distinguish', 'discounting', 'direwolf', 'dilemma', 'digital', 'device', 'develops', 'developing', 'develop', 'decoration', 'decadence', 'culmination', 'cryptically', 'crucible', 'create', 'crazy', 'crane', 'contribution', 'continuity', 'continent', 'contemporary', 'contained', 'constraint', 'confusing', 'condensation', 'conceit', 'complaining', 'comic', 'coil', 'coastline', 'cluster', 'closeup', 'clock', 'climate', 'chaotic', 'cetera', 'carpenter', 'carnival', 'candied', 'canceled', 'cameraman', 'bulk', 'builder', 'bravo', 'bet', 'besieging', 'basically', 'awe', 'author', 'audition', 'assistant', 'assassinate', 'assassin', 'artifact', 'anthology', 'animated', 'anguish', 'amputating', 'amputated', 'altered', 'allusion', 'aging', 'actress', 'accordingly', 'accessory', 'abruptly', 'abridged', 'York', 'X', 'Wray', 'Windhaven', 'Ward', 'Voyaging', 'Volumes', 'VIII', 'VII', 'Ultimately', 'Ty', 'Twilight', 'Tuttle', 'Tuf', 'Theo', 'Tennant', 'Temple', 'Sophia', 'Son', 'Similarly', 'Silva', 'Sian', 'Science', 'Savani', 'Saunders', 'Saul', 'Runicus', 'Robbie', 'Riverlords', 'Ricardo', 'Rhaenya', 'Rhaegal', 'Reporter', 'Reign', 'Recognizing', 'Ravenscroft', 'Preece', 'Popsugar', 'Phil', 'Penguin', 'Painter', 'Nightingale', 'Metro', 'Mckee', 'McGarrity', 'Maybe', 'Marriages', 'Mark', 'Marek', 'MacLaren', 'Lyndon', 'Loren', 'Lore', 'London', 'Lockwood', 'Lisa', 'Lewis', 'Levan', 'Lee', 'Lawrence', 'Labor', 'Kye', 'Kim', 'Kenny', 'Keane', 'Karitzis', 'June', 'Jr', 'Joel', 'Jodie', 'Jaime', 'Horan', 'Hollywood', 'Hladik', 'Hess', 'Hellewell', 'Hasit', 'Hagia', 'Guide', 'Griffiths', 'Ghosts', 'Gavin', 'Forest', 'Ford', 'Fiction', 'Fe', 'Ewan', 'Evie', 'Essex', 'Eddy', 'Dynasty', 'Dwarfstone', 'Drogo', 'Dornishwoman', 'Doran', 'Dominic', 'Dialogue', 'Danish', 'DaSilva', 'Creation', 'Conlang', 'Conlan', 'Confused', 'Collins', 'Codex', 'Co', 'Chopping', 'Chapman', 'Ceira', 'Cast', 'Came', 'Brooke', 'Brienne', 'Bran', 'Beric', 'Bell', 'Based', 'Atlantic', 'Armageddon', 'Antonio', 'Anthony', 'Among', 'Also', 'Allen', 'Alderaan', 'Actor', 'About', '76', '700', '58', '50', '48', '39', '32', '26', '2023', '2017', '2011', '19', '150', '130th', '108', '103', 'zeenewsindiacom', 'yoke', 'wwwwesterosorg', 'wwwnewideacomau', 'wtljbelk3sb91jpg', 'wrapping', 'wrap', 'wrangler', 'woeful', 'whittling', 'westernmost', 'weekend', 'weaver', 'visualizing', 'visual', 'vine', 'vicissitude', 'veteran', 'venerate', 'vary', 'variety', 'variation', 'valahd', 'vague', 'updated', 'update', 'unsure', 'unnecessary', 'unintentionally', 'uniform', 'unflinching', 'unfamiliarity', 'underwater', 'underlying', 'undercut', 'unconscious', 'unattractive', 'unaltered', 'unadorned', 'tv', 'tutor', 'turgid', 'truncated', 'trio', 'translation', 'translated', 'transcription', 'trait', 'trailing', 'trailer', 'tracker', 'tomboy', 'toehold', 'toddler', 'timing', 'timespans', 'timely', 'tiffnet', 'tiff', 'theatre', 'testing', 'tendency', 'television', 'telepathy', 'teemed', 'technology', 't', 'supplement', 'super', 'sub', 'stranglehold', 'straightforward', 'storyboarded', 'storyboard', 'stance', 'staid', 'spinoff', 'spectrum', 'sparked', 'spaced', 'sourcebook', 'sophisticated', 'social', 'smallest', 'slot', 'slapping', 'sized', 'signifying', 'si', 'shunning', 'shine', 'septarian', 'sensationalize', 'selfish', 'segment', 'secondhand', 'seaside', 'sculpture', 'sculpt', 'screenwriter', 'scratchy', 'scratch', 'scant', 'satirizing', 'sandy', 'rȳ', 'russet', 'runtime', 'rung', 'rowing', 'rocking', 'revisit', 'revalued', 'restrained', 'restarted', 'resolving', 'resettling', 'reset', 'rescheduled', 'requirement', 'representing', 'remoteness', 'remembrance', 'remedying', 'relating', 'reinforced', 'regularly', 'regretting', 'redundant', 'redressed', 'rediscovered', 'redesigned', 'redecorate', 'recreating', 'recreates', 'recollection', 'recasting', 'reasoning', 'realistic', 'reader', 'ratio', 'rate', 'rapidly', 'rallying', 'rail', 'pyromancy', 'purity', 'pummeled', 'published', 'proud…and', 'propped', 'proportion', 'prophetical', 'propensity', 'promotional', 'prologue', 'projecting', 'progressed', 'programming', 'profess', 'primetime', 'primary', 'previewing', 'preview', 'prestigious', 'prequels', 'premier', 'practical', 'populate', 'pop', 'poorly', 'podcast', 'pm', 'pleasantly', 'planet', 'pjpg', 'pivotal', 'pinching', 'physical', 'phrasing', 'perspective', 'persecuted', 'peopled', 'pent', 'patriarchal', 'pasted', 'paralleling', 'paralleled', 'pairing', 'paired', 'painstaking', 'paced', 'overseas', 'overboard', 'outpost', 'outline', 'outbreak', 'oriental', 'organizing', 'oppressed', 'openspotifycom', 'omitted', 'officiated', 'occurring', 'occured', 'occasionally', 'obtained', 'obscured', 'nesting', 'necrotic', 'necessarily', 'navigational', 'nail', 'mythological', 'muppets', 'mumbai', 'mucked', 'motivation', 'motionless', 'mosaic', 'momentous', 'mollusk', 'mockingbird', 'miraculous', 'minus', 'minimal', 'milestone', 'metric', 'metal', 'mat', 'massacre', 'marking', 'marital', 'manufacture', 'manservant', 'manpower', 'makeup', 'maintaining', 'mages', 'loving', 'lore', 'longstanding', 'logistical', 'lobster', 'literal', 'listed', 'linguist', 'lighthouse', 'lid', 'lecherously', 'leaked', 'khals', 'kg', 'keen', 'juxtaposition', 'junket', 'jumping', 'jewelry', 'jcc', 'iteration', 'iterated', 'io9', 'involves', 'introduction', 'internecine', 'intermittently', 'intercuts', 'interconnected', 'interacted', 'inter', 'institute', 'inkot', 'injuring', 'inhumane', 'infobox', 'inexperienced', 'indīs', 'individual', 'indicate', 'incrementally', 'incredibly', 'incompetent', 'incoming', 'inciting', 'incarnation', 'improvised', 'improve', 'impractical', 'implausible', 'impinge', 'immersed', 'illustration', 'illuminate', 'ideograph', 'identifiable', 'iceberg', 'humorously', 'hugging', 'hotstar', 'hostaile', 'honoring', 'homosexuality', 'holder', 'hieroglyph', 'hesitance', 'henchman', 'hence', 'heirloom', 'happiest', 'grit', 'gripping', 'greenlit', 'greenlight', 'graphic', 'glove', 'global', 'ghai', 'georgerrmartincom', 'fringe', 'fresco', 'framing', 'framed', 'fragment', 'fraction', 'formality', 'focusing', 'fluctuate', 'flout', 'filtering', 'figuring', 'fiberglass', 'feuding', 'featuring', 'featurette', 'factoring', 'fabulous', 'extinct', 'exploration', 'experimental', 'expansion', 'expands', 'expalining', 'exists', 'ewcom', 'evident', 'etymology', 'ethnic', 'estimated', 'establishes', 'erroneous', 'equivalently', 'entryway', 'enthused', 'enigma', 'enhance', 'engaging', 'emphasize', 'embroider', 'elite', 'elapsed', 'elaborate', 'editor', 'edited', 'eclipsing', 'easter', 'earring', 'dreamer', 'drama', 'dolly', 'distracted', 'distinct', 'dissolving', 'disproportionately', 'displace', 'disoriented', 'disobeys', 'disney', 'dinosaur', 'dined', 'development', 'deteriorated', 'detection', 'desk', 'designing', 'depraved', 'depicting', 'depicted', 'depict', 'department', 'deliberated', 'deflect', 'deflation', 'definitively', 'definition', 'decorator', 'deceased', 'dawning', 'dated', 'darken', 'curving', 'currency', 'culture', 'culminating', 'cue', 'criticism', 'cremated', 'creator', 'creating', 'crammed', 'craft', 'crackdown', 'courtesan…until', 'countryfolk', 'counterpart', 'corresponding', 'correspondence', 'copiously', 'coordinator', 'conveyed', 'converted', 'contributed', 'contrary', 'contradiction', 'consonant', 'conjunction', 'condenses', 'conclusively', 'concisely', 'concept', 'composing', 'composer', 'complex', 'comparing', 'committing', 'colder', 'coincidentally', 'coincidence', 'coincided', 'coinage', 'coastal', 'clearing', 'clay', 'civilian', 'cinematography', 'chuckle', 'chronologically', 'chemical', 'chafe', 'centering', 'cathedral', 'catharsis', 'cartography', 'cartographer', 'callback', 'caesarean', 'buoyant', 'bunch', 'brooch', 'bridging', 'brickwork', 'brewer', 'boundary', 'borderland', 'boldly', 'blackness', 'billion', 'bestselling', 'belonging', 'beggared', 'bedpost', 'beautifully', 'batch', 'basis', 'basic', 'backwards', 'backlot', 'aōle', 'avy', 'average', 'autistic', 'attrition', 'attach', 'atrium', 'astrolabe', 'associated', 'artificial', 'arduously', 'arcy', 'appropriate', 'antagonize', 'anogrion', 'announcer', 'anesthesia', 'amputation', 'amputate', 'am', 'altitude', 'although', 'alternating', 'alphabet', 'alluring', 'airing', 'aired', 'agains', 'aesthetic', 'adaptation', 'activity', 'acquire', 'acclaimed', 'abstract', 'abjad', 'abduction', 'Zámbó', 'Zone', 'Yusuf', 'Yours', 'Yeah', 'XIII', 'XI', 'Winters', 'Winds', 'William', 'Whitby', 'Wheatley', 'Weirwood', 'Weight', 'Warriors', 'Wang', 'WHEATLEY', 'WB', 'W', 'Voices', 'Visions', 'Viserion', 'Vincent', 'Vasant', 'V2jpg', 'Untold', 'Unreliable', 'Undying', 'Unbroken', 'Unbowed', 'Unbent', 'US', 'Tyatyambo', 'Tsvetolyub', 'Trajan', 'Traher', 'Torturer', 'Torres', 'Toronto', 'Tola', 'Titantic', 'Tina', 'Tim', 'Theatre', 'Tania', 'TIFF', 'T', 'Sánchez', 'Sydney', 'Swedish', 'Surrey', 'Superman', 'Subtitles', 'Stunt', 'Stuart', 'Stories', 'Stockholm', 'Stewart', 'Steven', 'Stephenson', 'Staples', 'Stanley', 'Stanislav', 'Spring…for', 'Somewhat', 'Smethurst', 'Sith', 'Shrycox', 'Showrunner', 'Shim', 'Sharpe', 'Shallcross', 'Shadows', 'Sesame', 'SensaCineMx', 'Segel', 'Seaworth', 'Searle', 'SciFi', 'Scene', 'Satko', 'Sandkings', 'Sanchez', 'Sadler', 'SQ', 'SE', 'Runes', 'Ronco', 'Rodríguez', 'Rodriguez', 'Rocca', 'Robinson', 'Roberts', 'Roberto', 'Rigoletto', 'Richards', 'Rhys', 'Rhoynish', 'Rhakiāzmo', 'Revenge', 'Reoben', 'Renaissance', 'Razheva', 'Rayder', 'Rawlins', 'Randyll', 'Random', 'Ranaom', 'Ramin', 'QXWnz5kcAzc2aw', 'Push', 'Principality', 'Preview', 'Portugal', 'Portraits', 'Porter', 'Podcast', 'Pod', 'Pintado', 'Pictures', 'Pickering', 'Persian', 'Pedro', 'Peak', 'Paterson', 'Parris', 'Parker', 'Palmer', 'Padron', 'Oña', 'Ossei', 'Ona', 'Olivant', 'Okay', 'OIibVAv', 'Notably', 'Nie', 'Nearly', 'Naprous', 'Muñoz', 'Museum', 'Mumbai', 'Mullins', 'Motion', 'Morton', 'Moroccan', 'Moratilla', 'Money', 'Miriam', 'Mills', 'Mihalache', 'Michelle', 'Mexican', 'Metacritic', 'Mercy', 'Mathew', 'Maskell', 'Martínez', 'Mar', 'Major', 'Macmillan', 'MARTIN', 'M', 'Lyanna', 'Lya', 'Lukaz', 'Luckily', 'Lucia', 'Loss', 'Los', 'Loras', 'LocalPremiere', 'Lloret', 'Littlefinger', 'Linguist', 'Linda', 'Lightbox', 'Liam', 'Leong', 'Leicester', 'Lead', 'Layne', 'Launch', 'Lau', 'La', 'LED', 'Khal', 'Kevin', 'Kaye', 'Kat', 'José', 'Joshua', 'Joseph', 'Joselyn', 'Jean', 'Jardines', 'Japanese', 'Jake', 'I–III', 'Ismail', 'Isky', 'Isaac', 'Ira', 'Investiture', 'Invasion', 'Intimacy', 'Indian', 'Incredible', 'Imperial', 'Images', 'Iliev', 'Ildebrando', 'Ifans', 'Hulk', 'Howell', 'Horpasci', 'Histories', 'Hernández', 'Hermiston', 'Happy', 'Halfway', 'HOTD', 'Gábor', 'Gullet…and', 'Guiomar', 'Guild', 'Grihault', 'Greydon', 'Gregor', 'Greenberg', 'Greek', 'Graphics', 'Granada', 'Gomes', 'Gizmodo', 'Get', 'Gergely', 'Gender', 'Gardner', 'García', 'Gallows', 'Gabe', 'GEORGE', 'France', 'Fonseca', 'Follow', 'Fire—A', 'Fevre', 'Ferenc', 'Fenix', 'Fee', 'Fay', 'Fate', 'Fantasy', 'Exterior', 'Extensive', 'Everybody', 'Eva', 'Euston', 'European', 'Erol', 'Empress', 'Emirati', 'Emilia', 'Elitsa', 'Elio', 'Elias', 'Elia', 'Eledro', 'Eldredd', 'Eileen', 'Egyptian', 'Edited', 'Earth', 'Eadie', 'Durrani', 'Durrandon', 'Dune', 'Dumaresq', 'Dubrovnik', 'Dubronik', 'Dubai', 'Dream', 'Dragons—as', 'Dragonless', 'Dozois', 'Dothraki', 'Dom', 'Djawadi', 'District', 'Discounting', 'Digital', 'Devon', 'Derbyshire', 'Dent', 'Deadline', 'DeGraté', 'Daughter', 'Daniel', 'Da', 'DOUG', 'Cruz', 'Croatia', 'Cox', 'Couper', 'Coordinator', 'Cooper', 'Conversation', 'Continuing', 'Contest', 'Conrad', 'Conor', 'Conan', 'Come', 'Combined', 'Column', 'Collections', 'Cohen', 'Cogman', 'Cocteau', 'Clotide', 'Clegane', 'Clarke', 'Claire', 'Cinematographer', 'Cinema', 'Christian', 'Chaudhri', 'Charmaine', 'Champagne', 'Celts', 'Celtic', 'Catalonia', 'Castillo', 'Casey', 'Carly', 'Cards', 'Canadian', 'Camilla', 'Calahorra', 'Caesar', 'COVID', 'Bryan', 'British', 'Brindle', 'Brian', 'Brazilian', 'Brandy', 'Bonacini', 'Bloys', 'Blondell', 'Bishi', 'Birth', 'Bill', 'Berecz', 'Benitez', 'Belfast', 'Beauty', 'Beast', 'Barbarian', 'Banners', 'Awards', 'Australian', 'Assuming', 'Asimov', 'Ascendency', 'Arthurian', 'Art', 'Apparently', 'Antonsson', 'Anna', 'Angeles', 'Andrew', 'Andre', 'Amsterdam', 'Alvaro', 'Alonso', 'Aliens', 'Alexander', 'Alejandro', 'Aldershot', 'Aidan', 'Aegons', 'Adult', 'Adding', 'Academy', 'Abian', 'Abbey', 'Abandon—Aegon', 'AT', 'AM', '9n0lfgybjcfa1jpg', '99AC', '999', '998', '91–92', '800', '64', '60th', '600', '51', '500', '490', '47', '45', '41', '394', '38', '37–42', '37', '36', '34', '312', '311', '310', '31', '309', '308', '307', '306', '305', '304', '303', '302', '301', '284', '281', '280', '250', '2498311html', '222', '220802', '212', '211', '210', '209', '208', '207', '206', '205', '204', '203', '2021', '202', '2019', '2016', '2013', '2012', '201', '1–4', '1DfWP1ue7itrwAaYYIXWux', '1998', '190', '18th', '179', '172–184', '172', '16th', '1439', '139', '136', '1300', '122', '1179', '08', '03']\n",
      "['<pad>', '[UNK]', '“', '”', 'The', 'Lord', 'would', 'I', 'year', 'one', 'son', 'queen', 'Targaryen', 'said', 'Queen', 'could', 'brother', 'lord', 'day', 'well', 'child', 'It', 'back', 'His', 'Jaehaerys', 'made', 'never', 'boy', 'When', 'Grace', 'Mushroom', 'Dragonstone', 'Maester', 'old', 'She', 'mother', 'took', 'wife', 'take', 'told', 'u', 'AC', 'young', 'come', 'Septon', 'Grand', 'many', 'woman', 'girl', 'word', 'prince', 'Throne', 'long', 'like', 'Alysanne', 'night', 'great', 'make', 'last', 'know', 'much', 'sister', 'tell', 'later', 'council', 'And', 'Keep', 'This', 'blood', 'Rhaena', 'Her', 'princess', 'see', 'little', 'ever', 'dead', 'realm', 'sent', 'named', 'every', 'need', 'head', 'Eustace', 'soon', 'eye', 'life', 'We', 'away', 'yet', 'brought', 'seen', 'far', 'Baela', 'called', 'Munkun', 'battle', 'If', 'taken', 'go', 'four', 'since', 'enough', 'bastard', 'They', 'gave', 'There', 'Baelon', 'That', 'find', 'face', 'You', 'around', 'want', 'Alyn', 'done', 'le', 'knew', 'husband', 'chamber', 'thought', 'god', 'became', 'love', 'But', 'together', 'ten', 'heard', 'On', 'matter', 'returned', 'Yet', 'lady', 'fool', 'declared', 'All', 'seven', 'Orwyle', 'No', 'true', 'thing', 'late', 'followed', 'After', 'saw', 'rule', 'Barth', 'cut', 'asked', 'strong', 'honor', 'account', 'forth', 'die', 'heart', 'fly', 'bed', 'certain', 'attack', 'twenty', 'shall', 'For', 'bring', 'already', 'Aemon', 'none', 'choice', 'wed', 'hair', 'speak', 'home', 'gone', 'served', 'line', 'whore', 'truth', 'loved', 'claimed', 'Alyssa', 'think', 'hope', 'fear', 'What', 'beneath', 'hall', 'alone', 'Dragons', 'agreed', 'doubt', 'people', 'past', 'mean', 'grown', 'best', 'become', 'III', 'nine', 'married', 'work', 'spoke', 'maester', 'Wall', 'Saera', 'world', 'wish', 'meet', 'answer', 'Daella', 'Aerea', 'meant', 'maid', 'call', 'Not', 'grew', 'body', 'Your', 'twin', 'question', 'cold', 'North', 'saying', 'morning', 'lived', 'Balerion', 'stand', 'moon', 'law', 'My', 'surely', 'story', 'aside', 'allowed', 'Let', 'wrote', 'continued', 'replied', 'golden', 'felt', 'Once', 'vow', 'silver', 'course', 'neither', 'believe', 'sweet', 'sit', 'maesters', 'believed', 'announced', 'Thus', 'Gaemon', 'raised', 'belly', 'babe', 'servant', 'read', 'perhaps', 'Alys', 'whether', 'offered', 'maiden', 'learned', 'grief', 'going', 'either', 'Vaegon', 'somewhat', 'Rogar', 'nephew', 'kingdom', 'ended', 'wished', 'sworn', 'former', 'Hammer', 'Dowager', 'voice', 'sat', 'entirely', 'care', 'beside', 'bear', 'attempt', 'afterward', 'True', 'Benifer', 'wroth', 'wrong', 'knee', 'broke', 'youth', 'waiting', 'sort', 'serve', 'iron', 'hear', 'cause', 'written', 'welcome', 'laughed', 'flying', 'defend', 'Mother', 'watch', 'treason', 'sight', 'quite', 'likely', 'interest', 'giving', 'food', 'concern', 'act', 'Farman', 'Citadel', 'thrice', 'thirty', 'talk', 'spent', 'effort', 'dwarf', 'answered', 'Telling', 'walk', 'something', 'sleep', 'share', 'progress', 'pride', 'pay', 'elder', 'descended', 'demanded', 'decade', 'cost', 'bedchamber', 'Sealord', 'Most', 'removed', 'poor', 'gift', 'forty', 'chance', 'ball', 'Rego', 'Larra', 'Duskendale', 'youngest', 'surviving', 'shared', 'seem', 'riding', 'reminded', 'presented', 'naked', 'met', 'live', 'faced', 'dance', 'Eyrie', 'stolen', 'pointed', 'nameday', 'light', 'lie', 'fever', 'ask', 'ash', 'alive', 'Was', 'How', 'smile', 'singer', 'pleased', 'mounted', 'bride', 'Why', 'Gerardys', 'Before', 'wept', 'thirteen', 'play', 'milk', 'mercy', 'kiss', 'fed', 'brown', 'beloved', 'Daenaera', 'worse', 'stay', 'sometimes', 'smaller', 'leal', 'household', 'feared', 'false', 'failed', 'envoy', 'curse', 'corpse', 'Who', 'Stranger', 'Mayhaps', 'throughout', 'successor', 'strike', 'sin', 'pretty', 'notion', 'laugh', 'hunting', 'happen', 'grandsire', 'cruel', 'commander', 'choose', 'bold', 'beautiful', 'battlement', 'angry', 'writing', 'spoken', 'speaking', 'proof', 'promise', 'poison', 'intent', 'forgotten', 'fallen', 'blind', 'These', 'Testimony', 'Nettles', 'Luthor', 'Jocelyn', 'wet', 'trial', 'stop', 'spared', 'showed', 'proposed', 'nature', 'healthy', 'hatchling', 'harm', 'feel', 'eager', 'drank', 'crime', 'clever', 'Viserra', 'Long', 'Like', 'Hard', 'Do', 'write', 'wise', 'weeping', 'trouble', 'surprise', 'splendid', 'skin', 'prayer', 'kind', 'highborn', 'happy', 'fifty', 'delivered', 'consider', 'bend', 'axe', 'attention', 'Palehair', 'Maelor', 'Gyles', 'Androw', 'twelve', 'trueborn', 'someone', 'slew', 'seldom', 'returning', 'promised', 'proclaimed', 'oath', 'liked', 'laid', 'lack', 'helped', 'deal', 'comfort', 'cell', 'Where', 'Now', 'Afterward', 'travel', 'thick', 'taste', 'swear', 'suffer', 'sooner', 'sold', 'sire', 'settled', 'sad', 'ruin', 'problem', 'pregnant', 'nose', 'lose', 'lad', 'guest', 'fit', 'fifteen', 'chronicle', 'beauty', 'Such', 'Shivers', 'Never', 'Flowers', 'Elysar', 'Dragonkeepers', 'Bernard', 'writes', 'wolf', 'weak', 'trust', 'snow', 'shown', 'shouted', 'sheep', 'screaming', 'reward', 'pray', 'please', 'plain', 'nurse', 'litter', 'learn', 'largely', 'innocent', 'hero', 'forever', 'desired', 'declaring', 'counsel', 'carrying', 'added', 'Spring', 'Septa', 'Our', 'Of', 'Good', 'Draz', 'willing', 'weight', 'wear', 'warm', 'view', 'sudden', 'setting', 'septum', 'roof', 'remembered', 'rage', 'opened', 'mob', 'messenger', 'message', 'kissing', 'gentle', 'drink', 'dismissed', 'consort', 'confessed', 'Here', 'Fever', 'Above', 'whatever', 'surprised', 'slept', 'sign', 'realize', 'reading', 'rang', 'proposal', 'prisoner', 'princeling', 'poppy', 'observed', 'needed', 'maidenhead', 'looking', 'gown', 'future', 'experience', 'collapsed', 'brave', 'blessing', 'blessed', 'art', 'argued', 'Stinger', 'Roggerio', 'Or', 'Mervyn', 'Doom', 'Cheese', 'trusted', 'talking', 'scar', 'roared', 'result', 'reported', 'remember', 'pulled', 'prepared', 'occasion', 'meal', 'loyalist', 'hell', 'gutter', 'fish', 'dispute', 'destroyed', 'denied', 'cheek', 'celebration', 'bitter', 'besides', 'bade', 'agent', 'abandoned', 'Tessario', 'Sandoq', 'Maegelle', 'Father', 'Aenys', 'smiled', 'sired', 'sharp', 'reigned', 'record', 'questioning', 'pushed', 'murdered', 'hated', 'hatch', 'gather', 'folly', 'finished', 'fierce', 'feeling', 'feed', 'cursed', 'breast', 'blacksmith', 'ambition', 'acted', 'accusation', 'Had', 'worthy', 'whispered', 'warning', 'warned', 'tragedy', 'thinking', 'stubborn', 'stroke', 'spring', 'shame', 'risk', 'protested', 'potion', 'offering', 'obey', 'manhood', 'lot', 'lasted', 'justice', 'impossible', 'important', 'ice', 'guilty', 'game', 'foul', 'forgiveness', 'forget', 'firstborn', 'favored', 'dubbed', 'destroy', 'departure', 'bore', 'armored', 'apartment', 'afraid', 'Stormcloud', 'Fell', '129', 'yielded', 'witch', 'wit', 'whenever', 'usurper', 'unlikely', 'unless', 'thrown', 'stronger', 'stepped', 'sleeping', 'skill', 'scarce', 'quiet', 'pyre', 'provided', 'pleading', 'persuade', 'monster', 'mine', 'laughter', 'laughing', 'ladyship', 'hurt', 'hostage', 'hearing', 'familiar', 'failing', 'defiance', 'courtesy', 'closest', 'chest', 'certainly', 'calm', 'aunt', 'assured', 'archmaesters', 'ale', 'accompany', 'Willis', 'Whatever', 'Stone', 'Smallwood', 'Runciter', 'Perhaps', 'Every', 'Brave', 'witnessed', 'willful', 'virtue', 'unto', 'turncloak', 'troubled', 'trading', 'swollen', 'supper', 'started', 'smell', 'sealed', 'rite', 'prevail', 'pick', 'offense', 'marked', 'judgment', 'health', 'guilt', 'grow', 'grant', 'gladly', 'forgive', 'fat', 'enter', 'delight', 'declare', 'dancing', 'confession', 'cat', 'capture', 'bitch', 'bathe', 'anointed', 'admitted', 'Sworn', 'Still', 'Regis', 'Little', 'Is', 'Elder', 'Devout', 'Despite', 'Confessor', 'Burley', 'Archmaester', 'wisdom', 'teach', 'supposedly', 'summon', 'summer', 'spare', 'sorry', 'ser', 'sacred', 'rift', 'resolve', 'require', 'recall', 'reasoned', 'protection', 'prevent', 'presumed', 'patience', 'outer', 'otherwise', 'obvious', 'novice', 'music', 'legend', 'jape', 'immediate', 'holy', 'harlot', 'halt', 'frail', 'foolish', 'fisherman', 'expressed', 'elsewise', 'eighteen', 'desperately', 'dare', 'content', 'consent', 'cock', 'charm', 'bedside', 'barely', 'appetite', 'Tyrells', 'Tangletongue', 'Perianne', 'Brothers', '92', '73', 'yield', 'worship', 'wield', 'washerwoman', 'wanting', 'visiting', 'uncertain', 'today', 'thank', 'surrender', 'stayed', 'spreading', 'solemn', 'scholar', 'scheme', 'reveal', 'responded', 'resolved', 'remainder', 'pushing', 'prefer', 'pleasant', 'plainly', 'nod', 'mystery', 'monstrous', 'kitten', 'interred', 'holdfast', 'healing', 'hanged', 'governance', 'glimpse', 'ghost', 'fearless', 'fathered', 'drunkard', 'drawbridge', 'dragonlords', 'doubted', 'deed', 'customary', 'curious', 'cried', 'confess', 'combat', 'chronicler', 'cask', 'business', 'brow', 'aye', 'attempting', 'amused', 'admit', 'Would', 'Turnip', 'Take', 'Sword', 'Should', 'Roy', 'Oh', 'Misery', 'Jonah', 'Ironrod', 'Borys', 'Any', 'Andals', 'Against', 'wont', 'wiser', 'wash', 'uncomfortable', 'tonight', 'tied', 'thin', 'thanked', 'sympathetic', 'suited', 'split', 'spirited', 'soul', 'slight', 'skilled', 'sinister', 'simpleminded', 'screamed', 'rolled', 'remind', 'release', 'recorded', 'pleaded', 'plea', 'performed', 'passion', 'parchment', 'ought', 'nonetheless', 'nonce', 'moat', 'mislike', 'me', 'lying', 'lovely', 'loath', 'listened', 'length', 'lap', 'instrument', 'image', 'herald', 'her', 'heel', 'happens', 'glad', 'foreign', 'farewell', 'faithful', 'eyed', 'entertain', 'enormous', 'endured', 'doom', 'despised', 'dealt', 'cared', 'birthright', 'befell', 'baseborn', 'appointment', 'amount', 'aid', 'abed', 'Willow', 'Volantene', 'Town', 'Thumb', 'Strongs', 'Pointed', 'Painted', 'Myles', 'Maris', 'History', 'Garon', 'Elmo', 'Culiper', 'Conciliator', 'Bastard', '115', 'you', 'writ', 'worshipped', 'wondered', 'womb', 'washed', 'vile', 'them', 'that', 'sway', 'sullen', 'success', 'steal', 'starving', 'slender', 'sixth', 'shook', 'session', 'serpentine', 'separate', 'ruby', 'root', 'risen', 'richest', 'reluctant', 'rare', 'raped', 'punished', 'prevailed', 'preferring', 'precious', 'powerless', 'posted', 'posed', 'pledged', 'particular', 'outlive', 'mouse', 'morrow', 'mock', 'missed', 'mere', 'limb', 'lightly', 'kissed', 'instance', 'inch', 'imagine', 'idle', 'hang', 'gossip', 'gatehouse', 'fitting', 'fiery', 'fearing', 'fault', 'faint', 'excitement', 'echo', 'doted', 'courtyard', 'charming', 'carnal', 'careful', 'bottom', 'boast', 'birthing', 'bind', 'bid', 'bereft', 'believing', 'barefoot', 'arrogance', 'approval', 'accursed', 'aback', 'Yi', 'Which', 'Whenever', 'Were', 'Turnips', 'Ti', 'Therefore', 'Sweetberry', 'Sly', 'Send', 'Sara', 'Pearl', 'Norren', 'Mole', 'Lyra', 'Kingslanders', 'Kingdom', 'Have', 'Go', 'Give', 'East', 'Brother', 'Are', '54', 'worn', 'weep', 'wasted', 'wanton', 'veiled', 'unworthy', 'unfortunate', 'turncloaks', 'treating', 'treachery', 'touched', 'torment', 'thundered', 'theft', 'taller', 'switch', 'survival', 'stage', 'southron', 'sorrow', 'sore', 'solution', 'solar', 'smiling', 'slit', 'shrugged', 'shed', 'sharing', 'shaken', 'seemingly', 'robust', 'reticent', 'response', 'respectively', 'rejection', 'refer', 'reconciliation', 'purse', 'proudly', 'properly', 'proclaiming', 'prepare', 'phrase', 'persisted', 'perfect', 'palace', 'oil', 'nodded', 'murderer', 'muddy', 'mourned', 'motion', 'mocked', 'mistrust', 'misgiving', 'miscarriage', 'melancholy', 'lickspittles', 'kitchen', 'ireddit', 'intend', 'inevitable', 'hunted', 'hound', 'hospitality', 'headsman', 'hat', 'hardly', 'grisly', 'grievance', 'graceful', 'gesture', 'forthcoming', 'folk', 'flung', 'existence', 'exchanged', 'equally', 'entertaining', 'dreamed', 'displeasure', 'dismissive', 'dishonor', 'devoted', 'despair', 'denial', 'delicate', 'delay', 'debate', 'darker', 'credence', 'confront', 'calumny', 'bursting', 'boon', 'blanket', 'behest', 'beheld', 'bedding', 'bedded', 'bawdy', 'bath', 'balcony', 'arse', 'annals', 'accomplished', 'Uncrowned', 'Turnberry', 'Since', 'Sharis', 'Save', 'Roddy', 'Rhaella', 'Pretty', 'Peri', 'Magister', 'Madness', 'Lacking', 'Hogs', 'Franklyn', 'Florian', 'Estermont', 'Does', 'Daring', 'Best', 'Be', 'Baelor', 'Aye', 'Air', '93', 'wynds', 'wreckage', 'wench', 'weaned', 'wax', 'warmer', 'waning', 'waking', 'wailing', 'upjumped', 'unwelcome', 'unsheathed', 'uneasy', 'undoubtedly', 'triumph', 'trail', 'tongued', 'toast', 'thirst', 'testimony', 'testified', 'tempted', 'taunting', 'taught', 'sweeping', 'swayed', 'surrendered', 'sum', 'suffice', 'subtle', 'stupid', 'stump', 'strongwine', 'stormed', 'stammering', 'spends', 'speculation', 'sorcery', 'soaked', 'snatched', 'snatch', 'smooth', 'smitten', 'slower', 'slip', 'slake', 'skinny', 'sing', 'silenced', 'sickly', 'sheath', 'sensed', 'rip', 'reluctance', 'regret', 'reducing', 'recovers', 'reborn', 'quote', 'quarreled', 'purportedly', 'punish', 'protected', 'praying', 'practiced', 'plentiful', 'plausible', 'pincer', 'pestilence', 'permitted', 'observer', 'oathbreakers', 'nearest', 'native', 'murdering', 'mischief', 'mask', 'malign', 'malice', 'lurked', 'lighten', 'liar', 'lazy', 'lavished', 'knelt', 'kinder', 'justification', 'japed', 'irony', 'insolence', 'inseparable', 'imposed', 'hoping', 'hopeful', 'honey', 'heal', 'haunt', 'happily', 'gut', 'gloom', 'gainsaid', 'fur', 'fruitless', 'frighten', 'flagon', 'fawning', 'fatal', 'fable', 'exhaustion', 'endless', 'emerging', 'effective', 'dutiful', 'dragonseed', 'dolt', 'disagree', 'differ', 'destiny', 'despoiled', 'demonstrated', 'defeating', 'declaration', 'cushion', 'cruelly', 'crop', 'cool', 'contemplation', 'consigned', 'complicit', 'complaint', 'complain', 'childbearing', 'charmed', 'chamberpot', 'callow', 'brusque', 'broadly', 'boasting', 'beset', 'beer', 'bedmaids', 'bat', 'bargain', 'avenge', 'attending', 'attainted', 'ascended', 'archmaester', 'apprentice', 'appeal', 'announce', 'ankle', 'amiss', 'altogether', 'addressed', 'accusing', 'Yndros', 'Women', 'Whereupon', 'Wedding', 'Valerion', 'Until', 'Tanglebeard', 'Tall', 'Studios', 'Strange', 'Stonehelm', 'Stackspear', 'Sire', 'Shortly', 'Roost', 'Nightfort', 'Kyrie', 'Kisses', 'Has', 'Greenstone', 'Grandison', 'Gael', 'Exceptionalism', 'Driftwood', 'Damon', 'Cunny', 'Chronicles', 'Bethany', '94', '62', 'yes', 'worthless', 'woken', 'withdrew', 'willed', 'whomever', 'whispering', 'whereabouts', 'whelp', 'weathered', 'watching', 'wandering', 'villain', 'vexed', 'ventured', 'venture', 'vent', 'vanguard', 'unyielding', 'unwashed', 'unspoken', 'ungrateful', 'transform', 'tortured', 'topple', 'toe', 'thunderous', 'thrusting', 'this', 'teat', 'tantamount', 'swing', 'sweating', 'surmise', 'sulky', 'styling', 'stress', 'straw', 'strapping', 'station', 'stammered', 'stairwell', 'splintering', 'spine', 'spat', 'sot', 'sobbing', 'smoky', 'sly', 'sliced', 'simplest', 'silvery', 'silly', 'shrieked', 'shocking', 'seduced', 'seasick', 'scowled', 'scorn', 'satisfied', 'safer', 'ruffian', 'roughspun', 'requested', 'reportedly', 'repent', 'religious', 'reform', 'redemption', 'rebuke', 'reacted', 'ratcatcher', 'rarely', 'quench', 'prouder', 'protects', 'producer', 'proclamation', 'procedure', 'pretend', 'prefers', 'precocious', 'preceded', 'poultice', 'portent', 'pondering', 'placing', 'pie', 'picture', 'persistent', 'perform', 'palpable', 'palm', 'overly', 'outlived', 'originated', 'oh', 'occupied', 'observe', 'obedience', 'nubile', 'notoriously', 'noose', 'niggardly', 'namesake', 'nakedness', 'motto', 'moral', 'miracle', 'midnight', 'matched', 'mane', 'maidservant', 'lordlings', 'lively', 'laying', 'languished', 'judge', 'jewel', 'is', 'ink', 'inclined', 'ideal', 'homely', 'homeless', 'him…', 'him', 'hilt', 'hideous', 'hearth', 'hastened', 'growl', 'grin', 'gotten', 'godless', 'glutton', 'gloomy', 'giggling', 'generous', 'gasped', 'furnishing', 'freshly', 'forgiven', 'forge', 'forebear', 'fondness', 'fluttering', 'flowering', 'fevered', 'ferocity', 'fared', 'fame', 'faithless', 'explaining', 'expecting', 'exciting', 'entrust', 'endure', 'dull', 'dub', 'doubtless', 'doomed', 'distraction', 'dishonored', 'discontent', 'disappointed', 'dirty', 'determine', 'deity', 'deflowering', 'defiant', 'deceived', 'daunting', 'cynical', 'cutpurse', 'cunt', 'crypt', 'coward', 'courtly', 'countered', 'convince', 'construction', 'confinement', 'confidence', 'confesses', 'concerning', 'conceived', 'commit', 'clumsy', 'childish', 'cherished', 'chaste', 'ceased', 'card', 'captor', 'butterfly', 'brutally', 'brushed', 'broader', 'bowed', 'boldness', 'blushing', 'biggest', 'bee', 'bastardy', 'ballad', 'balding', 'attached', 'ate', 'aspire', 'aroused', 'appoint', 'apple', 'anew', 'alarmed', 'abashed', 'Yes', 'Wyl', 'Words', 'Walter', 'Unfortunately', 'Tess', 'Tell', 'Sylvenna', 'Summoning', 'Storms', 'Speak', 'Spare', 'Sour', 'Show', 'See', 'Round', 'Quarrel', 'Qoren', 'Please', 'Oswyck', 'Nuncle', 'Note', 'Next', 'Mud', 'Much', 'May', 'Make', 'Hewer', 'Gifts', 'Field', 'Fellow', 'False', 'Ever', 'Elsewise', 'Elinda', 'Dragonkeeper', 'Dornishman', 'Dead', 'Crone', 'Child', 'Boy', 'Books', 'Bolton', 'Blessed', 'Bertrand', 'Beneath', 'Alayne', 'Aerion', '57', '25', '114', 'yielding', 'wwwinstagramcom', 'wrongdoing', 'wracked', 'wove', 'women', 'wipe', 'willingly', 'wicked', 'well…and', 'weighty', 'weighs', 'weather', 'waver', 'warranted', 'voracious', 'vital', 'viper', 'violet', 'vindictive', 'viewed', 'vie', 'vermin', 'vegetable', 'variance', 'usual', 'usage', 'unwisely', 'untroubled', 'unsympathetic', 'unsteady', 'unsound', 'unproven', 'unmoving', 'unmoved', 'unharmed', 'understood', 'unconvinced', 'uncontrollably', 'unarmed', 'truculent', 'trifled', 'treacherous', 'transparent', 'traitors', 'tractable', 'trace', 'toy', 'tome', 'thrived', 'thrall', 'testifies', 'termed', 'tender', 'temperament', 'tart', 'tanner', 'swifter', 'sweetsleep', 'sweeter', 'sustenance', 'survives', 'supplementary', 'sung', 'sulking', 'suck', 'submitted', 'styled', 'stupidity', 'stung', 'strove', 'stroked', 'strapped', 'strap', 'stormy', 'storied', 'stammer', 'stair', 'stabbing', 'squash', 'squall', 'spurred', 'spilled', 'spicemonger', 'spearman', 'so…', 'sowed', 'sorely', 'sorceress', 'soothed', 'sons', 'solemnly', 'softened', 'sneaked', 'snarl', 'sluggish', 'slightest', 'slice', 'slaughtering', 'slapped', 'skirt', 'sinner', 'singular', 'shudder', 'shrug', 'shrewder', 'shouldered', 'shortest', 'shoe', 'shod', 'shipped', 'sheaf', 'sewed', 'sew', 'secrecy', 'seaworthy', 'seagull', 'scampered', 'sausage', 's', 'rue', 'rob', 'richer', 'restraint', 'restrain', 'research', 'rescue', 'reputedly', 'remembering', 'relieve', 'rejecting', 'regrouped', 'reflective', 'reflecting', 'reflected', 'reconcile', 'ravaged', 'purchased', 'puppy', 'pu', 'provocative', 'prone', 'prohibition', 'pricked', 'prettiest', 'prerogative', 'preposterous', 'prance', 'poxy', 'pour', 'portrayed', 'popular', 'policy', 'poem', 'plump', 'pleasured', 'plaza', 'player', 'pity', 'piss', 'pious', 'permit', 'permission', 'perfectly', 'perched', 'paused', 'patch', 'passivity', 'pardoned', 'parade', 'pander', 'paled', 'p', 'owl', 'owe', 'overshadowed', 'outfly', 'outburst', 'out', 'organize', 'objected', 'oathbreaker', 'nursed', 'notwithstanding', 'not', 'ninthborn', 'nettlesome', 'natured', 'mutilated', 'mus', 'monumental', 'mongrel', 'modicum', 'minded', 'meddled', 'meagre', 'maul', 'masque', 'markedly', 'majority', 'lucid', 'louder', 'lordling', 'loot', 'loosing', 'lecture', 'lash', 'laced', 'joyless', 'joke', 'jointly', 'irrepressible', 'invaded', 'insolent', 'inquired', 'inflict', 'inflamed', 'inflame', 'infamy', 'indecisive', 'increasingly', 'inappropriate', 'impressed', 'impediment', 'ignoble', 'humorless', 'humor', 'horseshoe', 'horsed', 'hitting', 'hippocras', 'hesitation', 'her…but', 'here', 'heeded', 'hears', 'hawked', 'harshness', 'harsh', 'harder', 'handsomely', 'guidance', 'grunted', 'grumbled', 'greenscreen', 'greener', 'gratitude', 'grateful', 'granting', 'grabbed', 'glorious', 'glistening', 'glaring', 'geld', 'gazing', 'gazed', 'gallows', 'frowned', 'frown', 'freeze', 'forthwith', 'forgot', 'forfeit', 'forbid', 'folklore', 'flour', 'flaw', 'firefly', 'fetch', 'feigned', 'favorable', 'falsehood', 'fairest', 'failure', 'fails', 'exchanging', 'exceptionally', 'exceedingly', 'euphoria', 'er', 'enumerate', 'entry', 'enjoys', 'enjoy', 'endlessly', 'empowered', 'emotionally', 'emotion', 'ember', 'elicit', 'elbow', 'eighthborn', 'ease', 'dwindle', 'dwell', 'duck', 'drunkenness', 'dreamwine', 'draught', 'drain', 'dragons', 'doublet', 'doings', 'distress', 'dissent', 'disrobed', 'dispersed', 'disobedient', 'discovery', 'disappear', 'disabuse', 'devious', 'despaired', 'deserves', 'deserter', 'derision', 'denounced', 'deigned', 'deign', 'defying', 'defy', 'deepen', 'debating', 'dearest', 'dayfly', 'damned', 'dally', 'curtsy', 'curtly', 'curl', 'cruelest', 'crueler', 'crucial', 'crowning', 'cripple', 'cramping', 'courteously', 'courteous', 'correctly', 'contribute', 'contentious', 'containing', 'contact', 'consolation', 'consented', 'conquering', 'connection', 'concubine', 'concealed', 'compassion', 'cliffside', 'clap', 'citadel', 'chorus', 'chicken', 'cherish', 'cheated', 'cheaper', 'cheap', 'cesspit', 'cease', 'cautiously', 'cautioned', 'caper', 'bury', 'brusquely', 'brotherhood', 'bristle', 'bridged', 'breech', 'breaker', 'bravest', 'braver', 'boys', 'bowel', 'boundless', 'bosom', 'bordered', 'blustered', 'blushed', 'blush', 'blunted', 'bide', 'beguile', 'before', 'befallen', 'bedmaid', 'battleaxe', 'balked', 'bald', 'avenged', 'aught', 'attribute', 'asunder', 'assume', 'assertion', 'assent', 'ashen', 'arise', 'approved', 'amusing', 'amends', 'alms', 'all', 'alehouse', 'afar', 'adored', 'admiration', 'abomination', 'abiding', 'abide', 'Whence', 'Well', 'Weary', 'Vypren', 'Very', 'Unnatural', 'Unless', 'Unchained', 'Treasons', 'Tis', 'Thereupon', 'Tens', 'Surprisingly', 'Strummer', 'Stop', 'Something', 'Smits', 'Sing', 'Shunned', 'Short', 'Shall', 'Seize', 'Sail', 'Sad', 'Saagael', 'Run', 'Right', 'Rift', 'Return', 'Rag', 'Put', 'Pray', 'Pool', 'Poison', 'Pig', 'Pick', 'Orys', 'Off', 'Nothing', 'Netty', 'Ned', 'Music', 'Moved', 'Mormont', 'Moore', 'Maekar', 'Lusty', 'Look', 'Life', 'Jimmy', 'Jessamyn', 'Into', 'Hold', 'Henrietta', 'Hardly', 'Haen', 'Gyula', 'Guards', 'Goodwife', 'Glorious', 'Gathering', 'Gargon', 'Forty', 'Forgive', 'Forewarned', 'Fools', 'Flush', 'Fierce', 'Enough', 'Either', 'Early', 'Drunks', 'Dragonbane', 'Dozens', 'Done', 'Construction', 'Consider', 'Choose', 'Cattle', 'Called', 'Butterwell', 'Briefly', 'Beckett', 'Allar', '98', '78', '77', '74', '68', '33', '…their', '—proved', '—must', '—mock', '—is', '—had', '—a', 'you…but', 'you…I', 'youself', 'your…', 'yes…but', 'years…until', 'yawn', 'writhe', 'wretched', 'wrestling', 'wrested', 'wreak', 'worth—', 'woodsmoke', 'woodpile', 'womanly', 'wives', 'witty', 'withering', 'wistfully', 'will', 'wilding', 'wideshot', 'wickedness', 'wi', 'why', 'whistle', 'whining', 'whereof', 'whereby', 'wheeled', 'were…worms', 'were', 'well…everywhere', 'well…but', 'wed…but', 'wedded', 'webp', 'weasel', 'weariness', 'wealthier', 'ways', 'waved', 'waterfront', 'waspishly', 'warred', 'wane', 'wan', 'waging', 'wag', 'vulture—I', 'vulture', 'vows', 'vouch', 'voluable', 'voiced', 'vocal', 'vivacious', 'vitality', 'visceral', 'visage', 'violated', 'vintner', 'vigorously', 'vigorous', 'victories', 'vexing', 'vested', 'venomous', 'velaryon', 'veered', 'vapid', 'vaguely', 'uzsufrp2vhe91jpg', 'us…', 'uselessly', 'urine', 'up…not', 'uproariously', 'unwound', 'unwary', 'unwarranted', 'unusually', 'untrustworthy', 'unspoiled', 'unsettling', 'unravelled', 'unraveled', 'unravel', 'unprovable', 'unpredictable', 'unpopulated', 'unperturbed', 'unorthodox', 'unopened', 'unobstructed', 'unnecessarily', 'unfortunately', 'unforeseen', 'unfolded', 'unfairly', 'unexpectedly', 'unequal', 'undrunk', 'undisturbed', 'undiscovered', 'undisciplined', 'undeserved', 'undertaking', 'underaged', 'uncrowned', 'unconcerned', 'uncaring', 'unbending', 'unbearable', 'unanimously', 'unamused', 'unalloyed', 'umbrage', 'two…and', 'twilight', 'tweaked', 'turd', 'turbulent', 'tryst', 'trulls', 'true…but', 'truce', 'troth', 'triarch', 'tremor', 'tray', 'transpired', 'trailed', 'to…a', 'toyed', 'towered', 'toppling', 'tomorrow', 'tolerated', 'tiny', 'tightly', 'tighter', 'tiger', 'tiara', 'thwarted', 'through', 'throe', 'three…chickens…I', 'thrashed', 'thong', 'thirdborn', 'things…Mother', 'thieving', 'there…a', 'there', 'them…they', 'them…', 'them—two', 'thankfully', 'thankful', 'terrify', 'tenure', 'tended', 'tempt', 'tempestuous', 'tellingly', 'teasingly', 'tears', 'tattooed', 'tansy', 'talon', 'taciturn', 'tacit', 'sworls', 'swordfight', 'swimmer', 'swilling', 'swifter…but', 'sweetly', 'swaying', 'surpassing', 'surf', 'surcease', 'supportive', 'supped', 'supervise', 'superior', 'sunrise', 'sunken', 'sunder', 'sumptuously', 'sully', 'sullenly…but', 'sulker', 'sulked', 'sulk', 'sued', 'suckling', 'sucking', 'succession…and', 'submit…along', 'subdue', 'studious', 'studded', 'stubby', 'strumpet', 'stripe', 'stringed', 'strife', 'strayed', 'strategy', 'strand', 'strain', 'stool', 'stomach', 'stillness', 'sterner', 'steeper', 'steeped', 'steadfastly', 'startling', 'stalking', 'stagger', 'stables', 'stabbings', 'squirm', 'squeal', 'squeaking', 'squandering', 'squandered', 'squalor', 'squalling', 'spouse', 'spontaneous', 'splinter', 'spindly', 'speculated', 'spattered', 'sparkled', 'sourly', 'soothing', 'soothe', 'sooth', 'son…', 'solved', 'soften', 'sob', 'soaping', 'snowstorm', 'snout', 'snorted', 'smothered', 'smoked', 'smarter', 'small—on', 'slurred', 'slunk', 'slowness', 'sloppy', 'slither', 'slimy', 'sleeper', 'slaked', 'skillfully', 'skewer', 'skeleton', 'sister—', 'sighed', 'shuts', 'shrank', 'shortness', 'shortly', 'ships', 'shin', 'sheepskin', 'shard', 'shake', 'shadowy', 'seniority', 'selfless', 'selected', 'seeker', 'seeds', 'seduction', 'secretive', 'secondborn', 'secondary', 'scurried', 'scrawny', 'scour', 'schooled', 'schemer', 'sceptre', 'scenario', 'scary', 'scarred', 'scared', 'scarcely', 'scaled', 'scalding', 'savagely…until', 'sated', 'sardonic', 'sane', 'sampling', 'same', 'sallying', 'sally', 'said…mayhaps', 'sagging', 'sagely', 'sacrificed', 'rump', 'rued', 'rudiment', 'rudeness', 'rudely', 'rosewater', 'roots', 'rod', 'riverfront', 'riser', 'ringlet', 'rights…', 'righted', 'rhaeninna', 'reviewing', 'reverence', 'revelry', 'reunited', 'reunion', 'retorting', 'retched', 'retch', 'retaliate', 'respite', 'rescued', 'reprimanding', 'repository', 'repeating', 'remiss', 'relent', 'rekindle', 'rejoicing', 'rejoice', 'reined', 'redirects', 'rectitude', 'rectifying', 'recounted', 'recommend', 'reckoned', 'recitation', 'receded', 'reasons…for', 'reappearing', 'reaping', 'reap', 'reality', 'raw…and', 'ravens…or', 'ravens', 'rats', 'rapist', 'ransomed', 'rake', 'quipped', 'quieter', 'quibbling', 'queue', 'query', 'queens—his', 'quaked', 'puzzling', 'purport', 'purgative', 'pup', 'puny', 'pulse', 'pug', 'proverbial', 'prospering', 'prospered', 'propriety', 'propitious', 'pronouncing', 'progress—', 'progenitor', 'profound', 'professed', 'proclaims', 'prisoners…but', 'prised', 'prince…save', 'primp', 'previewreddit', 'prettily', 'presence…but', 'prepared…but', 'preens', 'precisely', 'prated', 'postscript', 'postponing', 'posting', 'positive', 'pony', 'polluted', 'poison…and', 'poisonous', 'poisoner', 'pointy', 'poetic', 'plumper', 'plinth', 'plank', 'pitted', 'pinch', 'piling', 'personalized', 'persistence', 'perchanced', 'pennyroyal', 'penniless', 'penace', 'pelt', 'paucity', 'paternity', 'passionate', 'partaking', 'parentage…but', 'parentage', 'parapet', 'pamper', 'pain…though', 'pagaentry', 'ownership', 'owner', 'overstay', 'overlarge', 'overcast', 'out…', 'outshone', 'outrageous', 'outlawry', 'outlawed', 'outlandish', 'ours', 'originate', 'ordained', 'openface', 'once', 'omit', 'ominously', 'oh…and', 'of…chickens…his', 'ofpc6fym74i91jpg', 'offing…Rhaenyra', 'offer…gold', 'occupies', 'obscure', 'obscene', 'obeys', 'oaken', 'nourishment', 'nourishing', 'notablog', 'nobler', 'night…whilst', 'nettle', 'neighboring', 'negotiator', 'nectar', 'ne', 'nap', 'names…they', 'namedays', 'mīsās', 'myself…if', 'mutilation', 'mutable', 'mustache', 'mumbled', 'mournfully', 'motley', 'mother…is', 'motherless', 'mortified', 'morn', 'monies', 'moneychanger', 'momma', 'mollify', 'modestly', 'moderating', 'moaning', 'mixing', 'miss', 'misremembered', 'misheard', 'miser', 'mischievious', 'mingle', 'miasma', 'me…too', 'mettle', 'merry', 'merriment', 'merman', 'mermaid', 'memorable', 'membership', 'meatless', 'means', 'may…but', 'matured', 'matters', 'matted', 'massing', 'marvel', 'mannerly', 'malediction', 'maidens…save', 'maester…but', 'lustrous', 'lustily', 'lustier', 'ludicrous', 'lph4pch52bi91jpg', 'lovelier', 'louse', 'lords', 'loneliness', 'locate', 'literate', 'limbed', 'lilac', 'lil', 'likeness', 'lifting', 'life…for', 'licking', 'lichyards', 'licensed', 'leniency', 'lengthy', 'lends', 'leaned', 'laws', 'lately', 'lasting', 'lamprey', 'lacks', 'labors', 'kinslaying', 'king…else', 'king…and', 'king—has', 'kingslayer', 'kingdoms', 'kindness', 'kindly', 'kindle', 'kimono', 'kettle', 'justly…but', 'jumped', 'joyful', 'joining', 'jet', 'it', 'is…dishonorable', 'ironic', 'invoked', 'invisible', 'investigation', 'invariably', 'intractable', 'intentioned', 'inspiring', 'insolently', 'insists…before', 'insistent', 'innards', 'inkpot', 'initial', 'infallibility', 'ineffectually', 'induce', 'indication', 'incorrect', 'inconsolably', 'inches—and', 'improper', 'impotent', 'implicitly', 'impatiently', 'immortal', 'immersion', 'idol', 'identifies', 'ideally', 'hushed', 'hurry', 'hurdle', 'hunger…for', 'hungered', 'hulking', 'however…well', 'hopping', 'honed', 'homecoming', 'holier', 'hoarsely', 'hoarded', 'hinged', 'himself…bow', 'her…until', 'her…if', 'her…how', 'her…against', 'herring', 'hempen', 'helpfully', 'hellhorns', 'hector', 'heaven', 'heartily', 'hazard', 'have', 'hashing', 'harshest', 'harridan', 'harpist', 'hardship', 'harboring', 'handy', 'hands…twisting', 'handpicked', 'haltingly', 'hairbrush', 'haggling', 'hacking', 'hack', 'gullible', 'guiding', 'guess', 'grumble', 'grueling', 'growled', 'grotesquely', 'grossly', 'grin…a', 'grinning…for', 'grimace', 'greasy', 'grape', 'graf', 'gracious', 'governed', 'gouged', 'gorged', 'gopher', 'goodness', 'goldenheart', 'goaded', 'gnaw', 'glowering', 'gloom…for', 'gloomily', 'gloatingly', 'glibly', 'glen', 'glass', 'giver', 'given…', 'girls…but', 'gibe', 'ghosts', 'gesturing', 'gestured', 'gentler', 'gang', 'gambler', 'gainsay', 'fuzz', 'funnier', 'fullest', 'fruits…we', 'frost', 'frivolous', 'frightening', 'friends', 'fried', 'frankest', 'frank', 'foursome', 'fortnightly', 'format', 'forlorn', 'foreswore', 'forbearing', 'footpath', 'fools…though', 'foolishness', 'food—', 'fondling', 'fonder', 'flow', 'floured', 'flood', 'flirtatious', 'flippant', 'flight…but', 'flashback', 'flapped', 'fig', 'fidelity', 'fettered', 'fetched', 'fatten', 'fatigued', 'fatherhood', 'fart', 'fanned', 'fang', 'fancy', 'fancied', 'faces…snakes', 'eyes…and', 'expunged', 'expanse', 'exhortation', 'exhilarating', 'exert', 'excused', 'exclaimed', 'excites', 'evoke', 'evenly', 'evening…with', 'evenfall', 'eschew', 'errand', 'enumerated', 'end…', 'enchantress', 'enchanted', 'enameled', 'enact', 'enabled', 'emerald', 'eleventh', 'eighteenth', 'eggless', 'eerie', 'ebony', 'eat…and', 'eagerness', 'dying…not', 'dwarfed', 'dully…an', 'drooler', 'dripping', 'dressing', 'drenched', 'dragonlord', 'dragonkeeper', 'dowry', 'dour', 'doughty', 'doubter', 'doubly', 'dote', 'donning', 'dominance', 'dolphin', 'dohaerās', 'dogs', 'does', 'document', 'do', 'disturbed', 'distinguishing', 'dissuade', 'dissented', 'disporting', 'displeasing', 'displaced', 'dispelled', 'disorder', 'disobedience', 'dismounted', 'dishonorably', 'dishonorable', 'dish', 'disfavor', 'disenchanted', 'discussions', 'disabused', 'dining', 'din', 'digress', 'dignity', 'differently', 'did', 'dictated', 'diamond', 'devout', 'devised', 'deterred', 'detailing', 'despoil', 'deserve', 'demured', 'demonstrate', 'demeanor', 'delusion', 'delightful', 'deliberate', 'deigns', 'deflower', 'definitive', 'defer', 'decry', 'decreed…but', 'decrease', 'decorum', 'decent', 'decapitated', 'debate…and', 'dearly', 'deafening', 'deadlier', 'dazzling', 'dazzled', 'day…this', 'daughters—grew', 'dastard', 'darkly', 'daresay', 'dance…', 'dabbled', 'customer', 'curtsied', 'cunny', 'cultivated', 'cuddled', 'crux', 'crumbling', 'crumbled', 'crookedly', 'crony', 'cringed', 'crediting', 'credible', 'cradled', 'cozened', 'cowardly', 'court…with', 'court…not', 'coupled', 'counseling', 'costs—', 'corruption', 'corrected', 'coronation—', 'copying', 'cooking', 'convulsion', 'convulsing', 'contrived', 'contrition', 'contradicts', 'contestant', 'contenting', 'contempt', 'contemplating', 'contemplate', 'consumption', 'consulted', 'congress', 'congratulated', 'confronting', 'confessing', 'condolences', 'condemnatory', 'conciliated', 'comprehension', 'composure', 'compose', 'comporting', 'complied', 'commotion', 'commonplace', 'commence', 'commanded…', 'comforting', 'comb', 'collector', 'collectively', 'coldness', 'codify', 'clouded', 'clothe', 'cling', 'cleverly', 'clemency', 'cleansing', 'cleansed', 'clasped', 'chord', 'chimed', 'child…though', 'children', 'chided', 'chested', 'cheeky', 'chastisement', 'charged…straight', 'characterize', 'chalk', 'chains', 'ceded', 'cautious', 'cautioning', 'cargo…but', 'carelessness', 'calamity', 'cajoled', 'but…the', 'but…', 'butchery', 'bundled', 'bulging', 'budge', 'brung', 'brotherly', 'broomstick', 'broached', 'breeze', 'breath…though', 'breathless', 'brandished', 'boys…we', 'bounced', 'boomed', 'book…', 'bodily', 'bobbed', 'blustery', 'blushes', 'blunt', 'bloodletting', 'blindness', 'birth…', 'bigamously', 'bier', 'beseech', 'berated', 'berate', 'belongs', 'bellowing', 'belligerent', 'behooves', 'beforehand', 'befall', 'beet', 'beef', 'bedchamber…but', 'beckoned', 'bean', 'barrel', 'barmaid', 'bargainer', 'banned', 'balm', 'baked', 'bacchanal', 'b', 'awoken', 'averted…but', 'averted', 'averse', 'auto', 'augury', 'auction', 'attack…but', 'atone', 'as…a', 'astronomy', 'astray', 'astonishing', 'astonished', 'assortment', 'asserts…for', 'assertions…but', 'askance', 'arms', 'aright', 'arcane', 'appreciated', 'appendix', 'appending', 'appended', 'apologized', 'apologetic', 'anyone—', 'antidote', 'another…and', 'anguished', 'amounted', 'amicably', 'amicable', 'amazing', 'allegiance…but', 'alchemy', 'air…I', 'airy', 'ahhh…should', 'again', 'afterward…', 'affrontry', 'adventures', 'adroit', 'adorned', 'admire', 'admirably', 'adjoining', 'acquaintance', 'accorded', 'accommodation', 'acclaim', 'acceptable', 'acceded', 'abused', 'abuse', 'abundantly', 'absolution', 'abrupt', 'abdicate', 'YmMyMTA2M2Y', 'Years', 'Wyverns', 'Wyrms', 'Worn', 'Work', 'Woo', 'Whose', 'Whores', 'Whispers', 'Wherever', 'Westeros…though', 'Welcome', 'Weatherwax', 'Wall…and', 'Voice', 'Veron', 'Valerian', 'Vain', 'Vaella', 'Unlucky', 'Unless…', 'Unhappy', 'Undoubtedly', 'Tyrell—aided', 'Tyler', 'Twinklehoof', 'Trystan', 'Truly', 'Trees', 'Tree', 'Treaty', 'Treachery', 'Town…and', 'Told', 'Tigaro', 'Throw', 'Threats', 'Them', 'Theirs', 'Thank', 'Teats', 'Tears', 'Surely', 'Sullen', 'Stronger', 'Strangely', 'Story', 'Spread', 'Spill', 'Smaller', 'Slay', 'Sid', 'Sickness', 'She…oh', 'Set', 'Servants', 'Septons', 'Seeds', 'Seduced', 'Scream', 'Sansara', 'Sandstone', 'Sandeman', 'Saddest', 'Rogues', 'Roads', 'Rhaenyra…she', 'Rhae', 'Remove', 'Rats', 'Questions', 'Qoherys', 'Pulled', 'Proud', 'Pretender', 'Possibly…but', 'Plainly', 'Pity', 'Pigface', 'Paying', 'Patricia', 'Paps', 'Palace', 'Pact', 'Osney', 'Offer', 'OUT', 'Nowhere', 'North…but', 'Nobody', 'Ninkiot', 'Need', 'Mysteries', 'Must', 'Murder', 'Munken', 'Mudfoot', 'Move', 'Moraqos', 'Monster', 'Mine', 'Milk', 'Mile', 'Methinks', 'Me', 'Mars', 'Maidenhood', 'MDJmNzVkMjY', 'Luceon', 'Lot', 'Listening', 'Listen', 'Lineages', 'Lie', 'Left', 'Lashing', 'Large', 'Kissing', 'Killed', 'Kesommi', 'Judgment', 'Judging', 'Jeynes', 'I–XXII', 'Instructed', 'Imagine', 'Huntress', 'Huge', 'Helaena—', 'Hear', 'Hasty', 'Harvests', 'Hand…though', 'Gutter', 'Guest', 'Growing', 'Graces', 'Goodwyn', 'Gladly', 'Giving', 'Girl', 'Geltilio', 'GET', 'Fyre', 'Full', 'Frustrated', 'Freed', 'Forever', 'Florence', 'Flies', 'Finish', 'Fie', 'Few', 'Feel', 'Fearing', 'Farts', 'Farewell', 'Family', 'Fairs', 'Eternal', 'English', 'Elysar…though', 'Elsewise…the', 'Eleven', 'Easily', 'Drops', 'Driven', 'Dreadfort', 'Drawing', 'Dragonseeds', 'Don', 'Discarded', 'Disappointment', 'Debt', 'Dear', 'Darker', 'Dangerous', 'Daella…when', 'Cut', 'Curiously', 'Crime', 'Cooler', 'Confusion', 'Comely', 'Code', 'Claim', 'Citadel…but', 'CidR7nFKoGC', 'CgyqNtnq1Sk', 'Cerwyn', 'Cass', 'Carried', 'Bury', 'Builder', 'Brown', 'Bring', 'Bride', 'Braavos…but', 'Boys', 'Bidding', 'Better', 'Betrayal', 'Begone', 'Begging', 'Beatrice', 'Bearing', 'Bear', 'Bastards', 'Barely', 'Barba', 'Bakkalon', 'Assisted', 'Anyone', 'Anya', 'Angry', 'Angrily', 'Amarys', 'Am', 'Alysanne—a', 'Aim', 'Aethan', 'Aegon…which', '87', '86', '80th', '79', '69', '67', '63', '48–103', '42–48', '3D', '233–259', '221–233', '209–221', '1–37', '184–209', '161–171', '157–161', '157', '1568588045548503041', '131–157', '129th', '123', '110', '0b6num8iske91jpg']\n"
     ]
    }
   ],
   "source": [
    "for top in topics:\n",
    "    print(top)\n"
   ]
  },
  {
   "cell_type": "code",
   "execution_count": 14,
   "metadata": {},
   "outputs": [],
   "source": [
    "# Topic model\n",
    "from bertopic import BERTopic"
   ]
  },
  {
   "cell_type": "code",
   "execution_count": 27,
   "metadata": {},
   "outputs": [],
   "source": [
    "topic_model = BERTopic(n_gram_range=(3, 3))\n",
    "topics, probabilities = topic_model.fit_transform(data_dict[\"paragraphs\"])"
   ]
  },
  {
   "cell_type": "code",
   "execution_count": 38,
   "metadata": {},
   "outputs": [],
   "source": [
    "x = topic_model.get_topic_info()\n",
    "x.to_csv(\"topics.csv\")"
   ]
  },
  {
   "cell_type": "code",
   "execution_count": 33,
   "metadata": {},
   "outputs": [
    {
     "data": {
      "text/plain": [
       "[('grand maester mellos', 0.002843683991866334),\n",
       " ('commander city watch', 0.0020383478212939775),\n",
       " ('iron throne corlys', 0.0019871987763958334),\n",
       " ('behind scene video', 0.001984363287605265),\n",
       " ('rhaenyra three son', 0.0017773957291424235),\n",
       " ('married rhea royce', 0.0015557596648298451),\n",
       " ('daemon return wife', 0.0015557596648298451),\n",
       " ('real father rhaenyra', 0.0015557596648298451),\n",
       " ('claim still virgin', 0.0015557596648298451),\n",
       " ('valyrian steel necklace', 0.0015557596648298451)]"
      ]
     },
     "execution_count": 33,
     "metadata": {},
     "output_type": "execute_result"
    }
   ],
   "source": [
    "topic_model.get_topic(0)"
   ]
  },
  {
   "cell_type": "code",
   "execution_count": 36,
   "metadata": {},
   "outputs": [
    {
     "data": {
      "application/vnd.plotly.v1+json": {
       "config": {
        "plotlyServerURL": "https://plot.ly"
       },
       "data": [
        {
         "marker": {
          "color": "#D55E00"
         },
         "orientation": "h",
         "type": "bar",
         "x": [
          0.005349330845985137,
          0.005666192816271685,
          0.005666192816271685,
          0.005666192816271685,
          0.005666192816271685
         ],
         "xaxis": "x",
         "y": [
          "lost eye gained  ",
          "however queen alicent  ",
          "prince aemond said  ",
          "princess rhaenyra son  ",
          "confrontation lucerys aemond  "
         ],
         "yaxis": "y"
        },
        {
         "marker": {
          "color": "#0072B2"
         },
         "orientation": "h",
         "type": "bar",
         "x": [
          0.0086740961132546,
          0.009650686011183442,
          0.011636995340791708,
          0.014259739302112235,
          0.026922331373414234
         ],
         "xaxis": "x2",
         "y": [
          "king aegon said  ",
          "said your grace  ",
          "ser marston waters  ",
          "king aegon iii  ",
          "grand maester munkun  "
         ],
         "yaxis": "y2"
        },
        {
         "marker": {
          "color": "#CC79A7"
         },
         "orientation": "h",
         "type": "bar",
         "x": [
          0.005501093123625109,
          0.005501093123625109,
          0.005694736519580237,
          0.006633275561336076,
          0.008251639685437663
         ],
         "xaxis": "x3",
         "y": [
          "mushroom would believe  ",
          "the testimony mushroom  ",
          "people king landing  ",
          "grand maester munkun  ",
          "king landing mushroom  "
         ],
         "yaxis": "y3"
        },
        {
         "marker": {
          "color": "#E69F00"
         },
         "orientation": "h",
         "type": "bar",
         "x": [
          0.005899208074595562,
          0.005899208074595562,
          0.005899208074595562,
          0.008003006147121818,
          0.00835397331424104
         ],
         "xaxis": "x4",
         "y": [
          "dreamfyre rider queen  ",
          "rider queen helaena  ",
          "mount old king  ",
          "vhagar oldest largest  ",
          "dragon never ridden  "
         ],
         "yaxis": "y4"
        }
       ],
       "layout": {
        "annotations": [
         {
          "font": {
           "size": 16
          },
          "showarrow": false,
          "text": "Topic 4",
          "x": 0.0875,
          "xanchor": "center",
          "xref": "paper",
          "y": 1,
          "yanchor": "bottom",
          "yref": "paper"
         },
         {
          "font": {
           "size": 16
          },
          "showarrow": false,
          "text": "Topic 5",
          "x": 0.36250000000000004,
          "xanchor": "center",
          "xref": "paper",
          "y": 1,
          "yanchor": "bottom",
          "yref": "paper"
         },
         {
          "font": {
           "size": 16
          },
          "showarrow": false,
          "text": "Topic 6",
          "x": 0.6375000000000001,
          "xanchor": "center",
          "xref": "paper",
          "y": 1,
          "yanchor": "bottom",
          "yref": "paper"
         },
         {
          "font": {
           "size": 16
          },
          "showarrow": false,
          "text": "Topic 7",
          "x": 0.9125,
          "xanchor": "center",
          "xref": "paper",
          "y": 1,
          "yanchor": "bottom",
          "yref": "paper"
         }
        ],
        "height": 665.6,
        "hoverlabel": {
         "bgcolor": "white",
         "font": {
          "family": "Rockwell",
          "size": 16
         }
        },
        "showlegend": false,
        "template": {
         "data": {
          "bar": [
           {
            "error_x": {
             "color": "#2a3f5f"
            },
            "error_y": {
             "color": "#2a3f5f"
            },
            "marker": {
             "line": {
              "color": "white",
              "width": 0.5
             },
             "pattern": {
              "fillmode": "overlay",
              "size": 10,
              "solidity": 0.2
             }
            },
            "type": "bar"
           }
          ],
          "barpolar": [
           {
            "marker": {
             "line": {
              "color": "white",
              "width": 0.5
             },
             "pattern": {
              "fillmode": "overlay",
              "size": 10,
              "solidity": 0.2
             }
            },
            "type": "barpolar"
           }
          ],
          "carpet": [
           {
            "aaxis": {
             "endlinecolor": "#2a3f5f",
             "gridcolor": "#C8D4E3",
             "linecolor": "#C8D4E3",
             "minorgridcolor": "#C8D4E3",
             "startlinecolor": "#2a3f5f"
            },
            "baxis": {
             "endlinecolor": "#2a3f5f",
             "gridcolor": "#C8D4E3",
             "linecolor": "#C8D4E3",
             "minorgridcolor": "#C8D4E3",
             "startlinecolor": "#2a3f5f"
            },
            "type": "carpet"
           }
          ],
          "choropleth": [
           {
            "colorbar": {
             "outlinewidth": 0,
             "ticks": ""
            },
            "type": "choropleth"
           }
          ],
          "contour": [
           {
            "colorbar": {
             "outlinewidth": 0,
             "ticks": ""
            },
            "colorscale": [
             [
              0,
              "#0d0887"
             ],
             [
              0.1111111111111111,
              "#46039f"
             ],
             [
              0.2222222222222222,
              "#7201a8"
             ],
             [
              0.3333333333333333,
              "#9c179e"
             ],
             [
              0.4444444444444444,
              "#bd3786"
             ],
             [
              0.5555555555555556,
              "#d8576b"
             ],
             [
              0.6666666666666666,
              "#ed7953"
             ],
             [
              0.7777777777777778,
              "#fb9f3a"
             ],
             [
              0.8888888888888888,
              "#fdca26"
             ],
             [
              1,
              "#f0f921"
             ]
            ],
            "type": "contour"
           }
          ],
          "contourcarpet": [
           {
            "colorbar": {
             "outlinewidth": 0,
             "ticks": ""
            },
            "type": "contourcarpet"
           }
          ],
          "heatmap": [
           {
            "colorbar": {
             "outlinewidth": 0,
             "ticks": ""
            },
            "colorscale": [
             [
              0,
              "#0d0887"
             ],
             [
              0.1111111111111111,
              "#46039f"
             ],
             [
              0.2222222222222222,
              "#7201a8"
             ],
             [
              0.3333333333333333,
              "#9c179e"
             ],
             [
              0.4444444444444444,
              "#bd3786"
             ],
             [
              0.5555555555555556,
              "#d8576b"
             ],
             [
              0.6666666666666666,
              "#ed7953"
             ],
             [
              0.7777777777777778,
              "#fb9f3a"
             ],
             [
              0.8888888888888888,
              "#fdca26"
             ],
             [
              1,
              "#f0f921"
             ]
            ],
            "type": "heatmap"
           }
          ],
          "heatmapgl": [
           {
            "colorbar": {
             "outlinewidth": 0,
             "ticks": ""
            },
            "colorscale": [
             [
              0,
              "#0d0887"
             ],
             [
              0.1111111111111111,
              "#46039f"
             ],
             [
              0.2222222222222222,
              "#7201a8"
             ],
             [
              0.3333333333333333,
              "#9c179e"
             ],
             [
              0.4444444444444444,
              "#bd3786"
             ],
             [
              0.5555555555555556,
              "#d8576b"
             ],
             [
              0.6666666666666666,
              "#ed7953"
             ],
             [
              0.7777777777777778,
              "#fb9f3a"
             ],
             [
              0.8888888888888888,
              "#fdca26"
             ],
             [
              1,
              "#f0f921"
             ]
            ],
            "type": "heatmapgl"
           }
          ],
          "histogram": [
           {
            "marker": {
             "pattern": {
              "fillmode": "overlay",
              "size": 10,
              "solidity": 0.2
             }
            },
            "type": "histogram"
           }
          ],
          "histogram2d": [
           {
            "colorbar": {
             "outlinewidth": 0,
             "ticks": ""
            },
            "colorscale": [
             [
              0,
              "#0d0887"
             ],
             [
              0.1111111111111111,
              "#46039f"
             ],
             [
              0.2222222222222222,
              "#7201a8"
             ],
             [
              0.3333333333333333,
              "#9c179e"
             ],
             [
              0.4444444444444444,
              "#bd3786"
             ],
             [
              0.5555555555555556,
              "#d8576b"
             ],
             [
              0.6666666666666666,
              "#ed7953"
             ],
             [
              0.7777777777777778,
              "#fb9f3a"
             ],
             [
              0.8888888888888888,
              "#fdca26"
             ],
             [
              1,
              "#f0f921"
             ]
            ],
            "type": "histogram2d"
           }
          ],
          "histogram2dcontour": [
           {
            "colorbar": {
             "outlinewidth": 0,
             "ticks": ""
            },
            "colorscale": [
             [
              0,
              "#0d0887"
             ],
             [
              0.1111111111111111,
              "#46039f"
             ],
             [
              0.2222222222222222,
              "#7201a8"
             ],
             [
              0.3333333333333333,
              "#9c179e"
             ],
             [
              0.4444444444444444,
              "#bd3786"
             ],
             [
              0.5555555555555556,
              "#d8576b"
             ],
             [
              0.6666666666666666,
              "#ed7953"
             ],
             [
              0.7777777777777778,
              "#fb9f3a"
             ],
             [
              0.8888888888888888,
              "#fdca26"
             ],
             [
              1,
              "#f0f921"
             ]
            ],
            "type": "histogram2dcontour"
           }
          ],
          "mesh3d": [
           {
            "colorbar": {
             "outlinewidth": 0,
             "ticks": ""
            },
            "type": "mesh3d"
           }
          ],
          "parcoords": [
           {
            "line": {
             "colorbar": {
              "outlinewidth": 0,
              "ticks": ""
             }
            },
            "type": "parcoords"
           }
          ],
          "pie": [
           {
            "automargin": true,
            "type": "pie"
           }
          ],
          "scatter": [
           {
            "fillpattern": {
             "fillmode": "overlay",
             "size": 10,
             "solidity": 0.2
            },
            "type": "scatter"
           }
          ],
          "scatter3d": [
           {
            "line": {
             "colorbar": {
              "outlinewidth": 0,
              "ticks": ""
             }
            },
            "marker": {
             "colorbar": {
              "outlinewidth": 0,
              "ticks": ""
             }
            },
            "type": "scatter3d"
           }
          ],
          "scattercarpet": [
           {
            "marker": {
             "colorbar": {
              "outlinewidth": 0,
              "ticks": ""
             }
            },
            "type": "scattercarpet"
           }
          ],
          "scattergeo": [
           {
            "marker": {
             "colorbar": {
              "outlinewidth": 0,
              "ticks": ""
             }
            },
            "type": "scattergeo"
           }
          ],
          "scattergl": [
           {
            "marker": {
             "colorbar": {
              "outlinewidth": 0,
              "ticks": ""
             }
            },
            "type": "scattergl"
           }
          ],
          "scattermapbox": [
           {
            "marker": {
             "colorbar": {
              "outlinewidth": 0,
              "ticks": ""
             }
            },
            "type": "scattermapbox"
           }
          ],
          "scatterpolar": [
           {
            "marker": {
             "colorbar": {
              "outlinewidth": 0,
              "ticks": ""
             }
            },
            "type": "scatterpolar"
           }
          ],
          "scatterpolargl": [
           {
            "marker": {
             "colorbar": {
              "outlinewidth": 0,
              "ticks": ""
             }
            },
            "type": "scatterpolargl"
           }
          ],
          "scatterternary": [
           {
            "marker": {
             "colorbar": {
              "outlinewidth": 0,
              "ticks": ""
             }
            },
            "type": "scatterternary"
           }
          ],
          "surface": [
           {
            "colorbar": {
             "outlinewidth": 0,
             "ticks": ""
            },
            "colorscale": [
             [
              0,
              "#0d0887"
             ],
             [
              0.1111111111111111,
              "#46039f"
             ],
             [
              0.2222222222222222,
              "#7201a8"
             ],
             [
              0.3333333333333333,
              "#9c179e"
             ],
             [
              0.4444444444444444,
              "#bd3786"
             ],
             [
              0.5555555555555556,
              "#d8576b"
             ],
             [
              0.6666666666666666,
              "#ed7953"
             ],
             [
              0.7777777777777778,
              "#fb9f3a"
             ],
             [
              0.8888888888888888,
              "#fdca26"
             ],
             [
              1,
              "#f0f921"
             ]
            ],
            "type": "surface"
           }
          ],
          "table": [
           {
            "cells": {
             "fill": {
              "color": "#EBF0F8"
             },
             "line": {
              "color": "white"
             }
            },
            "header": {
             "fill": {
              "color": "#C8D4E3"
             },
             "line": {
              "color": "white"
             }
            },
            "type": "table"
           }
          ]
         },
         "layout": {
          "annotationdefaults": {
           "arrowcolor": "#2a3f5f",
           "arrowhead": 0,
           "arrowwidth": 1
          },
          "autotypenumbers": "strict",
          "coloraxis": {
           "colorbar": {
            "outlinewidth": 0,
            "ticks": ""
           }
          },
          "colorscale": {
           "diverging": [
            [
             0,
             "#8e0152"
            ],
            [
             0.1,
             "#c51b7d"
            ],
            [
             0.2,
             "#de77ae"
            ],
            [
             0.3,
             "#f1b6da"
            ],
            [
             0.4,
             "#fde0ef"
            ],
            [
             0.5,
             "#f7f7f7"
            ],
            [
             0.6,
             "#e6f5d0"
            ],
            [
             0.7,
             "#b8e186"
            ],
            [
             0.8,
             "#7fbc41"
            ],
            [
             0.9,
             "#4d9221"
            ],
            [
             1,
             "#276419"
            ]
           ],
           "sequential": [
            [
             0,
             "#0d0887"
            ],
            [
             0.1111111111111111,
             "#46039f"
            ],
            [
             0.2222222222222222,
             "#7201a8"
            ],
            [
             0.3333333333333333,
             "#9c179e"
            ],
            [
             0.4444444444444444,
             "#bd3786"
            ],
            [
             0.5555555555555556,
             "#d8576b"
            ],
            [
             0.6666666666666666,
             "#ed7953"
            ],
            [
             0.7777777777777778,
             "#fb9f3a"
            ],
            [
             0.8888888888888888,
             "#fdca26"
            ],
            [
             1,
             "#f0f921"
            ]
           ],
           "sequentialminus": [
            [
             0,
             "#0d0887"
            ],
            [
             0.1111111111111111,
             "#46039f"
            ],
            [
             0.2222222222222222,
             "#7201a8"
            ],
            [
             0.3333333333333333,
             "#9c179e"
            ],
            [
             0.4444444444444444,
             "#bd3786"
            ],
            [
             0.5555555555555556,
             "#d8576b"
            ],
            [
             0.6666666666666666,
             "#ed7953"
            ],
            [
             0.7777777777777778,
             "#fb9f3a"
            ],
            [
             0.8888888888888888,
             "#fdca26"
            ],
            [
             1,
             "#f0f921"
            ]
           ]
          },
          "colorway": [
           "#636efa",
           "#EF553B",
           "#00cc96",
           "#ab63fa",
           "#FFA15A",
           "#19d3f3",
           "#FF6692",
           "#B6E880",
           "#FF97FF",
           "#FECB52"
          ],
          "font": {
           "color": "#2a3f5f"
          },
          "geo": {
           "bgcolor": "white",
           "lakecolor": "white",
           "landcolor": "white",
           "showlakes": true,
           "showland": true,
           "subunitcolor": "#C8D4E3"
          },
          "hoverlabel": {
           "align": "left"
          },
          "hovermode": "closest",
          "mapbox": {
           "style": "light"
          },
          "paper_bgcolor": "white",
          "plot_bgcolor": "white",
          "polar": {
           "angularaxis": {
            "gridcolor": "#EBF0F8",
            "linecolor": "#EBF0F8",
            "ticks": ""
           },
           "bgcolor": "white",
           "radialaxis": {
            "gridcolor": "#EBF0F8",
            "linecolor": "#EBF0F8",
            "ticks": ""
           }
          },
          "scene": {
           "xaxis": {
            "backgroundcolor": "white",
            "gridcolor": "#DFE8F3",
            "gridwidth": 2,
            "linecolor": "#EBF0F8",
            "showbackground": true,
            "ticks": "",
            "zerolinecolor": "#EBF0F8"
           },
           "yaxis": {
            "backgroundcolor": "white",
            "gridcolor": "#DFE8F3",
            "gridwidth": 2,
            "linecolor": "#EBF0F8",
            "showbackground": true,
            "ticks": "",
            "zerolinecolor": "#EBF0F8"
           },
           "zaxis": {
            "backgroundcolor": "white",
            "gridcolor": "#DFE8F3",
            "gridwidth": 2,
            "linecolor": "#EBF0F8",
            "showbackground": true,
            "ticks": "",
            "zerolinecolor": "#EBF0F8"
           }
          },
          "shapedefaults": {
           "line": {
            "color": "#2a3f5f"
           }
          },
          "ternary": {
           "aaxis": {
            "gridcolor": "#DFE8F3",
            "linecolor": "#A2B1C6",
            "ticks": ""
           },
           "baxis": {
            "gridcolor": "#DFE8F3",
            "linecolor": "#A2B1C6",
            "ticks": ""
           },
           "bgcolor": "white",
           "caxis": {
            "gridcolor": "#DFE8F3",
            "linecolor": "#A2B1C6",
            "ticks": ""
           }
          },
          "title": {
           "x": 0.05
          },
          "xaxis": {
           "automargin": true,
           "gridcolor": "#EBF0F8",
           "linecolor": "#EBF0F8",
           "ticks": "",
           "title": {
            "standoff": 15
           },
           "zerolinecolor": "#EBF0F8",
           "zerolinewidth": 2
          },
          "yaxis": {
           "automargin": true,
           "gridcolor": "#EBF0F8",
           "linecolor": "#EBF0F8",
           "ticks": "",
           "title": {
            "standoff": 15
           },
           "zerolinecolor": "#EBF0F8",
           "zerolinewidth": 2
          }
         }
        },
        "title": {
         "font": {
          "color": "Black",
          "size": 22
         },
         "text": "Topic Word Scores",
         "x": 0.5,
         "xanchor": "center",
         "yanchor": "top"
        },
        "width": 2048,
        "xaxis": {
         "anchor": "y",
         "domain": [
          0,
          0.175
         ],
         "showgrid": true
        },
        "xaxis2": {
         "anchor": "y2",
         "domain": [
          0.275,
          0.45
         ],
         "showgrid": true
        },
        "xaxis3": {
         "anchor": "y3",
         "domain": [
          0.55,
          0.7250000000000001
         ],
         "showgrid": true
        },
        "xaxis4": {
         "anchor": "y4",
         "domain": [
          0.825,
          1
         ],
         "showgrid": true
        },
        "yaxis": {
         "anchor": "x",
         "domain": [
          0,
          1
         ],
         "showgrid": true
        },
        "yaxis2": {
         "anchor": "x2",
         "domain": [
          0,
          1
         ],
         "showgrid": true
        },
        "yaxis3": {
         "anchor": "x3",
         "domain": [
          0,
          1
         ],
         "showgrid": true
        },
        "yaxis4": {
         "anchor": "x4",
         "domain": [
          0,
          1
         ],
         "showgrid": true
        }
       }
      }
     },
     "metadata": {},
     "output_type": "display_data"
    }
   ],
   "source": [
    "topic_model.visualize_barchart(topics=[4, 5, 6, 7], top_n_topics=12, width=512, height=512)"
   ]
  },
  {
   "cell_type": "code",
   "execution_count": 60,
   "metadata": {},
   "outputs": [
    {
     "data": {
      "application/vnd.plotly.v1+json": {
       "config": {
        "plotlyServerURL": "https://plot.ly"
       },
       "data": [
        {
         "customdata": [
          [
           0,
           "grand maester mellos | commander city watch | iron throne corlys | behind scene video | rhaenyra three son",
           218
          ],
          [
           1,
           "velaryon sea snake | gedmund great axe | the sea snake | voyage sea snake | rock lady johanna",
           141
          ],
          [
           2,
           "lord samwell blackwood | red robb rivers | ser amos bracken | three hundred men | bloody ben blackwood",
           90
          ],
          [
           3,
           "st michael mount | behind scene video | filming location episode | altered deleted scene | location episode included",
           60
          ],
          [
           4,
           "confrontation lucerys aemond | princess rhaenyra son | prince aemond said | however queen alicent | lost eye gained",
           57
          ],
          [
           5,
           "grand maester munkun | king aegon iii | ser marston waters | said your grace | king aegon said",
           54
          ],
          [
           6,
           "king landing mushroom | grand maester munkun | people king landing | the testimony mushroom | mushroom would believe",
           54
          ],
          [
           7,
           "dragon never ridden | vhagar oldest largest | mount old king | rider queen helaena | dreamfyre rider queen",
           51
          ],
          [
           8,
           "iron bank braavos | lady larra brother | collapse rogare bank | ser tyland lannister | treasurer master coin",
           51
          ],
          [
           9,
           "lord storm end | daughter cassandra ellyn | lord rogar seemed | daughter queen alyssa | lord borros said",
           46
          ],
          [
           10,
           "wing torn body | tore one another | blast golden flame | the blood wyrm | great golden wyrm",
           43
          ]
         ],
         "hovertemplate": "<b>Topic %{customdata[0]}</b><br>%{customdata[1]}<br>Size: %{customdata[2]}",
         "legendgroup": "",
         "marker": {
          "color": "#B0BEC5",
          "line": {
           "color": "DarkSlateGrey",
           "width": 2
          },
          "size": [
           218,
           141,
           90,
           60,
           57,
           54,
           54,
           51,
           51,
           46,
           43
          ],
          "sizemode": "area",
          "sizeref": 0.13625,
          "symbol": "circle"
         },
         "mode": "markers",
         "name": "",
         "orientation": "v",
         "showlegend": false,
         "type": "scatter",
         "x": [
          11.362130165100098,
          3.7998156547546387,
          4.155966281890869,
          11.58237075805664,
          2.626595973968506,
          4.486593246459961,
          4.239518642425537,
          4.3343071937561035,
          4.841767311096191,
          3.0672662258148193,
          4.321508884429932
         ],
         "xaxis": "x",
         "y": [
          -4.590082168579102,
          17.46544075012207,
          17.112329483032227,
          -4.810322284698486,
          16.583024978637695,
          0.8759557008743286,
          0.6276424527168274,
          18.07635498046875,
          1.2288776636123657,
          16.713119506835938,
          18.545146942138672
         ],
         "yaxis": "y"
        }
       ],
       "layout": {
        "annotations": [
         {
          "showarrow": false,
          "text": "D1",
          "x": 2.23260657787323,
          "y": 7.897524178028106,
          "yshift": 10
         },
         {
          "showarrow": false,
          "text": "D2",
          "x": 7.776166474819183,
          "xshift": 10,
          "y": 21.32691898345947
         }
        ],
        "height": 1080,
        "hoverlabel": {
         "bgcolor": "white",
         "font": {
          "family": "Rockwell",
          "size": 16
         }
        },
        "legend": {
         "itemsizing": "constant",
         "tracegroupgap": 0
        },
        "margin": {
         "t": 60
        },
        "shapes": [
         {
          "line": {
           "color": "#CFD8DC",
           "width": 2
          },
          "type": "line",
          "x0": 7.776166474819183,
          "x1": 7.776166474819183,
          "y0": -5.53187062740326,
          "y1": 21.32691898345947
         },
         {
          "line": {
           "color": "#9E9E9E",
           "width": 2
          },
          "type": "line",
          "x0": 2.23260657787323,
          "x1": 13.319726371765137,
          "y0": 7.897524178028106,
          "y1": 7.897524178028106
         }
        ],
        "sliders": [
         {
          "active": 0,
          "pad": {
           "t": 50
          },
          "steps": [
           {
            "args": [
             {
              "marker.color": [
               [
                "red",
                "#B0BEC5",
                "#B0BEC5",
                "#B0BEC5",
                "#B0BEC5",
                "#B0BEC5",
                "#B0BEC5",
                "#B0BEC5",
                "#B0BEC5",
                "#B0BEC5",
                "#B0BEC5"
               ]
              ]
             }
            ],
            "label": "Topic 0",
            "method": "update"
           },
           {
            "args": [
             {
              "marker.color": [
               [
                "#B0BEC5",
                "red",
                "#B0BEC5",
                "#B0BEC5",
                "#B0BEC5",
                "#B0BEC5",
                "#B0BEC5",
                "#B0BEC5",
                "#B0BEC5",
                "#B0BEC5",
                "#B0BEC5"
               ]
              ]
             }
            ],
            "label": "Topic 1",
            "method": "update"
           },
           {
            "args": [
             {
              "marker.color": [
               [
                "#B0BEC5",
                "#B0BEC5",
                "red",
                "#B0BEC5",
                "#B0BEC5",
                "#B0BEC5",
                "#B0BEC5",
                "#B0BEC5",
                "#B0BEC5",
                "#B0BEC5",
                "#B0BEC5"
               ]
              ]
             }
            ],
            "label": "Topic 2",
            "method": "update"
           },
           {
            "args": [
             {
              "marker.color": [
               [
                "#B0BEC5",
                "#B0BEC5",
                "#B0BEC5",
                "red",
                "#B0BEC5",
                "#B0BEC5",
                "#B0BEC5",
                "#B0BEC5",
                "#B0BEC5",
                "#B0BEC5",
                "#B0BEC5"
               ]
              ]
             }
            ],
            "label": "Topic 3",
            "method": "update"
           },
           {
            "args": [
             {
              "marker.color": [
               [
                "#B0BEC5",
                "#B0BEC5",
                "#B0BEC5",
                "#B0BEC5",
                "red",
                "#B0BEC5",
                "#B0BEC5",
                "#B0BEC5",
                "#B0BEC5",
                "#B0BEC5",
                "#B0BEC5"
               ]
              ]
             }
            ],
            "label": "Topic 4",
            "method": "update"
           },
           {
            "args": [
             {
              "marker.color": [
               [
                "#B0BEC5",
                "#B0BEC5",
                "#B0BEC5",
                "#B0BEC5",
                "#B0BEC5",
                "red",
                "#B0BEC5",
                "#B0BEC5",
                "#B0BEC5",
                "#B0BEC5",
                "#B0BEC5"
               ]
              ]
             }
            ],
            "label": "Topic 5",
            "method": "update"
           },
           {
            "args": [
             {
              "marker.color": [
               [
                "#B0BEC5",
                "#B0BEC5",
                "#B0BEC5",
                "#B0BEC5",
                "#B0BEC5",
                "#B0BEC5",
                "red",
                "#B0BEC5",
                "#B0BEC5",
                "#B0BEC5",
                "#B0BEC5"
               ]
              ]
             }
            ],
            "label": "Topic 6",
            "method": "update"
           },
           {
            "args": [
             {
              "marker.color": [
               [
                "#B0BEC5",
                "#B0BEC5",
                "#B0BEC5",
                "#B0BEC5",
                "#B0BEC5",
                "#B0BEC5",
                "#B0BEC5",
                "red",
                "#B0BEC5",
                "#B0BEC5",
                "#B0BEC5"
               ]
              ]
             }
            ],
            "label": "Topic 7",
            "method": "update"
           },
           {
            "args": [
             {
              "marker.color": [
               [
                "#B0BEC5",
                "#B0BEC5",
                "#B0BEC5",
                "#B0BEC5",
                "#B0BEC5",
                "#B0BEC5",
                "#B0BEC5",
                "#B0BEC5",
                "red",
                "#B0BEC5",
                "#B0BEC5"
               ]
              ]
             }
            ],
            "label": "Topic 8",
            "method": "update"
           },
           {
            "args": [
             {
              "marker.color": [
               [
                "#B0BEC5",
                "#B0BEC5",
                "#B0BEC5",
                "#B0BEC5",
                "#B0BEC5",
                "#B0BEC5",
                "#B0BEC5",
                "#B0BEC5",
                "#B0BEC5",
                "red",
                "#B0BEC5"
               ]
              ]
             }
            ],
            "label": "Topic 9",
            "method": "update"
           },
           {
            "args": [
             {
              "marker.color": [
               [
                "#B0BEC5",
                "#B0BEC5",
                "#B0BEC5",
                "#B0BEC5",
                "#B0BEC5",
                "#B0BEC5",
                "#B0BEC5",
                "#B0BEC5",
                "#B0BEC5",
                "#B0BEC5",
                "red"
               ]
              ]
             }
            ],
            "label": "Topic 10",
            "method": "update"
           }
          ]
         }
        ],
        "template": {
         "data": {
          "bar": [
           {
            "error_x": {
             "color": "rgb(36,36,36)"
            },
            "error_y": {
             "color": "rgb(36,36,36)"
            },
            "marker": {
             "line": {
              "color": "white",
              "width": 0.5
             },
             "pattern": {
              "fillmode": "overlay",
              "size": 10,
              "solidity": 0.2
             }
            },
            "type": "bar"
           }
          ],
          "barpolar": [
           {
            "marker": {
             "line": {
              "color": "white",
              "width": 0.5
             },
             "pattern": {
              "fillmode": "overlay",
              "size": 10,
              "solidity": 0.2
             }
            },
            "type": "barpolar"
           }
          ],
          "carpet": [
           {
            "aaxis": {
             "endlinecolor": "rgb(36,36,36)",
             "gridcolor": "white",
             "linecolor": "white",
             "minorgridcolor": "white",
             "startlinecolor": "rgb(36,36,36)"
            },
            "baxis": {
             "endlinecolor": "rgb(36,36,36)",
             "gridcolor": "white",
             "linecolor": "white",
             "minorgridcolor": "white",
             "startlinecolor": "rgb(36,36,36)"
            },
            "type": "carpet"
           }
          ],
          "choropleth": [
           {
            "colorbar": {
             "outlinewidth": 1,
             "tickcolor": "rgb(36,36,36)",
             "ticks": "outside"
            },
            "type": "choropleth"
           }
          ],
          "contour": [
           {
            "colorbar": {
             "outlinewidth": 1,
             "tickcolor": "rgb(36,36,36)",
             "ticks": "outside"
            },
            "colorscale": [
             [
              0,
              "#440154"
             ],
             [
              0.1111111111111111,
              "#482878"
             ],
             [
              0.2222222222222222,
              "#3e4989"
             ],
             [
              0.3333333333333333,
              "#31688e"
             ],
             [
              0.4444444444444444,
              "#26828e"
             ],
             [
              0.5555555555555556,
              "#1f9e89"
             ],
             [
              0.6666666666666666,
              "#35b779"
             ],
             [
              0.7777777777777778,
              "#6ece58"
             ],
             [
              0.8888888888888888,
              "#b5de2b"
             ],
             [
              1,
              "#fde725"
             ]
            ],
            "type": "contour"
           }
          ],
          "contourcarpet": [
           {
            "colorbar": {
             "outlinewidth": 1,
             "tickcolor": "rgb(36,36,36)",
             "ticks": "outside"
            },
            "type": "contourcarpet"
           }
          ],
          "heatmap": [
           {
            "colorbar": {
             "outlinewidth": 1,
             "tickcolor": "rgb(36,36,36)",
             "ticks": "outside"
            },
            "colorscale": [
             [
              0,
              "#440154"
             ],
             [
              0.1111111111111111,
              "#482878"
             ],
             [
              0.2222222222222222,
              "#3e4989"
             ],
             [
              0.3333333333333333,
              "#31688e"
             ],
             [
              0.4444444444444444,
              "#26828e"
             ],
             [
              0.5555555555555556,
              "#1f9e89"
             ],
             [
              0.6666666666666666,
              "#35b779"
             ],
             [
              0.7777777777777778,
              "#6ece58"
             ],
             [
              0.8888888888888888,
              "#b5de2b"
             ],
             [
              1,
              "#fde725"
             ]
            ],
            "type": "heatmap"
           }
          ],
          "heatmapgl": [
           {
            "colorbar": {
             "outlinewidth": 1,
             "tickcolor": "rgb(36,36,36)",
             "ticks": "outside"
            },
            "colorscale": [
             [
              0,
              "#440154"
             ],
             [
              0.1111111111111111,
              "#482878"
             ],
             [
              0.2222222222222222,
              "#3e4989"
             ],
             [
              0.3333333333333333,
              "#31688e"
             ],
             [
              0.4444444444444444,
              "#26828e"
             ],
             [
              0.5555555555555556,
              "#1f9e89"
             ],
             [
              0.6666666666666666,
              "#35b779"
             ],
             [
              0.7777777777777778,
              "#6ece58"
             ],
             [
              0.8888888888888888,
              "#b5de2b"
             ],
             [
              1,
              "#fde725"
             ]
            ],
            "type": "heatmapgl"
           }
          ],
          "histogram": [
           {
            "marker": {
             "line": {
              "color": "white",
              "width": 0.6
             }
            },
            "type": "histogram"
           }
          ],
          "histogram2d": [
           {
            "colorbar": {
             "outlinewidth": 1,
             "tickcolor": "rgb(36,36,36)",
             "ticks": "outside"
            },
            "colorscale": [
             [
              0,
              "#440154"
             ],
             [
              0.1111111111111111,
              "#482878"
             ],
             [
              0.2222222222222222,
              "#3e4989"
             ],
             [
              0.3333333333333333,
              "#31688e"
             ],
             [
              0.4444444444444444,
              "#26828e"
             ],
             [
              0.5555555555555556,
              "#1f9e89"
             ],
             [
              0.6666666666666666,
              "#35b779"
             ],
             [
              0.7777777777777778,
              "#6ece58"
             ],
             [
              0.8888888888888888,
              "#b5de2b"
             ],
             [
              1,
              "#fde725"
             ]
            ],
            "type": "histogram2d"
           }
          ],
          "histogram2dcontour": [
           {
            "colorbar": {
             "outlinewidth": 1,
             "tickcolor": "rgb(36,36,36)",
             "ticks": "outside"
            },
            "colorscale": [
             [
              0,
              "#440154"
             ],
             [
              0.1111111111111111,
              "#482878"
             ],
             [
              0.2222222222222222,
              "#3e4989"
             ],
             [
              0.3333333333333333,
              "#31688e"
             ],
             [
              0.4444444444444444,
              "#26828e"
             ],
             [
              0.5555555555555556,
              "#1f9e89"
             ],
             [
              0.6666666666666666,
              "#35b779"
             ],
             [
              0.7777777777777778,
              "#6ece58"
             ],
             [
              0.8888888888888888,
              "#b5de2b"
             ],
             [
              1,
              "#fde725"
             ]
            ],
            "type": "histogram2dcontour"
           }
          ],
          "mesh3d": [
           {
            "colorbar": {
             "outlinewidth": 1,
             "tickcolor": "rgb(36,36,36)",
             "ticks": "outside"
            },
            "type": "mesh3d"
           }
          ],
          "parcoords": [
           {
            "line": {
             "colorbar": {
              "outlinewidth": 1,
              "tickcolor": "rgb(36,36,36)",
              "ticks": "outside"
             }
            },
            "type": "parcoords"
           }
          ],
          "pie": [
           {
            "automargin": true,
            "type": "pie"
           }
          ],
          "scatter": [
           {
            "fillpattern": {
             "fillmode": "overlay",
             "size": 10,
             "solidity": 0.2
            },
            "type": "scatter"
           }
          ],
          "scatter3d": [
           {
            "line": {
             "colorbar": {
              "outlinewidth": 1,
              "tickcolor": "rgb(36,36,36)",
              "ticks": "outside"
             }
            },
            "marker": {
             "colorbar": {
              "outlinewidth": 1,
              "tickcolor": "rgb(36,36,36)",
              "ticks": "outside"
             }
            },
            "type": "scatter3d"
           }
          ],
          "scattercarpet": [
           {
            "marker": {
             "colorbar": {
              "outlinewidth": 1,
              "tickcolor": "rgb(36,36,36)",
              "ticks": "outside"
             }
            },
            "type": "scattercarpet"
           }
          ],
          "scattergeo": [
           {
            "marker": {
             "colorbar": {
              "outlinewidth": 1,
              "tickcolor": "rgb(36,36,36)",
              "ticks": "outside"
             }
            },
            "type": "scattergeo"
           }
          ],
          "scattergl": [
           {
            "marker": {
             "colorbar": {
              "outlinewidth": 1,
              "tickcolor": "rgb(36,36,36)",
              "ticks": "outside"
             }
            },
            "type": "scattergl"
           }
          ],
          "scattermapbox": [
           {
            "marker": {
             "colorbar": {
              "outlinewidth": 1,
              "tickcolor": "rgb(36,36,36)",
              "ticks": "outside"
             }
            },
            "type": "scattermapbox"
           }
          ],
          "scatterpolar": [
           {
            "marker": {
             "colorbar": {
              "outlinewidth": 1,
              "tickcolor": "rgb(36,36,36)",
              "ticks": "outside"
             }
            },
            "type": "scatterpolar"
           }
          ],
          "scatterpolargl": [
           {
            "marker": {
             "colorbar": {
              "outlinewidth": 1,
              "tickcolor": "rgb(36,36,36)",
              "ticks": "outside"
             }
            },
            "type": "scatterpolargl"
           }
          ],
          "scatterternary": [
           {
            "marker": {
             "colorbar": {
              "outlinewidth": 1,
              "tickcolor": "rgb(36,36,36)",
              "ticks": "outside"
             }
            },
            "type": "scatterternary"
           }
          ],
          "surface": [
           {
            "colorbar": {
             "outlinewidth": 1,
             "tickcolor": "rgb(36,36,36)",
             "ticks": "outside"
            },
            "colorscale": [
             [
              0,
              "#440154"
             ],
             [
              0.1111111111111111,
              "#482878"
             ],
             [
              0.2222222222222222,
              "#3e4989"
             ],
             [
              0.3333333333333333,
              "#31688e"
             ],
             [
              0.4444444444444444,
              "#26828e"
             ],
             [
              0.5555555555555556,
              "#1f9e89"
             ],
             [
              0.6666666666666666,
              "#35b779"
             ],
             [
              0.7777777777777778,
              "#6ece58"
             ],
             [
              0.8888888888888888,
              "#b5de2b"
             ],
             [
              1,
              "#fde725"
             ]
            ],
            "type": "surface"
           }
          ],
          "table": [
           {
            "cells": {
             "fill": {
              "color": "rgb(237,237,237)"
             },
             "line": {
              "color": "white"
             }
            },
            "header": {
             "fill": {
              "color": "rgb(217,217,217)"
             },
             "line": {
              "color": "white"
             }
            },
            "type": "table"
           }
          ]
         },
         "layout": {
          "annotationdefaults": {
           "arrowhead": 0,
           "arrowwidth": 1
          },
          "autotypenumbers": "strict",
          "coloraxis": {
           "colorbar": {
            "outlinewidth": 1,
            "tickcolor": "rgb(36,36,36)",
            "ticks": "outside"
           }
          },
          "colorscale": {
           "diverging": [
            [
             0,
             "rgb(103,0,31)"
            ],
            [
             0.1,
             "rgb(178,24,43)"
            ],
            [
             0.2,
             "rgb(214,96,77)"
            ],
            [
             0.3,
             "rgb(244,165,130)"
            ],
            [
             0.4,
             "rgb(253,219,199)"
            ],
            [
             0.5,
             "rgb(247,247,247)"
            ],
            [
             0.6,
             "rgb(209,229,240)"
            ],
            [
             0.7,
             "rgb(146,197,222)"
            ],
            [
             0.8,
             "rgb(67,147,195)"
            ],
            [
             0.9,
             "rgb(33,102,172)"
            ],
            [
             1,
             "rgb(5,48,97)"
            ]
           ],
           "sequential": [
            [
             0,
             "#440154"
            ],
            [
             0.1111111111111111,
             "#482878"
            ],
            [
             0.2222222222222222,
             "#3e4989"
            ],
            [
             0.3333333333333333,
             "#31688e"
            ],
            [
             0.4444444444444444,
             "#26828e"
            ],
            [
             0.5555555555555556,
             "#1f9e89"
            ],
            [
             0.6666666666666666,
             "#35b779"
            ],
            [
             0.7777777777777778,
             "#6ece58"
            ],
            [
             0.8888888888888888,
             "#b5de2b"
            ],
            [
             1,
             "#fde725"
            ]
           ],
           "sequentialminus": [
            [
             0,
             "#440154"
            ],
            [
             0.1111111111111111,
             "#482878"
            ],
            [
             0.2222222222222222,
             "#3e4989"
            ],
            [
             0.3333333333333333,
             "#31688e"
            ],
            [
             0.4444444444444444,
             "#26828e"
            ],
            [
             0.5555555555555556,
             "#1f9e89"
            ],
            [
             0.6666666666666666,
             "#35b779"
            ],
            [
             0.7777777777777778,
             "#6ece58"
            ],
            [
             0.8888888888888888,
             "#b5de2b"
            ],
            [
             1,
             "#fde725"
            ]
           ]
          },
          "colorway": [
           "#1F77B4",
           "#FF7F0E",
           "#2CA02C",
           "#D62728",
           "#9467BD",
           "#8C564B",
           "#E377C2",
           "#7F7F7F",
           "#BCBD22",
           "#17BECF"
          ],
          "font": {
           "color": "rgb(36,36,36)"
          },
          "geo": {
           "bgcolor": "white",
           "lakecolor": "white",
           "landcolor": "white",
           "showlakes": true,
           "showland": true,
           "subunitcolor": "white"
          },
          "hoverlabel": {
           "align": "left"
          },
          "hovermode": "closest",
          "mapbox": {
           "style": "light"
          },
          "paper_bgcolor": "white",
          "plot_bgcolor": "white",
          "polar": {
           "angularaxis": {
            "gridcolor": "rgb(232,232,232)",
            "linecolor": "rgb(36,36,36)",
            "showgrid": false,
            "showline": true,
            "ticks": "outside"
           },
           "bgcolor": "white",
           "radialaxis": {
            "gridcolor": "rgb(232,232,232)",
            "linecolor": "rgb(36,36,36)",
            "showgrid": false,
            "showline": true,
            "ticks": "outside"
           }
          },
          "scene": {
           "xaxis": {
            "backgroundcolor": "white",
            "gridcolor": "rgb(232,232,232)",
            "gridwidth": 2,
            "linecolor": "rgb(36,36,36)",
            "showbackground": true,
            "showgrid": false,
            "showline": true,
            "ticks": "outside",
            "zeroline": false,
            "zerolinecolor": "rgb(36,36,36)"
           },
           "yaxis": {
            "backgroundcolor": "white",
            "gridcolor": "rgb(232,232,232)",
            "gridwidth": 2,
            "linecolor": "rgb(36,36,36)",
            "showbackground": true,
            "showgrid": false,
            "showline": true,
            "ticks": "outside",
            "zeroline": false,
            "zerolinecolor": "rgb(36,36,36)"
           },
           "zaxis": {
            "backgroundcolor": "white",
            "gridcolor": "rgb(232,232,232)",
            "gridwidth": 2,
            "linecolor": "rgb(36,36,36)",
            "showbackground": true,
            "showgrid": false,
            "showline": true,
            "ticks": "outside",
            "zeroline": false,
            "zerolinecolor": "rgb(36,36,36)"
           }
          },
          "shapedefaults": {
           "fillcolor": "black",
           "line": {
            "width": 0
           },
           "opacity": 0.3
          },
          "ternary": {
           "aaxis": {
            "gridcolor": "rgb(232,232,232)",
            "linecolor": "rgb(36,36,36)",
            "showgrid": false,
            "showline": true,
            "ticks": "outside"
           },
           "baxis": {
            "gridcolor": "rgb(232,232,232)",
            "linecolor": "rgb(36,36,36)",
            "showgrid": false,
            "showline": true,
            "ticks": "outside"
           },
           "bgcolor": "white",
           "caxis": {
            "gridcolor": "rgb(232,232,232)",
            "linecolor": "rgb(36,36,36)",
            "showgrid": false,
            "showline": true,
            "ticks": "outside"
           }
          },
          "title": {
           "x": 0.05
          },
          "xaxis": {
           "automargin": true,
           "gridcolor": "rgb(232,232,232)",
           "linecolor": "rgb(36,36,36)",
           "showgrid": false,
           "showline": true,
           "ticks": "outside",
           "title": {
            "standoff": 15
           },
           "zeroline": false,
           "zerolinecolor": "rgb(36,36,36)"
          },
          "yaxis": {
           "automargin": true,
           "gridcolor": "rgb(232,232,232)",
           "linecolor": "rgb(36,36,36)",
           "showgrid": false,
           "showline": true,
           "ticks": "outside",
           "title": {
            "standoff": 15
           },
           "zeroline": false,
           "zerolinecolor": "rgb(36,36,36)"
          }
         }
        },
        "title": {
         "font": {
          "color": "Black",
          "size": 22
         },
         "text": "<b>Intertopic Distance Map</b>",
         "x": 0.5,
         "xanchor": "center",
         "y": 0.95,
         "yanchor": "top"
        },
        "width": 1080,
        "xaxis": {
         "anchor": "y",
         "domain": [
          0,
          1
         ],
         "range": [
          2.23260657787323,
          13.319726371765137
         ],
         "title": {
          "text": ""
         },
         "visible": false
        },
        "yaxis": {
         "anchor": "x",
         "domain": [
          0,
          1
         ],
         "range": [
          -5.53187062740326,
          21.32691898345947
         ],
         "title": {
          "text": ""
         },
         "visible": false
        }
       }
      }
     },
     "metadata": {},
     "output_type": "display_data"
    }
   ],
   "source": [
    "topic_model.visualize_topics(topics=[0, 1, 2, 3, 4, 5, 6, 7, 8, 9, 10], width=1080, height=1080)"
   ]
  },
  {
   "cell_type": "code",
   "execution_count": null,
   "metadata": {},
   "outputs": [],
   "source": []
  },
  {
   "cell_type": "code",
   "execution_count": 32,
   "metadata": {},
   "outputs": [
    {
     "name": "stderr",
     "output_type": "stream",
     "text": [
      "100%|██████████| 51/51 [00:00<00:00, 85.29it/s]\n"
     ]
    },
    {
     "data": {
      "application/vnd.plotly.v1+json": {
       "config": {
        "plotlyServerURL": "https://plot.ly"
       },
       "data": [
        {
         "hoverinfo": "text",
         "marker": {
          "color": "rgb(0,116,217)"
         },
         "mode": "lines",
         "text": [
          "starring cast member_credited appear episode_cooke alicent hightower_olivia cooke alicent_matthew needham larys",
          "",
          "",
          "member appear episode_cast member appear_starring cast member_14 starring cast_appear episode 10"
         ],
         "type": "scatter",
         "x": [
          0,
          1.3100761437794677,
          1.3100761437794677,
          0
         ],
         "xaxis": "x",
         "y": [
          -5,
          -5,
          -15,
          -15
         ],
         "yaxis": "y"
        },
        {
         "hoverinfo": "text",
         "marker": {
          "color": "rgb(0,116,217)"
         },
         "mode": "lines",
         "text": [
          "wiki ice fire_the lord tides_king narrow sea_main article the_tv wiki ice",
          "",
          "",
          "this episode adapted_episode adapted chapter_dragon question succession_heirs dragon question_succession fire blood"
         ],
         "type": "scatter",
         "x": [
          0,
          1.3394329755653103,
          1.3394329755653103,
          0
         ],
         "xaxis": "x",
         "y": [
          -35,
          -35,
          -45,
          -45
         ],
         "yaxis": "y"
        },
        {
         "hoverinfo": "text",
         "marker": {
          "color": "rgb(0,116,217)"
         },
         "mode": "lines",
         "text": [
          "2022 hbo hbo_series overall it_season house dragon_episode first season_episode series overall",
          "",
          "",
          "episode adapted chapter_this episode adapted_wiki ice fire_dragon question succession_heirs dragon question"
         ],
         "type": "scatter",
         "x": [
          0,
          1.3860933474850765,
          1.3860933474850765,
          1.3394329755653103
         ],
         "xaxis": "x",
         "y": [
          -25,
          -25,
          -40,
          -40
         ],
         "yaxis": "y"
        },
        {
         "hoverinfo": "text",
         "marker": {
          "color": "rgb(0,116,217)"
         },
         "mode": "lines",
         "text": [
          "premiere held august_held august 16_held august 17_11 amsterdam 30_martin santa fe",
          "",
          "",
          "george rr martin_companion book game_inside creation targaryen_prologue companion book_game thrones house"
         ],
         "type": "scatter",
         "x": [
          0,
          1.4001039245240652,
          1.4001039245240652,
          0
         ],
         "xaxis": "x",
         "y": [
          -55,
          -55,
          -65,
          -65
         ],
         "yaxis": "y"
        },
        {
         "hoverinfo": "text",
         "marker": {
          "color": "rgb(0,116,217)"
         },
         "mode": "lines",
         "text": [
          "premiere held august_held august 16_george rr martin_held august 17_house dragon inside",
          "",
          "",
          "song ice fire_prince that was_that was promised_was promised song_promised song ice"
         ],
         "type": "scatter",
         "x": [
          1.4001039245240652,
          1.4099041864741624,
          1.4099041864741624,
          0
         ],
         "xaxis": "x",
         "y": [
          -60,
          -60,
          -75,
          -75
         ],
         "yaxis": "y"
        },
        {
         "hoverinfo": "text",
         "marker": {
          "color": "rgb(0,116,217)"
         },
         "mode": "lines",
         "text": [
          "grand maester mellos_commander city watch_iron throne corlys_behind scene video_rhaenyra three son",
          "",
          "",
          "st michael mount_behind scene video_filming location episode_altered deleted scene_location episode included"
         ],
         "type": "scatter",
         "x": [
          0,
          1.404597776923536,
          1.404597776923536,
          0
         ],
         "xaxis": "x",
         "y": [
          -95,
          -95,
          -105,
          -105
         ],
         "yaxis": "y"
        },
        {
         "hoverinfo": "text",
         "marker": {
          "color": "rgb(0,116,217)"
         },
         "mode": "lines",
         "text": [
          "red keep godswood_conquest era targaryens_costume designer jany_designer jany temime_norvos qohor lys",
          "",
          "",
          "behind scene video_grand maester mellos_st michael mount_altered deleted scene_filming location episode"
         ],
         "type": "scatter",
         "x": [
          0,
          1.4121744294869198,
          1.4121744294869198,
          1.404597776923536
         ],
         "xaxis": "x",
         "y": [
          -85,
          -85,
          -100,
          -100
         ],
         "yaxis": "y"
        },
        {
         "hoverinfo": "text",
         "marker": {
          "color": "rgb(0,116,217)"
         },
         "mode": "lines",
         "text": [
          "dance dragons began_it war marked_one hundred eighty_planted 120 ac_ruined castle lakeshore",
          "",
          "",
          "year aegon conquest_131st year aegon_moon 131st year_seventh moon 131st_seventh day seventh"
         ],
         "type": "scatter",
         "x": [
          0,
          1.4044172762584473,
          1.4044172762584473,
          0
         ],
         "xaxis": "x",
         "y": [
          -115,
          -115,
          -125,
          -125
         ],
         "yaxis": "y"
        },
        {
         "hoverinfo": "text",
         "marker": {
          "color": "rgb(0,116,217)"
         },
         "mode": "lines",
         "text": [
          "behind scene video_red keep godswood_grand maester mellos_st michael mount_filming location episode",
          "",
          "",
          "year aegon conquest_dance dragons began_131st year aegon_two rival branch_seventh moon 131st"
         ],
         "type": "scatter",
         "x": [
          1.4121744294869198,
          1.4183946486328836,
          1.4183946486328836,
          1.4044172762584473
         ],
         "xaxis": "x",
         "y": [
          -92.5,
          -92.5,
          -120,
          -120
         ],
         "yaxis": "y"
        },
        {
         "hoverinfo": "text",
         "marker": {
          "color": "rgb(0,116,217)"
         },
         "mode": "lines",
         "text": [
          "in king landing_landing in king_night king landing_king landing in_other cold open",
          "",
          "",
          "17 year old_year viserys reign_queen aemma died_16 year old_year old first"
         ],
         "type": "scatter",
         "x": [
          0,
          1.4072031403528489,
          1.4072031403528489,
          0
         ],
         "xaxis": "x",
         "y": [
          -145,
          -145,
          -155,
          -155
         ],
         "yaxis": "y"
        },
        {
         "hoverinfo": "text",
         "marker": {
          "color": "rgb(0,116,217)"
         },
         "mode": "lines",
         "text": [
          "confrontation lucerys aemond_princess rhaenyra son_prince aemond said_however queen alicent_lost eye gained",
          "",
          "",
          "17 year old_year viserys reign_queen aemma died_16 year old_year old first"
         ],
         "type": "scatter",
         "x": [
          0,
          1.4114453873241894,
          1.4114453873241894,
          1.4072031403528489
         ],
         "xaxis": "x",
         "y": [
          -135,
          -135,
          -150,
          -150
         ],
         "yaxis": "y"
        },
        {
         "hoverinfo": "text",
         "marker": {
          "color": "rgb(0,116,217)"
         },
         "mode": "lines",
         "text": [
          "behind scene video_red keep godswood_grand maester mellos_st michael mount_location episode included",
          "",
          "",
          "17 year old_in king landing_queen aemma died_year viserys reign_16 year old"
         ],
         "type": "scatter",
         "x": [
          1.4183946486328836,
          1.4207832404275749,
          1.4207832404275749,
          1.4114453873241894
         ],
         "xaxis": "x",
         "y": [
          -106.25,
          -106.25,
          -142.5,
          -142.5
         ],
         "yaxis": "y"
        },
        {
         "hoverinfo": "text",
         "marker": {
          "color": "rgb(0,116,217)"
         },
         "mode": "lines",
         "text": [
          "song ice fire_premiere held august_that was promised_prince that was_promised song ice",
          "",
          "",
          "behind scene video_grand maester mellos_queen aemma died_red keep godswood_st michael mount"
         ],
         "type": "scatter",
         "x": [
          1.4099041864741624,
          1.4264745243951795,
          1.4264745243951795,
          1.4207832404275749
         ],
         "xaxis": "x",
         "y": [
          -67.5,
          -67.5,
          -124.375,
          -124.375
         ],
         "yaxis": "y"
        },
        {
         "hoverinfo": "text",
         "marker": {
          "color": "rgb(0,116,217)"
         },
         "mode": "lines",
         "text": [
          "lord samwell blackwood_red robb rivers_ser amos bracken_three hundred men_bloody ben blackwood",
          "",
          "",
          "lord storm end_daughter cassandra ellyn_lord rogar seemed_daughter queen alyssa_lord borros said"
         ],
         "type": "scatter",
         "x": [
          0,
          1.4034992115153109,
          1.4034992115153109,
          0
         ],
         "xaxis": "x",
         "y": [
          -165,
          -165,
          -175,
          -175
         ],
         "yaxis": "y"
        },
        {
         "hoverinfo": "text",
         "marker": {
          "color": "rgb(0,116,217)"
         },
         "mode": "lines",
         "text": [
          "lord storm end_lord samwell blackwood_red robb rivers_king aegon ii_three hundred men",
          "",
          "",
          "lord rogar war_third dornish war_fourth dornish war_first dornish war_reign hesitated crush"
         ],
         "type": "scatter",
         "x": [
          1.4034992115153109,
          1.4111489837494173,
          1.4111489837494173,
          0
         ],
         "xaxis": "x",
         "y": [
          -170,
          -170,
          -185,
          -185
         ],
         "yaxis": "y"
        },
        {
         "hoverinfo": "text",
         "marker": {
          "color": "rgb(0,116,217)"
         },
         "mode": "lines",
         "text": [
          "pate pig boy_67 ac three_reduce tear once_queen alysanne lord_princess at fifteen",
          "",
          "",
          "son named viserys_lord ruled dragonstone_targaryen lord ruled_ruled dragonstone conquest_stepmother queen alicent"
         ],
         "type": "scatter",
         "x": [
          0,
          1.414246185702345,
          1.414246185702345,
          0
         ],
         "xaxis": "x",
         "y": [
          -195,
          -195,
          -205,
          -205
         ],
         "yaxis": "y"
        },
        {
         "hoverinfo": "text",
         "marker": {
          "color": "rgb(0,116,217)"
         },
         "mode": "lines",
         "text": [
          "august 21 2022_august 22 2022_2022 la times_times august 21_la times august",
          "",
          "",
          "son daeron ii_103129 viserys 129131_fourth son daeron_209221 aerys second_157161 daeron 161171"
         ],
         "type": "scatter",
         "x": [
          0,
          1.4142135623730965,
          1.4142135623730965,
          0
         ],
         "xaxis": "x",
         "y": [
          -215,
          -215,
          -225,
          -225
         ],
         "yaxis": "y"
        },
        {
         "hoverinfo": "text",
         "marker": {
          "color": "rgb(0,116,217)"
         },
         "mode": "lines",
         "text": [
          "august 21 2022_august 22 2022_2022 la times_times august 21_la times august",
          "",
          "",
          "the house that_that dragons built_house that dragons_dragons built the_built the house"
         ],
         "type": "scatter",
         "x": [
          1.4142135623730965,
          1.4142229247362297,
          1.4142229247362297,
          0
         ],
         "xaxis": "x",
         "y": [
          -220,
          -220,
          -235,
          -235
         ],
         "yaxis": "y"
        },
        {
         "hoverinfo": "text",
         "marker": {
          "color": "rgb(0,116,217)"
         },
         "mode": "lines",
         "text": [
          "daemon targaryen he_allowed thrive no_side ten year_send away to_office widely seen",
          "",
          "",
          "the house that_that dragons built_house that dragons_dragons built the_built the house"
         ],
         "type": "scatter",
         "x": [
          1.414246185702345,
          1.4142743748816384,
          1.4142743748816384,
          1.4142229247362297
         ],
         "xaxis": "x",
         "y": [
          -200,
          -200,
          -227.5,
          -227.5
         ],
         "yaxis": "y"
        },
        {
         "hoverinfo": "text",
         "marker": {
          "color": "rgb(0,116,217)"
         },
         "mode": "lines",
         "text": [
          "daemon targaryen he_allowed thrive no_side ten year_send away to_office widely seen",
          "",
          "",
          "0b6num8iske91jpg http wwwinstagramcom_ireddit wtljbelk3sb91jpg http_transcription translation daemon_uzsufrp2vhe91jpg http ireddit_translation daemon note"
         ],
         "type": "scatter",
         "x": [
          0,
          1.4133123371487335,
          1.4133123371487335,
          0
         ],
         "xaxis": "x",
         "y": [
          -245,
          -245,
          -255,
          -255
         ],
         "yaxis": "y"
        },
        {
         "hoverinfo": "text",
         "marker": {
          "color": "rgb(0,116,217)"
         },
         "mode": "lines",
         "text": [
          "ruled dragonstone conquest_pate pig boy_targaryen lord ruled_son named viserys_lord ruled dragonstone",
          "",
          "",
          "august 21 2022_the house that_that dragons built_house that dragons_august 22 2022"
         ],
         "type": "scatter",
         "x": [
          1.4142743748816384,
          1.4148871543798816,
          1.4148871543798816,
          1.4133123371487335
         ],
         "xaxis": "x",
         "y": [
          -213.75,
          -213.75,
          -250,
          -250
         ],
         "yaxis": "y"
        },
        {
         "hoverinfo": "text",
         "marker": {
          "color": "rgb(0,116,217)"
         },
         "mode": "lines",
         "text": [
          "dragon never ridden_vhagar oldest largest_mount old king_rider queen helaena_dreamfyre rider queen",
          "",
          "",
          "wing torn body_tore one another_blast golden flame_the blood wyrm_great golden wyrm"
         ],
         "type": "scatter",
         "x": [
          0,
          1.412312404645715,
          1.412312404645715,
          0
         ],
         "xaxis": "x",
         "y": [
          -275,
          -275,
          -285,
          -285
         ],
         "yaxis": "y"
        },
        {
         "hoverinfo": "text",
         "marker": {
          "color": "rgb(0,116,217)"
         },
         "mode": "lines",
         "text": [
          "all tonight go_septum make confession_men would frighten_proclamation pas sentence_shall best your",
          "",
          "",
          "dragon never ridden_vhagar oldest largest_man made cave_daeron dragon tessarion_hundred yard away"
         ],
         "type": "scatter",
         "x": [
          0,
          1.4138366596962941,
          1.4138366596962941,
          1.412312404645715
         ],
         "xaxis": "x",
         "y": [
          -265,
          -265,
          -280,
          -280
         ],
         "yaxis": "y"
        },
        {
         "hoverinfo": "text",
         "marker": {
          "color": "rgb(0,116,217)"
         },
         "mode": "lines",
         "text": [
          "iron bank braavos_lady larra brother_collapse rogare bank_ser tyland lannister_treasurer master coin",
          "",
          "",
          "viserys targaryen my_actually due deteriorating_targaryen my family_one young when_targaryen my wife"
         ],
         "type": "scatter",
         "x": [
          0,
          1.4127736078978188,
          1.4127736078978188,
          0
         ],
         "xaxis": "x",
         "y": [
          -295,
          -295,
          -305,
          -305
         ],
         "yaxis": "y"
        },
        {
         "hoverinfo": "text",
         "marker": {
          "color": "rgb(0,116,217)"
         },
         "mode": "lines",
         "text": [
          "dragon never ridden_vhagar oldest largest_man made cave_prince joffrey tyraxes_mount old king",
          "",
          "",
          "iron bank braavos_lady larra brother_collapse rogare bank_ser tyland lannister_treasurer master coin"
         ],
         "type": "scatter",
         "x": [
          1.4138366596962941,
          1.4152167076466458,
          1.4152167076466458,
          1.4127736078978188
         ],
         "xaxis": "x",
         "y": [
          -272.5,
          -272.5,
          -300,
          -300
         ],
         "yaxis": "y"
        },
        {
         "hoverinfo": "text",
         "marker": {
          "color": "rgb(0,116,217)"
         },
         "mode": "lines",
         "text": [
          "august 21 2022_the house that_house that dragons_that dragons built_august 22 2022",
          "",
          "",
          "iron bank braavos_dragon never ridden_collapse rogare bank_lady larra brother_vhagar oldest largest"
         ],
         "type": "scatter",
         "x": [
          1.4148871543798816,
          1.4159927120170288,
          1.4159927120170288,
          1.4152167076466458
         ],
         "xaxis": "x",
         "y": [
          -231.875,
          -231.875,
          -286.25,
          -286.25
         ],
         "yaxis": "y"
        },
        {
         "hoverinfo": "text",
         "marker": {
          "color": "rgb(0,116,217)"
         },
         "mode": "lines",
         "text": [
          "daemon targaryen returned_done lord husband_low place king_prince still friend_place king landing",
          "",
          "",
          "lord commander queensguard_knight men arm_account naked vulnerable_put hand upon_proved death none"
         ],
         "type": "scatter",
         "x": [
          0,
          1.4089882914249192,
          1.4089882914249192,
          0
         ],
         "xaxis": "x",
         "y": [
          -315,
          -315,
          -325,
          -325
         ],
         "yaxis": "y"
        },
        {
         "hoverinfo": "text",
         "marker": {
          "color": "rgb(0,116,217)"
         },
         "mode": "lines",
         "text": [
          "lord commander queensguard_daemon targaryen returned_prince still friend_low place king_place king landing",
          "",
          "",
          "ser willam wasp_abandoning stolen treasure_red keep bound_proclaiming day doom_queen despised shepherd"
         ],
         "type": "scatter",
         "x": [
          1.4089882914249192,
          1.4105807319701276,
          1.4105807319701276,
          0
         ],
         "xaxis": "x",
         "y": [
          -320,
          -320,
          -335,
          -335
         ],
         "yaxis": "y"
        },
        {
         "hoverinfo": "text",
         "marker": {
          "color": "rgb(0,116,217)"
         },
         "mode": "lines",
         "text": [
          "iron bank braavos_august 21 2022_the house that_house that dragons_that dragons built",
          "",
          "",
          "lord commander queensguard_ser luthor largent_place king landing_wine sink rat_sink rat pit"
         ],
         "type": "scatter",
         "x": [
          1.4159927120170288,
          1.420090890068935,
          1.420090890068935,
          1.4105807319701276
         ],
         "xaxis": "x",
         "y": [
          -259.0625,
          -259.0625,
          -327.5,
          -327.5
         ],
         "yaxis": "y"
        },
        {
         "hoverinfo": "text",
         "marker": {
          "color": "rgb(0,116,217)"
         },
         "mode": "lines",
         "text": [
          "across face rhaena_remained unconcerned it_she gone far_set right there_saw tear wife",
          "",
          "",
          "time put end_your grace lord_right first night_place lord may_one would seem"
         ],
         "type": "scatter",
         "x": [
          0,
          1.411288541819348,
          1.411288541819348,
          0
         ],
         "xaxis": "x",
         "y": [
          -345,
          -345,
          -355,
          -355
         ],
         "yaxis": "y"
        },
        {
         "hoverinfo": "text",
         "marker": {
          "color": "rgb(0,116,217)"
         },
         "mode": "lines",
         "text": [
          "crystal crown septon_new high septon_his high holiness_133 ac new_one trusted advisor",
          "",
          "",
          "modest fishing village_king landing the_aegon high hill_52 ac began_realm oldtown king"
         ],
         "type": "scatter",
         "x": [
          0,
          1.409110692018504,
          1.409110692018504,
          0
         ],
         "xaxis": "x",
         "y": [
          -365,
          -365,
          -375,
          -375
         ],
         "yaxis": "y"
        },
        {
         "hoverinfo": "text",
         "marker": {
          "color": "rgb(0,116,217)"
         },
         "mode": "lines",
         "text": [
          "time put end_groom men arm_your grace lord_right first night_queen kept composure",
          "",
          "",
          "his high holiness_crystal crown septon_landing storm end_storm end the_king landing storm"
         ],
         "type": "scatter",
         "x": [
          1.411288541819348,
          1.4130751293267558,
          1.4130751293267558,
          1.409110692018504
         ],
         "xaxis": "x",
         "y": [
          -350,
          -350,
          -370,
          -370
         ],
         "yaxis": "y"
        },
        {
         "hoverinfo": "text",
         "marker": {
          "color": "rgb(0,116,217)"
         },
         "mode": "lines",
         "text": [
          "velaryon sea snake_gedmund great axe_the sea snake_voyage sea snake_rock lady johanna",
          "",
          "",
          "take part fighting_she sent men_the seven pointed_seven pointed star_prince jace joff"
         ],
         "type": "scatter",
         "x": [
          0,
          1.4089952642202976,
          1.4089952642202976,
          0
         ],
         "xaxis": "x",
         "y": [
          -385,
          -385,
          -395,
          -395
         ],
         "yaxis": "y"
        },
        {
         "hoverinfo": "text",
         "marker": {
          "color": "rgb(0,116,217)"
         },
         "mode": "lines",
         "text": [
          "his high holiness_right first night_crystal crown septon_groom men arm_long reign king",
          "",
          "",
          "velaryon sea snake_gedmund great axe_seven pointed star_the sea snake_ti isle leng"
         ],
         "type": "scatter",
         "x": [
          1.4130751293267558,
          1.4161626675081214,
          1.4161626675081214,
          1.4089952642202976
         ],
         "xaxis": "x",
         "y": [
          -360,
          -360,
          -390,
          -390
         ],
         "yaxis": "y"
        },
        {
         "hoverinfo": "text",
         "marker": {
          "color": "rgb(0,116,217)"
         },
         "mode": "lines",
         "text": [
          "iron bank braavos_august 21 2022_the house that_that dragons built_house that dragons",
          "",
          "",
          "velaryon sea snake_seven pointed star_gedmund great axe_the seven pointed_the sea snake"
         ],
         "type": "scatter",
         "x": [
          1.420090890068935,
          1.4212526422693006,
          1.4212526422693006,
          1.4161626675081214
         ],
         "xaxis": "x",
         "y": [
          -293.28125,
          -293.28125,
          -375,
          -375
         ],
         "yaxis": "y"
        },
        {
         "hoverinfo": "text",
         "marker": {
          "color": "rgb(0,116,217)"
         },
         "mode": "lines",
         "text": [
          "grand maester benifer_mother queen alyssa_septon barth grand_barth grand maester_good queen alysanne",
          "",
          "",
          "child daughter named_sweet natured girl_queen alysanne child_80 ac queen_born 80 ac"
         ],
         "type": "scatter",
         "x": [
          0,
          1.4051716561667382,
          1.4051716561667382,
          0
         ],
         "xaxis": "x",
         "y": [
          -405,
          -405,
          -415,
          -415
         ],
         "yaxis": "y"
        },
        {
         "hoverinfo": "text",
         "marker": {
          "color": "rgb(0,116,217)"
         },
         "mode": "lines",
         "text": [
          "79 ac she_saera three year_restored favor done_refused weaned past_reflective observed princess",
          "",
          "",
          "king jaehaerys targaryen_103 ac king_progress vale arryn_rock great seat_saera disgraced abandoned"
         ],
         "type": "scatter",
         "x": [
          0,
          1.4085643635381038,
          1.4085643635381038,
          0
         ],
         "xaxis": "x",
         "y": [
          -425,
          -425,
          -435,
          -435
         ],
         "yaxis": "y"
        },
        {
         "hoverinfo": "text",
         "marker": {
          "color": "rgb(0,116,217)"
         },
         "mode": "lines",
         "text": [
          "mother queen alyssa_grand maester benifer_child daughter named_ac queen alysanne_told king she",
          "",
          "",
          "septon barth would_barth would write_king jaehaerys targaryen_103 ac king_reflecting sin praying"
         ],
         "type": "scatter",
         "x": [
          1.4051716561667382,
          1.4170442656979183,
          1.4170442656979183,
          1.4085643635381038
         ],
         "xaxis": "x",
         "y": [
          -410,
          -410,
          -430,
          -430
         ],
         "yaxis": "y"
        },
        {
         "hoverinfo": "text",
         "marker": {
          "color": "rgb(0,116,217)"
         },
         "mode": "lines",
         "text": [
          "iron bank braavos_august 21 2022_the house that_that dragons built_house that dragons",
          "",
          "",
          "mother queen alyssa_grand maester benifer_barth grand maester_good queen alysanne_grand maester elysar"
         ],
         "type": "scatter",
         "x": [
          1.4212526422693006,
          1.4224142730499942,
          1.4224142730499942,
          1.4170442656979183
         ],
         "xaxis": "x",
         "y": [
          -334.140625,
          -334.140625,
          -420,
          -420
         ],
         "yaxis": "y"
        },
        {
         "hoverinfo": "text",
         "marker": {
          "color": "rgb(0,116,217)"
         },
         "mode": "lines",
         "text": [
          "lord storm end_lord samwell blackwood_red robb rivers_lord borros baratheon_king aegon ii",
          "",
          "",
          "iron bank braavos_august 21 2022_the house that_house that dragons_that dragons built"
         ],
         "type": "scatter",
         "x": [
          1.4111489837494173,
          1.423663028006103,
          1.423663028006103,
          1.4224142730499942
         ],
         "xaxis": "x",
         "y": [
          -177.5,
          -177.5,
          -377.0703125,
          -377.0703125
         ],
         "yaxis": "y"
        },
        {
         "hoverinfo": "text",
         "marker": {
          "color": "rgb(0,116,217)"
         },
         "mode": "lines",
         "text": [
          "song ice fire_behind scene video_premiere held august_grand maester mellos_queen aemma died",
          "",
          "",
          "lord storm end_iron bank braavos_august 21 2022_the house that_house that dragons"
         ],
         "type": "scatter",
         "x": [
          1.4264745243951795,
          1.431158871779139,
          1.431158871779139,
          1.423663028006103
         ],
         "xaxis": "x",
         "y": [
          -95.9375,
          -95.9375,
          -277.28515625,
          -277.28515625
         ],
         "yaxis": "y"
        },
        {
         "hoverinfo": "text",
         "marker": {
          "color": "rgb(0,116,217)"
         },
         "mode": "lines",
         "text": [
          "lord cregan stark_ser perkin flea_lord cregan son_hand uncrowned king_mushroom tell lady",
          "",
          "",
          "kingdom three daughters_lys myr tyrosh_free cities lys_cities lys myr_make common cause"
         ],
         "type": "scatter",
         "x": [
          0,
          1.4098901959326604,
          1.4098901959326604,
          0
         ],
         "xaxis": "x",
         "y": [
          -445,
          -445,
          -455,
          -455
         ],
         "yaxis": "y"
        },
        {
         "hoverinfo": "text",
         "marker": {
          "color": "rgb(0,116,217)"
         },
         "mode": "lines",
         "text": [
          "ser tyland lannister_ser otto hightower_lord jasper wylde_lord lyman beesbury_brother lord casterly",
          "",
          "",
          "grand maester orwyle_grand maester mellos_head grand maester_lyonel say many_maester orwyle said"
         ],
         "type": "scatter",
         "x": [
          0,
          1.4006991610047939,
          1.4006991610047939,
          0
         ],
         "xaxis": "x",
         "y": [
          -465,
          -465,
          -475,
          -475
         ],
         "yaxis": "y"
        },
        {
         "hoverinfo": "text",
         "marker": {
          "color": "rgb(0,116,217)"
         },
         "mode": "lines",
         "text": [
          "lord cregan stark_kingdom three daughters_lys myr tyrosh_ser perkin flea_mushroom tell lady",
          "",
          "",
          "grand maester orwyle_ser otto hightower_ser tyland lannister_grand maester mellos_lord jasper wylde"
         ],
         "type": "scatter",
         "x": [
          1.4098901959326604,
          1.4138234086839483,
          1.4138234086839483,
          1.4006991610047939
         ],
         "xaxis": "x",
         "y": [
          -450,
          -450,
          -470,
          -470
         ],
         "yaxis": "y"
        },
        {
         "hoverinfo": "text",
         "marker": {
          "color": "rgb(0,116,217)"
         },
         "mode": "lines",
         "text": [
          "grand maester munkun_king aegon iii_ser marston waters_said your grace_king aegon said",
          "",
          "",
          "ser lucas leygood_leygood gold cloak_lucas leygood gold_ser gareth long_ser marston waters"
         ],
         "type": "scatter",
         "x": [
          0,
          1.3922443474688495,
          1.3922443474688495,
          0
         ],
         "xaxis": "x",
         "y": [
          -495,
          -495,
          -505,
          -505
         ],
         "yaxis": "y"
        },
        {
         "hoverinfo": "text",
         "marker": {
          "color": "rgb(0,116,217)"
         },
         "mode": "lines",
         "text": [
          "lord unwin peake_daughter myrielle favor_lord starpike lord_dunstonbury lord whitegrove_starpike lord dunstonbury",
          "",
          "",
          "grand maester munkun_ser marston waters_king aegon iii_ser lucas leygood_grand maester orwyle"
         ],
         "type": "scatter",
         "x": [
          0,
          1.4073234401819683,
          1.4073234401819683,
          1.3922443474688495
         ],
         "xaxis": "x",
         "y": [
          -485,
          -485,
          -500,
          -500
         ],
         "yaxis": "y"
        },
        {
         "hoverinfo": "text",
         "marker": {
          "color": "rgb(0,116,217)"
         },
         "mode": "lines",
         "text": [
          "grand maester munkun_ser marston waters_king aegon iii_lord unwin peake_ser lucas leygood",
          "",
          "",
          "king landing mushroom_grand maester munkun_people king landing_the testimony mushroom_mushroom would believe"
         ],
         "type": "scatter",
         "x": [
          1.4073234401819683,
          1.4099392910018969,
          1.4099392910018969,
          0
         ],
         "xaxis": "x",
         "y": [
          -492.5,
          -492.5,
          -515,
          -515
         ],
         "yaxis": "y"
        },
        {
         "hoverinfo": "text",
         "marker": {
          "color": "rgb(0,116,217)"
         },
         "mode": "lines",
         "text": [
          "grand maester orwyle_lord cregan stark_ser otto hightower_kingdom three daughters_ser tyland lannister",
          "",
          "",
          "grand maester munkun_ser marston waters_king aegon iii_grand maester orwyle_lord unwin peake"
         ],
         "type": "scatter",
         "x": [
          1.4138234086839483,
          1.4188382848767611,
          1.4188382848767611,
          1.4099392910018969
         ],
         "xaxis": "x",
         "y": [
          -460,
          -460,
          -503.75,
          -503.75
         ],
         "yaxis": "y"
        },
        {
         "hoverinfo": "text",
         "marker": {
          "color": "rgb(0,116,217)"
         },
         "mode": "lines",
         "text": [
          "song ice fire_lord storm end_behind scene video_premiere held august_ser criston cole",
          "",
          "",
          "grand maester orwyle_grand maester munkun_lord cregan stark_ser marston waters_ser otto hightower"
         ],
         "type": "scatter",
         "x": [
          1.431158871779139,
          1.4441205090644658,
          1.4441205090644658,
          1.4188382848767611
         ],
         "xaxis": "x",
         "y": [
          -186.611328125,
          -186.611328125,
          -481.875,
          -481.875
         ],
         "yaxis": "y"
        },
        {
         "hoverinfo": "text",
         "marker": {
          "color": "rgb(0,116,217)"
         },
         "mode": "lines",
         "text": [
          "episode adapted chapter_overall it premiered_2022 hbo hbo_this episode adapted_episode first season",
          "",
          "",
          "grand maester munkun_grand maester orwyle_song ice fire_lord storm end_ser criston cole"
         ],
         "type": "scatter",
         "x": [
          1.3860933474850765,
          1.508724001087762,
          1.508724001087762,
          1.4441205090644658
         ],
         "xaxis": "x",
         "y": [
          -32.5,
          -32.5,
          -334.2431640625,
          -334.2431640625
         ],
         "yaxis": "y"
        },
        {
         "hoverinfo": "text",
         "marker": {
          "color": "rgb(0,116,217)"
         },
         "mode": "lines",
         "text": [
          "starring cast member_credited appear episode_member appear episode_cast member appear_olivia cooke alicent",
          "",
          "",
          "grand maester munkun_grand maester orwyle_song ice fire_lord storm end_ser criston cole"
         ],
         "type": "scatter",
         "x": [
          1.3100761437794677,
          1.5155008404899724,
          1.5155008404899724,
          1.508724001087762
         ],
         "xaxis": "x",
         "y": [
          -10,
          -10,
          -183.37158203125,
          -183.37158203125
         ],
         "yaxis": "y"
        },
        {
         "hoverinfo": "text",
         "hovertext": [
          "premiere held august_held august 16_george rr martin_held august 17_house dragon inside",
          "behind scene video_red keep godswood_grand maester mellos_st michael mount_filming location episode",
          "behind scene video_red keep godswood_grand maester mellos_st michael mount_location episode included",
          "song ice fire_premiere held august_that was promised_prince that was_promised song ice",
          "lord storm end_lord samwell blackwood_red robb rivers_king aegon ii_three hundred men",
          "august 21 2022_august 22 2022_2022 la times_times august 21_la times august",
          "daemon targaryen he_allowed thrive no_side ten year_send away to_office widely seen",
          "ruled dragonstone conquest_pate pig boy_targaryen lord ruled_son named viserys_lord ruled dragonstone",
          "dragon never ridden_vhagar oldest largest_man made cave_prince joffrey tyraxes_mount old king",
          "august 21 2022_the house that_house that dragons_that dragons built_august 22 2022",
          "lord commander queensguard_daemon targaryen returned_prince still friend_low place king_place king landing",
          "iron bank braavos_august 21 2022_the house that_house that dragons_that dragons built",
          "time put end_groom men arm_your grace lord_right first night_queen kept composure",
          "his high holiness_right first night_crystal crown septon_groom men arm_long reign king",
          "iron bank braavos_august 21 2022_the house that_that dragons built_house that dragons",
          "mother queen alyssa_grand maester benifer_child daughter named_ac queen alysanne_told king she",
          "iron bank braavos_august 21 2022_the house that_that dragons built_house that dragons",
          "lord storm end_lord samwell blackwood_red robb rivers_lord borros baratheon_king aegon ii",
          "song ice fire_behind scene video_premiere held august_grand maester mellos_queen aemma died",
          "lord cregan stark_kingdom three daughters_lys myr tyrosh_ser perkin flea_mushroom tell lady",
          "grand maester munkun_ser marston waters_king aegon iii_lord unwin peake_ser lucas leygood",
          "grand maester orwyle_lord cregan stark_ser otto hightower_kingdom three daughters_ser tyland lannister",
          "song ice fire_lord storm end_behind scene video_premiere held august_ser criston cole",
          "episode adapted chapter_overall it premiered_2022 hbo hbo_this episode adapted_episode first season",
          "starring cast member_credited appear episode_member appear episode_cast member appear_olivia cooke alicent"
         ],
         "marker": {
          "color": "black"
         },
         "mode": "markers",
         "showlegend": false,
         "type": "scatter",
         "x": [
          1.4001039245240652,
          1.4121744294869198,
          1.4183946486328836,
          1.4099041864741624,
          1.4034992115153109,
          1.4142135623730965,
          1.414246185702345,
          1.4142743748816384,
          1.4138366596962941,
          1.4148871543798816,
          1.4089882914249192,
          1.4159927120170288,
          1.411288541819348,
          1.4130751293267558,
          1.420090890068935,
          1.4051716561667382,
          1.4212526422693006,
          1.4111489837494173,
          1.4264745243951795,
          1.4098901959326604,
          1.4073234401819683,
          1.4138234086839483,
          1.431158871779139,
          1.3860933474850765,
          1.3100761437794677
         ],
         "y": [
          -60,
          -92.5,
          -106.25,
          -67.5,
          -170,
          -220,
          -200,
          -213.75,
          -272.5,
          -231.875,
          -320,
          -259.0625,
          -350,
          -360,
          -293.28125,
          -410,
          -334.140625,
          -177.5,
          -95.9375,
          -450,
          -492.5,
          -460,
          -186.611328125,
          -32.5,
          -10
         ]
        },
        {
         "hoverinfo": "text",
         "hovertext": [
          "episode adapted chapter_this episode adapted_wiki ice fire_dragon question succession_heirs dragon question",
          "behind scene video_grand maester mellos_st michael mount_altered deleted scene_filming location episode",
          "year aegon conquest_dance dragons began_131st year aegon_two rival branch_seventh moon 131st",
          "17 year old_year viserys reign_queen aemma died_16 year old_year old first",
          "17 year old_in king landing_queen aemma died_year viserys reign_16 year old",
          "behind scene video_grand maester mellos_queen aemma died_red keep godswood_st michael mount",
          "the house that_that dragons built_house that dragons_dragons built the_built the house",
          "august 21 2022_the house that_that dragons built_house that dragons_august 22 2022",
          "dragon never ridden_vhagar oldest largest_man made cave_daeron dragon tessarion_hundred yard away",
          "iron bank braavos_lady larra brother_collapse rogare bank_ser tyland lannister_treasurer master coin",
          "iron bank braavos_dragon never ridden_collapse rogare bank_lady larra brother_vhagar oldest largest",
          "lord commander queensguard_ser luthor largent_place king landing_wine sink rat_sink rat pit",
          "his high holiness_crystal crown septon_landing storm end_storm end the_king landing storm",
          "velaryon sea snake_gedmund great axe_seven pointed star_the sea snake_ti isle leng",
          "velaryon sea snake_seven pointed star_gedmund great axe_the seven pointed_the sea snake",
          "septon barth would_barth would write_king jaehaerys targaryen_103 ac king_reflecting sin praying",
          "mother queen alyssa_grand maester benifer_barth grand maester_good queen alysanne_grand maester elysar",
          "iron bank braavos_august 21 2022_the house that_house that dragons_that dragons built",
          "lord storm end_iron bank braavos_august 21 2022_the house that_house that dragons",
          "grand maester orwyle_ser otto hightower_ser tyland lannister_grand maester mellos_lord jasper wylde",
          "grand maester munkun_ser marston waters_king aegon iii_ser lucas leygood_grand maester orwyle",
          "grand maester munkun_ser marston waters_king aegon iii_grand maester orwyle_lord unwin peake",
          "grand maester orwyle_grand maester munkun_lord cregan stark_ser marston waters_ser otto hightower",
          "grand maester munkun_grand maester orwyle_song ice fire_lord storm end_ser criston cole",
          "grand maester munkun_grand maester orwyle_song ice fire_lord storm end_ser criston cole"
         ],
         "marker": {
          "color": "black"
         },
         "mode": "markers",
         "showlegend": false,
         "type": "scatter",
         "x": [
          1.3394329755653103,
          1.404597776923536,
          1.4044172762584473,
          1.4072031403528489,
          1.4114453873241894,
          1.4207832404275749,
          1.4142229247362297,
          1.4133123371487335,
          1.412312404645715,
          1.4127736078978188,
          1.4152167076466458,
          1.4105807319701276,
          1.409110692018504,
          1.4089952642202976,
          1.4161626675081214,
          1.4085643635381038,
          1.4170442656979183,
          1.4224142730499942,
          1.423663028006103,
          1.4006991610047939,
          1.3922443474688495,
          1.4099392910018969,
          1.4188382848767611,
          1.4441205090644658,
          1.508724001087762
         ],
         "y": [
          -40,
          -100,
          -120,
          -150,
          -142.5,
          -124.375,
          -227.5,
          -250,
          -280,
          -300,
          -286.25,
          -327.5,
          -370,
          -390,
          -375,
          -430,
          -420,
          -377.0703125,
          -277.28515625,
          -470,
          -500,
          -503.75,
          -481.875,
          -334.2431640625,
          -183.37158203125
         ]
        }
       ],
       "layout": {
        "autosize": false,
        "height": 980,
        "hoverlabel": {
         "bgcolor": "white",
         "font": {
          "family": "Rockwell",
          "size": 16
         }
        },
        "hovermode": "closest",
        "plot_bgcolor": "#ECEFF1",
        "showlegend": false,
        "template": {
         "data": {
          "bar": [
           {
            "error_x": {
             "color": "#2a3f5f"
            },
            "error_y": {
             "color": "#2a3f5f"
            },
            "marker": {
             "line": {
              "color": "white",
              "width": 0.5
             },
             "pattern": {
              "fillmode": "overlay",
              "size": 10,
              "solidity": 0.2
             }
            },
            "type": "bar"
           }
          ],
          "barpolar": [
           {
            "marker": {
             "line": {
              "color": "white",
              "width": 0.5
             },
             "pattern": {
              "fillmode": "overlay",
              "size": 10,
              "solidity": 0.2
             }
            },
            "type": "barpolar"
           }
          ],
          "carpet": [
           {
            "aaxis": {
             "endlinecolor": "#2a3f5f",
             "gridcolor": "#C8D4E3",
             "linecolor": "#C8D4E3",
             "minorgridcolor": "#C8D4E3",
             "startlinecolor": "#2a3f5f"
            },
            "baxis": {
             "endlinecolor": "#2a3f5f",
             "gridcolor": "#C8D4E3",
             "linecolor": "#C8D4E3",
             "minorgridcolor": "#C8D4E3",
             "startlinecolor": "#2a3f5f"
            },
            "type": "carpet"
           }
          ],
          "choropleth": [
           {
            "colorbar": {
             "outlinewidth": 0,
             "ticks": ""
            },
            "type": "choropleth"
           }
          ],
          "contour": [
           {
            "colorbar": {
             "outlinewidth": 0,
             "ticks": ""
            },
            "colorscale": [
             [
              0,
              "#0d0887"
             ],
             [
              0.1111111111111111,
              "#46039f"
             ],
             [
              0.2222222222222222,
              "#7201a8"
             ],
             [
              0.3333333333333333,
              "#9c179e"
             ],
             [
              0.4444444444444444,
              "#bd3786"
             ],
             [
              0.5555555555555556,
              "#d8576b"
             ],
             [
              0.6666666666666666,
              "#ed7953"
             ],
             [
              0.7777777777777778,
              "#fb9f3a"
             ],
             [
              0.8888888888888888,
              "#fdca26"
             ],
             [
              1,
              "#f0f921"
             ]
            ],
            "type": "contour"
           }
          ],
          "contourcarpet": [
           {
            "colorbar": {
             "outlinewidth": 0,
             "ticks": ""
            },
            "type": "contourcarpet"
           }
          ],
          "heatmap": [
           {
            "colorbar": {
             "outlinewidth": 0,
             "ticks": ""
            },
            "colorscale": [
             [
              0,
              "#0d0887"
             ],
             [
              0.1111111111111111,
              "#46039f"
             ],
             [
              0.2222222222222222,
              "#7201a8"
             ],
             [
              0.3333333333333333,
              "#9c179e"
             ],
             [
              0.4444444444444444,
              "#bd3786"
             ],
             [
              0.5555555555555556,
              "#d8576b"
             ],
             [
              0.6666666666666666,
              "#ed7953"
             ],
             [
              0.7777777777777778,
              "#fb9f3a"
             ],
             [
              0.8888888888888888,
              "#fdca26"
             ],
             [
              1,
              "#f0f921"
             ]
            ],
            "type": "heatmap"
           }
          ],
          "heatmapgl": [
           {
            "colorbar": {
             "outlinewidth": 0,
             "ticks": ""
            },
            "colorscale": [
             [
              0,
              "#0d0887"
             ],
             [
              0.1111111111111111,
              "#46039f"
             ],
             [
              0.2222222222222222,
              "#7201a8"
             ],
             [
              0.3333333333333333,
              "#9c179e"
             ],
             [
              0.4444444444444444,
              "#bd3786"
             ],
             [
              0.5555555555555556,
              "#d8576b"
             ],
             [
              0.6666666666666666,
              "#ed7953"
             ],
             [
              0.7777777777777778,
              "#fb9f3a"
             ],
             [
              0.8888888888888888,
              "#fdca26"
             ],
             [
              1,
              "#f0f921"
             ]
            ],
            "type": "heatmapgl"
           }
          ],
          "histogram": [
           {
            "marker": {
             "pattern": {
              "fillmode": "overlay",
              "size": 10,
              "solidity": 0.2
             }
            },
            "type": "histogram"
           }
          ],
          "histogram2d": [
           {
            "colorbar": {
             "outlinewidth": 0,
             "ticks": ""
            },
            "colorscale": [
             [
              0,
              "#0d0887"
             ],
             [
              0.1111111111111111,
              "#46039f"
             ],
             [
              0.2222222222222222,
              "#7201a8"
             ],
             [
              0.3333333333333333,
              "#9c179e"
             ],
             [
              0.4444444444444444,
              "#bd3786"
             ],
             [
              0.5555555555555556,
              "#d8576b"
             ],
             [
              0.6666666666666666,
              "#ed7953"
             ],
             [
              0.7777777777777778,
              "#fb9f3a"
             ],
             [
              0.8888888888888888,
              "#fdca26"
             ],
             [
              1,
              "#f0f921"
             ]
            ],
            "type": "histogram2d"
           }
          ],
          "histogram2dcontour": [
           {
            "colorbar": {
             "outlinewidth": 0,
             "ticks": ""
            },
            "colorscale": [
             [
              0,
              "#0d0887"
             ],
             [
              0.1111111111111111,
              "#46039f"
             ],
             [
              0.2222222222222222,
              "#7201a8"
             ],
             [
              0.3333333333333333,
              "#9c179e"
             ],
             [
              0.4444444444444444,
              "#bd3786"
             ],
             [
              0.5555555555555556,
              "#d8576b"
             ],
             [
              0.6666666666666666,
              "#ed7953"
             ],
             [
              0.7777777777777778,
              "#fb9f3a"
             ],
             [
              0.8888888888888888,
              "#fdca26"
             ],
             [
              1,
              "#f0f921"
             ]
            ],
            "type": "histogram2dcontour"
           }
          ],
          "mesh3d": [
           {
            "colorbar": {
             "outlinewidth": 0,
             "ticks": ""
            },
            "type": "mesh3d"
           }
          ],
          "parcoords": [
           {
            "line": {
             "colorbar": {
              "outlinewidth": 0,
              "ticks": ""
             }
            },
            "type": "parcoords"
           }
          ],
          "pie": [
           {
            "automargin": true,
            "type": "pie"
           }
          ],
          "scatter": [
           {
            "fillpattern": {
             "fillmode": "overlay",
             "size": 10,
             "solidity": 0.2
            },
            "type": "scatter"
           }
          ],
          "scatter3d": [
           {
            "line": {
             "colorbar": {
              "outlinewidth": 0,
              "ticks": ""
             }
            },
            "marker": {
             "colorbar": {
              "outlinewidth": 0,
              "ticks": ""
             }
            },
            "type": "scatter3d"
           }
          ],
          "scattercarpet": [
           {
            "marker": {
             "colorbar": {
              "outlinewidth": 0,
              "ticks": ""
             }
            },
            "type": "scattercarpet"
           }
          ],
          "scattergeo": [
           {
            "marker": {
             "colorbar": {
              "outlinewidth": 0,
              "ticks": ""
             }
            },
            "type": "scattergeo"
           }
          ],
          "scattergl": [
           {
            "marker": {
             "colorbar": {
              "outlinewidth": 0,
              "ticks": ""
             }
            },
            "type": "scattergl"
           }
          ],
          "scattermapbox": [
           {
            "marker": {
             "colorbar": {
              "outlinewidth": 0,
              "ticks": ""
             }
            },
            "type": "scattermapbox"
           }
          ],
          "scatterpolar": [
           {
            "marker": {
             "colorbar": {
              "outlinewidth": 0,
              "ticks": ""
             }
            },
            "type": "scatterpolar"
           }
          ],
          "scatterpolargl": [
           {
            "marker": {
             "colorbar": {
              "outlinewidth": 0,
              "ticks": ""
             }
            },
            "type": "scatterpolargl"
           }
          ],
          "scatterternary": [
           {
            "marker": {
             "colorbar": {
              "outlinewidth": 0,
              "ticks": ""
             }
            },
            "type": "scatterternary"
           }
          ],
          "surface": [
           {
            "colorbar": {
             "outlinewidth": 0,
             "ticks": ""
            },
            "colorscale": [
             [
              0,
              "#0d0887"
             ],
             [
              0.1111111111111111,
              "#46039f"
             ],
             [
              0.2222222222222222,
              "#7201a8"
             ],
             [
              0.3333333333333333,
              "#9c179e"
             ],
             [
              0.4444444444444444,
              "#bd3786"
             ],
             [
              0.5555555555555556,
              "#d8576b"
             ],
             [
              0.6666666666666666,
              "#ed7953"
             ],
             [
              0.7777777777777778,
              "#fb9f3a"
             ],
             [
              0.8888888888888888,
              "#fdca26"
             ],
             [
              1,
              "#f0f921"
             ]
            ],
            "type": "surface"
           }
          ],
          "table": [
           {
            "cells": {
             "fill": {
              "color": "#EBF0F8"
             },
             "line": {
              "color": "white"
             }
            },
            "header": {
             "fill": {
              "color": "#C8D4E3"
             },
             "line": {
              "color": "white"
             }
            },
            "type": "table"
           }
          ]
         },
         "layout": {
          "annotationdefaults": {
           "arrowcolor": "#2a3f5f",
           "arrowhead": 0,
           "arrowwidth": 1
          },
          "autotypenumbers": "strict",
          "coloraxis": {
           "colorbar": {
            "outlinewidth": 0,
            "ticks": ""
           }
          },
          "colorscale": {
           "diverging": [
            [
             0,
             "#8e0152"
            ],
            [
             0.1,
             "#c51b7d"
            ],
            [
             0.2,
             "#de77ae"
            ],
            [
             0.3,
             "#f1b6da"
            ],
            [
             0.4,
             "#fde0ef"
            ],
            [
             0.5,
             "#f7f7f7"
            ],
            [
             0.6,
             "#e6f5d0"
            ],
            [
             0.7,
             "#b8e186"
            ],
            [
             0.8,
             "#7fbc41"
            ],
            [
             0.9,
             "#4d9221"
            ],
            [
             1,
             "#276419"
            ]
           ],
           "sequential": [
            [
             0,
             "#0d0887"
            ],
            [
             0.1111111111111111,
             "#46039f"
            ],
            [
             0.2222222222222222,
             "#7201a8"
            ],
            [
             0.3333333333333333,
             "#9c179e"
            ],
            [
             0.4444444444444444,
             "#bd3786"
            ],
            [
             0.5555555555555556,
             "#d8576b"
            ],
            [
             0.6666666666666666,
             "#ed7953"
            ],
            [
             0.7777777777777778,
             "#fb9f3a"
            ],
            [
             0.8888888888888888,
             "#fdca26"
            ],
            [
             1,
             "#f0f921"
            ]
           ],
           "sequentialminus": [
            [
             0,
             "#0d0887"
            ],
            [
             0.1111111111111111,
             "#46039f"
            ],
            [
             0.2222222222222222,
             "#7201a8"
            ],
            [
             0.3333333333333333,
             "#9c179e"
            ],
            [
             0.4444444444444444,
             "#bd3786"
            ],
            [
             0.5555555555555556,
             "#d8576b"
            ],
            [
             0.6666666666666666,
             "#ed7953"
            ],
            [
             0.7777777777777778,
             "#fb9f3a"
            ],
            [
             0.8888888888888888,
             "#fdca26"
            ],
            [
             1,
             "#f0f921"
            ]
           ]
          },
          "colorway": [
           "#636efa",
           "#EF553B",
           "#00cc96",
           "#ab63fa",
           "#FFA15A",
           "#19d3f3",
           "#FF6692",
           "#B6E880",
           "#FF97FF",
           "#FECB52"
          ],
          "font": {
           "color": "#2a3f5f"
          },
          "geo": {
           "bgcolor": "white",
           "lakecolor": "white",
           "landcolor": "white",
           "showlakes": true,
           "showland": true,
           "subunitcolor": "#C8D4E3"
          },
          "hoverlabel": {
           "align": "left"
          },
          "hovermode": "closest",
          "mapbox": {
           "style": "light"
          },
          "paper_bgcolor": "white",
          "plot_bgcolor": "white",
          "polar": {
           "angularaxis": {
            "gridcolor": "#EBF0F8",
            "linecolor": "#EBF0F8",
            "ticks": ""
           },
           "bgcolor": "white",
           "radialaxis": {
            "gridcolor": "#EBF0F8",
            "linecolor": "#EBF0F8",
            "ticks": ""
           }
          },
          "scene": {
           "xaxis": {
            "backgroundcolor": "white",
            "gridcolor": "#DFE8F3",
            "gridwidth": 2,
            "linecolor": "#EBF0F8",
            "showbackground": true,
            "ticks": "",
            "zerolinecolor": "#EBF0F8"
           },
           "yaxis": {
            "backgroundcolor": "white",
            "gridcolor": "#DFE8F3",
            "gridwidth": 2,
            "linecolor": "#EBF0F8",
            "showbackground": true,
            "ticks": "",
            "zerolinecolor": "#EBF0F8"
           },
           "zaxis": {
            "backgroundcolor": "white",
            "gridcolor": "#DFE8F3",
            "gridwidth": 2,
            "linecolor": "#EBF0F8",
            "showbackground": true,
            "ticks": "",
            "zerolinecolor": "#EBF0F8"
           }
          },
          "shapedefaults": {
           "line": {
            "color": "#2a3f5f"
           }
          },
          "ternary": {
           "aaxis": {
            "gridcolor": "#DFE8F3",
            "linecolor": "#A2B1C6",
            "ticks": ""
           },
           "baxis": {
            "gridcolor": "#DFE8F3",
            "linecolor": "#A2B1C6",
            "ticks": ""
           },
           "bgcolor": "white",
           "caxis": {
            "gridcolor": "#DFE8F3",
            "linecolor": "#A2B1C6",
            "ticks": ""
           }
          },
          "title": {
           "x": 0.05
          },
          "xaxis": {
           "automargin": true,
           "gridcolor": "#EBF0F8",
           "linecolor": "#EBF0F8",
           "ticks": "",
           "title": {
            "standoff": 15
           },
           "zerolinecolor": "#EBF0F8",
           "zerolinewidth": 2
          },
          "yaxis": {
           "automargin": true,
           "gridcolor": "#EBF0F8",
           "linecolor": "#EBF0F8",
           "ticks": "",
           "title": {
            "standoff": 15
           },
           "zerolinecolor": "#EBF0F8",
           "zerolinewidth": 2
          }
         }
        },
        "title": {
         "font": {
          "color": "Black",
          "size": 22
         },
         "text": "<b>Hierarchical Clustering</b>",
         "x": 0.5,
         "xanchor": "center",
         "yanchor": "top"
        },
        "width": 1000,
        "xaxis": {
         "mirror": "allticks",
         "rangemode": "tozero",
         "showgrid": false,
         "showline": true,
         "showticklabels": true,
         "ticks": "outside",
         "type": "linear",
         "zeroline": false
        },
        "yaxis": {
         "mirror": "allticks",
         "range": [
          -520,
          0
         ],
         "rangemode": "tozero",
         "showgrid": false,
         "showline": true,
         "showticklabels": true,
         "tickmode": "array",
         "ticks": "outside",
         "ticktext": [
          "13_starring cast member_cre...",
          "30_member appear episode_ca...",
          "42_2022 hbo hbo_series over...",
          "11_wiki ice fire_the lord t...",
          "24_this episode adapted_epi...",
          "46_premiere held august_hel...",
          "29_george rr martin_compani...",
          "23_song ice fire_prince tha...",
          "40_red keep godswood_conque...",
          "0_grand maester mellos_comm...",
          "3_st michael mount_behind s...",
          "31_dance dragons began_it w...",
          "34_year aegon conquest_131s...",
          "4_confrontation lucerys aem...",
          "43_in king landing_landing ...",
          "15_17 year old_year viserys...",
          "2_lord samwell blackwood_re...",
          "9_lord storm end_daughter c...",
          "50_lord rogar war_third dor...",
          "38_the house that_that drag...",
          "17_august 21 2022_august 22...",
          "35_son daeron ii_103129 vis...",
          "45_0b6num8iske91jpg http ww...",
          "41_daemon targaryen he_allo...",
          "25_pate pig boy_67 ac three...",
          "27_son named viserys_lord r...",
          "47_all tonight go_septum ma...",
          "7_dragon never ridden_vhaga...",
          "10_wing torn body_tore one ...",
          "8_iron bank braavos_lady la...",
          "26_viserys targaryen my_act...",
          "19_daemon targaryen returne...",
          "48_lord commander queensgua...",
          "32_ser willam wasp_abandoni...",
          "36_across face rhaena_remai...",
          "12_time put end_your grace ...",
          "44_crystal crown septon_new...",
          "21_modest fishing village_k...",
          "1_velaryon sea snake_gedmun...",
          "49_take part fighting_she s...",
          "16_grand maester benifer_mo...",
          "22_child daughter named_swe...",
          "37_79 ac she_saera three ye...",
          "51_king jaehaerys targaryen...",
          "14_lord cregan stark_ser pe...",
          "28_kingdom three daughters_...",
          "39_ser tyland lannister_ser...",
          "18_grand maester orwyle_gra...",
          "20_lord unwin peake_daughte...",
          "5_grand maester munkun_king...",
          "33_ser lucas leygood_leygoo...",
          "6_king landing mushroom_gra..."
         ],
         "tickvals": [
          -5,
          -15,
          -25,
          -35,
          -45,
          -55,
          -65,
          -75,
          -85,
          -95,
          -105,
          -115,
          -125,
          -135,
          -145,
          -155,
          -165,
          -175,
          -185,
          -195,
          -205,
          -215,
          -225,
          -235,
          -245,
          -255,
          -265,
          -275,
          -285,
          -295,
          -305,
          -315,
          -325,
          -335,
          -345,
          -355,
          -365,
          -375,
          -385,
          -395,
          -405,
          -415,
          -425,
          -435,
          -445,
          -455,
          -465,
          -475,
          -485,
          -495,
          -505,
          -515
         ],
         "type": "linear",
         "zeroline": false
        }
       }
      }
     },
     "metadata": {},
     "output_type": "display_data"
    }
   ],
   "source": [
    "hierarchical_topics = topic_model.hierarchical_topics(data_dict[\"paragraphs\"])\n",
    "topic_model.visualize_hierarchy(hierarchical_topics=hierarchical_topics)"
   ]
  },
  {
   "cell_type": "code",
   "execution_count": 44,
   "metadata": {},
   "outputs": [
    {
     "data": {
      "text/html": [
       "<div>\n",
       "<style scoped>\n",
       "    .dataframe tbody tr th:only-of-type {\n",
       "        vertical-align: middle;\n",
       "    }\n",
       "\n",
       "    .dataframe tbody tr th {\n",
       "        vertical-align: top;\n",
       "    }\n",
       "\n",
       "    .dataframe thead th {\n",
       "        text-align: right;\n",
       "    }\n",
       "</style>\n",
       "<table border=\"1\" class=\"dataframe\">\n",
       "  <thead>\n",
       "    <tr style=\"text-align: right;\">\n",
       "      <th></th>\n",
       "      <th>id</th>\n",
       "      <th>paragraphs</th>\n",
       "      <th>words</th>\n",
       "      <th>word_count</th>\n",
       "      <th>topic_prediction</th>\n",
       "    </tr>\n",
       "  </thead>\n",
       "  <tbody>\n",
       "    <tr>\n",
       "      <th>0</th>\n",
       "      <td>101</td>\n",
       "      <td>The scroll Jaehaerys open giving final result ...</td>\n",
       "      <td>['The', 'scroll', 'Jaehaerys', 'open', 'giving...</td>\n",
       "      <td>31</td>\n",
       "      <td>-1</td>\n",
       "    </tr>\n",
       "    <tr>\n",
       "      <th>1</th>\n",
       "      <td>102</td>\n",
       "      <td>The phrasing son may caused confusion whether ...</td>\n",
       "      <td>['The', 'phrasing', 'son', 'may', 'caused', 'c...</td>\n",
       "      <td>40</td>\n",
       "      <td>-1</td>\n",
       "    </tr>\n",
       "    <tr>\n",
       "      <th>2</th>\n",
       "      <td>103</td>\n",
       "      <td>The detail Great Council Harrenhal somewhat co...</td>\n",
       "      <td>['The', 'detail', 'Great', 'Council', 'Harrenh...</td>\n",
       "      <td>61</td>\n",
       "      <td>-1</td>\n",
       "    </tr>\n",
       "    <tr>\n",
       "      <th>3</th>\n",
       "      <td>104</td>\n",
       "      <td>Jaehaerys physically present Harrenhal long de...</td>\n",
       "      <td>['Jaehaerys', 'physically', 'present', 'Harren...</td>\n",
       "      <td>18</td>\n",
       "      <td>36</td>\n",
       "    </tr>\n",
       "    <tr>\n",
       "      <th>4</th>\n",
       "      <td>106</td>\n",
       "      <td>The entire brief council scene filmed entirely...</td>\n",
       "      <td>['The', 'entire', 'brief', 'council', 'scene',...</td>\n",
       "      <td>68</td>\n",
       "      <td>3</td>\n",
       "    </tr>\n",
       "    <tr>\n",
       "      <th>5</th>\n",
       "      <td>107</td>\n",
       "      <td>The Small Council</td>\n",
       "      <td>['The', 'Small', 'Council']</td>\n",
       "      <td>3</td>\n",
       "      <td>-1</td>\n",
       "    </tr>\n",
       "    <tr>\n",
       "      <th>6</th>\n",
       "      <td>108</td>\n",
       "      <td>Viserys Small Council episode consists Otto Hi...</td>\n",
       "      <td>['Viserys', 'Small', 'Council', 'episode', 'co...</td>\n",
       "      <td>51</td>\n",
       "      <td>-1</td>\n",
       "    </tr>\n",
       "    <tr>\n",
       "      <th>7</th>\n",
       "      <td>109</td>\n",
       "      <td>The Small Council somewhat condensed book Corl...</td>\n",
       "      <td>['The', 'Small', 'Council', 'somewhat', 'conde...</td>\n",
       "      <td>59</td>\n",
       "      <td>-1</td>\n",
       "    </tr>\n",
       "    <tr>\n",
       "      <th>8</th>\n",
       "      <td>110</td>\n",
       "      <td>Corlys Velaryon introduces recent alliance Fre...</td>\n",
       "      <td>['Corlys', 'Velaryon', 'introduces', 'recent',...</td>\n",
       "      <td>32</td>\n",
       "      <td>28</td>\n",
       "    </tr>\n",
       "    <tr>\n",
       "      <th>9</th>\n",
       "      <td>111</td>\n",
       "      <td>Grand Maester Mellos TV series condensation tw...</td>\n",
       "      <td>['Grand', 'Maester', 'Mellos', 'TV', 'series',...</td>\n",
       "      <td>44</td>\n",
       "      <td>-1</td>\n",
       "    </tr>\n",
       "  </tbody>\n",
       "</table>\n",
       "</div>"
      ],
      "text/plain": [
       "    id                                         paragraphs  \\\n",
       "0  101  The scroll Jaehaerys open giving final result ...   \n",
       "1  102  The phrasing son may caused confusion whether ...   \n",
       "2  103  The detail Great Council Harrenhal somewhat co...   \n",
       "3  104  Jaehaerys physically present Harrenhal long de...   \n",
       "4  106  The entire brief council scene filmed entirely...   \n",
       "5  107                                  The Small Council   \n",
       "6  108  Viserys Small Council episode consists Otto Hi...   \n",
       "7  109  The Small Council somewhat condensed book Corl...   \n",
       "8  110  Corlys Velaryon introduces recent alliance Fre...   \n",
       "9  111  Grand Maester Mellos TV series condensation tw...   \n",
       "\n",
       "                                               words  word_count  \\\n",
       "0  ['The', 'scroll', 'Jaehaerys', 'open', 'giving...          31   \n",
       "1  ['The', 'phrasing', 'son', 'may', 'caused', 'c...          40   \n",
       "2  ['The', 'detail', 'Great', 'Council', 'Harrenh...          61   \n",
       "3  ['Jaehaerys', 'physically', 'present', 'Harren...          18   \n",
       "4  ['The', 'entire', 'brief', 'council', 'scene',...          68   \n",
       "5                        ['The', 'Small', 'Council']           3   \n",
       "6  ['Viserys', 'Small', 'Council', 'episode', 'co...          51   \n",
       "7  ['The', 'Small', 'Council', 'somewhat', 'conde...          59   \n",
       "8  ['Corlys', 'Velaryon', 'introduces', 'recent',...          32   \n",
       "9  ['Grand', 'Maester', 'Mellos', 'TV', 'series',...          44   \n",
       "\n",
       "   topic_prediction  \n",
       "0                -1  \n",
       "1                -1  \n",
       "2                -1  \n",
       "3                36  \n",
       "4                 3  \n",
       "5                -1  \n",
       "6                -1  \n",
       "7                -1  \n",
       "8                28  \n",
       "9                -1  "
      ]
     },
     "execution_count": 44,
     "metadata": {},
     "output_type": "execute_result"
    }
   ],
   "source": [
    "# Get the topic predictions\n",
    "topic_prediction = topic_model.topics_[:]\n",
    "# Save the predictions in the dataframe\n",
    "dataframe['topic_prediction'] = topic_prediction\n",
    "# Take a look at the data\n",
    "dataframe.head(10)"
   ]
  },
  {
   "cell_type": "code",
   "execution_count": 53,
   "metadata": {},
   "outputs": [],
   "source": [
    "from collections import defaultdict\n",
    "grouped = dataframe.groupby(\"topic_prediction\")\n",
    "topics = defaultdict(list)\n",
    "for topicID, group in grouped:\n",
    "    for sentence in group[\"paragraphs\"]:\n",
    "        topics[topicID].extend(sentence.split(\" \"))"
   ]
  },
  {
   "cell_type": "code",
   "execution_count": 58,
   "metadata": {},
   "outputs": [],
   "source": [
    "with open('your_file.txt', 'w') as f:\n",
    "    for line in topics[0]:\n",
    "        f.write(\"%s\\n\" % line)"
   ]
  },
  {
   "cell_type": "code",
   "execution_count": null,
   "metadata": {},
   "outputs": [],
   "source": []
  }
 ],
 "metadata": {
  "kernelspec": {
   "display_name": "base",
   "language": "python",
   "name": "python3"
  },
  "language_info": {
   "codemirror_mode": {
    "name": "ipython",
    "version": 3
   },
   "file_extension": ".py",
   "mimetype": "text/x-python",
   "name": "python",
   "nbconvert_exporter": "python",
   "pygments_lexer": "ipython3",
   "version": "3.8.8"
  },
  "orig_nbformat": 4
 },
 "nbformat": 4,
 "nbformat_minor": 2
}
